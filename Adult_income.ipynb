{
 "cells": [
  {
   "cell_type": "markdown",
   "metadata": {},
   "source": [
    "# Importimi i librarive "
   ]
  },
  {
   "cell_type": "code",
   "execution_count": 1,
   "metadata": {},
   "outputs": [],
   "source": [
    "import numpy as np\n",
    "import pandas as pd\n",
    "import matplotlib.pyplot as plt\n",
    "import seaborn as sns\n",
    "from sklearn.model_selection import train_test_split \n",
    "from sklearn.linear_model import LogisticRegression\n",
    "from sklearn import metrics\n",
    "%matplotlib inline\n",
    "import warnings\n",
    "warnings.filterwarnings('ignore')"
   ]
  },
  {
   "cell_type": "markdown",
   "metadata": {},
   "source": [
    "# Dataset-i"
   ]
  },
  {
   "cell_type": "code",
   "execution_count": 2,
   "metadata": {},
   "outputs": [],
   "source": [
    "df_adult = pd.read_csv('adult.csv')"
   ]
  },
  {
   "cell_type": "code",
   "execution_count": 3,
   "metadata": {
    "scrolled": false
   },
   "outputs": [
    {
     "data": {
      "text/html": [
       "<div>\n",
       "<style scoped>\n",
       "    .dataframe tbody tr th:only-of-type {\n",
       "        vertical-align: middle;\n",
       "    }\n",
       "\n",
       "    .dataframe tbody tr th {\n",
       "        vertical-align: top;\n",
       "    }\n",
       "\n",
       "    .dataframe thead th {\n",
       "        text-align: right;\n",
       "    }\n",
       "</style>\n",
       "<table border=\"1\" class=\"dataframe\">\n",
       "  <thead>\n",
       "    <tr style=\"text-align: right;\">\n",
       "      <th></th>\n",
       "      <th>age</th>\n",
       "      <th>workclass</th>\n",
       "      <th>fnlwgt</th>\n",
       "      <th>education</th>\n",
       "      <th>educational-num</th>\n",
       "      <th>marital-status</th>\n",
       "      <th>occupation</th>\n",
       "      <th>relationship</th>\n",
       "      <th>race</th>\n",
       "      <th>gender</th>\n",
       "      <th>capital-gain</th>\n",
       "      <th>capital-loss</th>\n",
       "      <th>hours-per-week</th>\n",
       "      <th>native-country</th>\n",
       "      <th>income</th>\n",
       "    </tr>\n",
       "  </thead>\n",
       "  <tbody>\n",
       "    <tr>\n",
       "      <td>0</td>\n",
       "      <td>25</td>\n",
       "      <td>Private</td>\n",
       "      <td>226802</td>\n",
       "      <td>11th</td>\n",
       "      <td>7</td>\n",
       "      <td>Never-married</td>\n",
       "      <td>Machine-op-inspct</td>\n",
       "      <td>Own-child</td>\n",
       "      <td>Black</td>\n",
       "      <td>Male</td>\n",
       "      <td>0</td>\n",
       "      <td>0</td>\n",
       "      <td>40</td>\n",
       "      <td>United-States</td>\n",
       "      <td>&lt;=50K</td>\n",
       "    </tr>\n",
       "    <tr>\n",
       "      <td>1</td>\n",
       "      <td>38</td>\n",
       "      <td>Private</td>\n",
       "      <td>89814</td>\n",
       "      <td>HS-grad</td>\n",
       "      <td>9</td>\n",
       "      <td>Married-civ-spouse</td>\n",
       "      <td>Farming-fishing</td>\n",
       "      <td>Husband</td>\n",
       "      <td>White</td>\n",
       "      <td>Male</td>\n",
       "      <td>0</td>\n",
       "      <td>0</td>\n",
       "      <td>50</td>\n",
       "      <td>United-States</td>\n",
       "      <td>&lt;=50K</td>\n",
       "    </tr>\n",
       "    <tr>\n",
       "      <td>2</td>\n",
       "      <td>28</td>\n",
       "      <td>Local-gov</td>\n",
       "      <td>336951</td>\n",
       "      <td>Assoc-acdm</td>\n",
       "      <td>12</td>\n",
       "      <td>Married-civ-spouse</td>\n",
       "      <td>Protective-serv</td>\n",
       "      <td>Husband</td>\n",
       "      <td>White</td>\n",
       "      <td>Male</td>\n",
       "      <td>0</td>\n",
       "      <td>0</td>\n",
       "      <td>40</td>\n",
       "      <td>United-States</td>\n",
       "      <td>&gt;50K</td>\n",
       "    </tr>\n",
       "    <tr>\n",
       "      <td>3</td>\n",
       "      <td>44</td>\n",
       "      <td>Private</td>\n",
       "      <td>160323</td>\n",
       "      <td>Some-college</td>\n",
       "      <td>10</td>\n",
       "      <td>Married-civ-spouse</td>\n",
       "      <td>Machine-op-inspct</td>\n",
       "      <td>Husband</td>\n",
       "      <td>Black</td>\n",
       "      <td>Male</td>\n",
       "      <td>7688</td>\n",
       "      <td>0</td>\n",
       "      <td>40</td>\n",
       "      <td>United-States</td>\n",
       "      <td>&gt;50K</td>\n",
       "    </tr>\n",
       "    <tr>\n",
       "      <td>4</td>\n",
       "      <td>18</td>\n",
       "      <td>?</td>\n",
       "      <td>103497</td>\n",
       "      <td>Some-college</td>\n",
       "      <td>10</td>\n",
       "      <td>Never-married</td>\n",
       "      <td>?</td>\n",
       "      <td>Own-child</td>\n",
       "      <td>White</td>\n",
       "      <td>Female</td>\n",
       "      <td>0</td>\n",
       "      <td>0</td>\n",
       "      <td>30</td>\n",
       "      <td>United-States</td>\n",
       "      <td>&lt;=50K</td>\n",
       "    </tr>\n",
       "  </tbody>\n",
       "</table>\n",
       "</div>"
      ],
      "text/plain": [
       "   age  workclass  fnlwgt     education  educational-num      marital-status  \\\n",
       "0   25    Private  226802          11th                7       Never-married   \n",
       "1   38    Private   89814       HS-grad                9  Married-civ-spouse   \n",
       "2   28  Local-gov  336951    Assoc-acdm               12  Married-civ-spouse   \n",
       "3   44    Private  160323  Some-college               10  Married-civ-spouse   \n",
       "4   18          ?  103497  Some-college               10       Never-married   \n",
       "\n",
       "          occupation relationship   race  gender  capital-gain  capital-loss  \\\n",
       "0  Machine-op-inspct    Own-child  Black    Male             0             0   \n",
       "1    Farming-fishing      Husband  White    Male             0             0   \n",
       "2    Protective-serv      Husband  White    Male             0             0   \n",
       "3  Machine-op-inspct      Husband  Black    Male          7688             0   \n",
       "4                  ?    Own-child  White  Female             0             0   \n",
       "\n",
       "   hours-per-week native-country income  \n",
       "0              40  United-States  <=50K  \n",
       "1              50  United-States  <=50K  \n",
       "2              40  United-States   >50K  \n",
       "3              40  United-States   >50K  \n",
       "4              30  United-States  <=50K  "
      ]
     },
     "execution_count": 3,
     "metadata": {},
     "output_type": "execute_result"
    }
   ],
   "source": [
    "df_adult.head()"
   ]
  },
  {
   "cell_type": "markdown",
   "metadata": {},
   "source": [
    "Dimensionaliteti i setit të të dhënave"
   ]
  },
  {
   "cell_type": "code",
   "execution_count": 4,
   "metadata": {},
   "outputs": [
    {
     "data": {
      "text/plain": [
       "(48842, 15)"
      ]
     },
     "execution_count": 4,
     "metadata": {},
     "output_type": "execute_result"
    }
   ],
   "source": [
    "df_adult.shape"
   ]
  },
  {
   "cell_type": "markdown",
   "metadata": {},
   "source": [
    "Tipi i variablave"
   ]
  },
  {
   "cell_type": "code",
   "execution_count": 5,
   "metadata": {},
   "outputs": [
    {
     "name": "stdout",
     "output_type": "stream",
     "text": [
      "<class 'pandas.core.frame.DataFrame'>\n",
      "RangeIndex: 48842 entries, 0 to 48841\n",
      "Data columns (total 15 columns):\n",
      "age                48842 non-null int64\n",
      "workclass          48842 non-null object\n",
      "fnlwgt             48842 non-null int64\n",
      "education          48842 non-null object\n",
      "educational-num    48842 non-null int64\n",
      "marital-status     48842 non-null object\n",
      "occupation         48842 non-null object\n",
      "relationship       48842 non-null object\n",
      "race               48842 non-null object\n",
      "gender             48842 non-null object\n",
      "capital-gain       48842 non-null int64\n",
      "capital-loss       48842 non-null int64\n",
      "hours-per-week     48842 non-null int64\n",
      "native-country     48842 non-null object\n",
      "income             48842 non-null object\n",
      "dtypes: int64(6), object(9)\n",
      "memory usage: 5.6+ MB\n"
     ]
    }
   ],
   "source": [
    "df_adult.info()"
   ]
  },
  {
   "cell_type": "markdown",
   "metadata": {},
   "source": [
    "Pershkrimi i variablave numerike, statistikat permbledhese"
   ]
  },
  {
   "cell_type": "code",
   "execution_count": 6,
   "metadata": {},
   "outputs": [
    {
     "data": {
      "text/html": [
       "<div>\n",
       "<style scoped>\n",
       "    .dataframe tbody tr th:only-of-type {\n",
       "        vertical-align: middle;\n",
       "    }\n",
       "\n",
       "    .dataframe tbody tr th {\n",
       "        vertical-align: top;\n",
       "    }\n",
       "\n",
       "    .dataframe thead th {\n",
       "        text-align: right;\n",
       "    }\n",
       "</style>\n",
       "<table border=\"1\" class=\"dataframe\">\n",
       "  <thead>\n",
       "    <tr style=\"text-align: right;\">\n",
       "      <th></th>\n",
       "      <th>age</th>\n",
       "      <th>fnlwgt</th>\n",
       "      <th>educational-num</th>\n",
       "      <th>capital-gain</th>\n",
       "      <th>capital-loss</th>\n",
       "      <th>hours-per-week</th>\n",
       "    </tr>\n",
       "  </thead>\n",
       "  <tbody>\n",
       "    <tr>\n",
       "      <td>count</td>\n",
       "      <td>48842.000000</td>\n",
       "      <td>4.884200e+04</td>\n",
       "      <td>48842.000000</td>\n",
       "      <td>48842.000000</td>\n",
       "      <td>48842.000000</td>\n",
       "      <td>48842.000000</td>\n",
       "    </tr>\n",
       "    <tr>\n",
       "      <td>mean</td>\n",
       "      <td>38.643585</td>\n",
       "      <td>1.896641e+05</td>\n",
       "      <td>10.078089</td>\n",
       "      <td>1079.067626</td>\n",
       "      <td>87.502314</td>\n",
       "      <td>40.422382</td>\n",
       "    </tr>\n",
       "    <tr>\n",
       "      <td>std</td>\n",
       "      <td>13.710510</td>\n",
       "      <td>1.056040e+05</td>\n",
       "      <td>2.570973</td>\n",
       "      <td>7452.019058</td>\n",
       "      <td>403.004552</td>\n",
       "      <td>12.391444</td>\n",
       "    </tr>\n",
       "    <tr>\n",
       "      <td>min</td>\n",
       "      <td>17.000000</td>\n",
       "      <td>1.228500e+04</td>\n",
       "      <td>1.000000</td>\n",
       "      <td>0.000000</td>\n",
       "      <td>0.000000</td>\n",
       "      <td>1.000000</td>\n",
       "    </tr>\n",
       "    <tr>\n",
       "      <td>25%</td>\n",
       "      <td>28.000000</td>\n",
       "      <td>1.175505e+05</td>\n",
       "      <td>9.000000</td>\n",
       "      <td>0.000000</td>\n",
       "      <td>0.000000</td>\n",
       "      <td>40.000000</td>\n",
       "    </tr>\n",
       "    <tr>\n",
       "      <td>50%</td>\n",
       "      <td>37.000000</td>\n",
       "      <td>1.781445e+05</td>\n",
       "      <td>10.000000</td>\n",
       "      <td>0.000000</td>\n",
       "      <td>0.000000</td>\n",
       "      <td>40.000000</td>\n",
       "    </tr>\n",
       "    <tr>\n",
       "      <td>75%</td>\n",
       "      <td>48.000000</td>\n",
       "      <td>2.376420e+05</td>\n",
       "      <td>12.000000</td>\n",
       "      <td>0.000000</td>\n",
       "      <td>0.000000</td>\n",
       "      <td>45.000000</td>\n",
       "    </tr>\n",
       "    <tr>\n",
       "      <td>max</td>\n",
       "      <td>90.000000</td>\n",
       "      <td>1.490400e+06</td>\n",
       "      <td>16.000000</td>\n",
       "      <td>99999.000000</td>\n",
       "      <td>4356.000000</td>\n",
       "      <td>99.000000</td>\n",
       "    </tr>\n",
       "  </tbody>\n",
       "</table>\n",
       "</div>"
      ],
      "text/plain": [
       "                age        fnlwgt  educational-num  capital-gain  \\\n",
       "count  48842.000000  4.884200e+04     48842.000000  48842.000000   \n",
       "mean      38.643585  1.896641e+05        10.078089   1079.067626   \n",
       "std       13.710510  1.056040e+05         2.570973   7452.019058   \n",
       "min       17.000000  1.228500e+04         1.000000      0.000000   \n",
       "25%       28.000000  1.175505e+05         9.000000      0.000000   \n",
       "50%       37.000000  1.781445e+05        10.000000      0.000000   \n",
       "75%       48.000000  2.376420e+05        12.000000      0.000000   \n",
       "max       90.000000  1.490400e+06        16.000000  99999.000000   \n",
       "\n",
       "       capital-loss  hours-per-week  \n",
       "count  48842.000000    48842.000000  \n",
       "mean      87.502314       40.422382  \n",
       "std      403.004552       12.391444  \n",
       "min        0.000000        1.000000  \n",
       "25%        0.000000       40.000000  \n",
       "50%        0.000000       40.000000  \n",
       "75%        0.000000       45.000000  \n",
       "max     4356.000000       99.000000  "
      ]
     },
     "execution_count": 6,
     "metadata": {},
     "output_type": "execute_result"
    }
   ],
   "source": [
    "df_adult.describe()"
   ]
  },
  {
   "cell_type": "markdown",
   "metadata": {},
   "source": [
    "# Eksplorimi i te dhenave"
   ]
  },
  {
   "cell_type": "markdown",
   "metadata": {},
   "source": [
    "Vizualizimi i te dhenave"
   ]
  },
  {
   "cell_type": "markdown",
   "metadata": {},
   "source": [
    "Vizualizimi i variables 'age'"
   ]
  },
  {
   "cell_type": "code",
   "execution_count": 34,
   "metadata": {},
   "outputs": [
    {
     "data": {
      "image/png": "[encoded data removed]",
      "text/plain": [
       "<Figure size 864x576 with 1 Axes>"
      ]
     },
     "metadata": {
      "needs_background": "light"
     },
     "output_type": "display_data"
    }
   ],
   "source": [
    "ax = df_adult.hist(column='age', bins=25, grid=False, figsize=(12,8), color='#86bf91', zorder=2, rwidth=0.9)\n",
    "\n",
    "ax = ax[0]\n",
    "for x in ax:\n",
    "\n",
    "    x.spines['right'].set_visible(False)\n",
    "    x.spines['top'].set_visible(False)\n",
    "    x.spines['left'].set_visible(False)\n",
    "\n",
    "    x.tick_params(axis=\"both\", which=\"both\", bottom=\"off\", top=\"off\", labelbottom=\"on\", left=\"off\", right=\"off\", labelleft=\"on\")\n",
    "\n",
    "    vals = x.get_yticks()\n",
    "    for tick in vals:\n",
    "        x.axhline(y=tick, linestyle='dashed', alpha=0.4, color='#eeeeee', zorder=1)\n",
    "\n",
    "    x.set_title(\"Age\")\n",
    "\n",
    "    x.set_xlabel(\"Age\", labelpad=20, weight='bold', size=12)\n",
    "\n",
    "    x.set_ylabel(\"\", labelpad=20, weight='bold', size=12)\n"
   ]
  },
  {
   "cell_type": "markdown",
   "metadata": {},
   "source": [
    "Vizualizimi i variables 'educational-num'"
   ]
  },
  {
   "cell_type": "code",
   "execution_count": 62,
   "metadata": {},
   "outputs": [
    {
     "data": {
      "image/png": "[encoded data removed]",
      "text/plain": [
       "<Figure size 864x576 with 1 Axes>"
      ]
     },
     "metadata": {
      "needs_background": "light"
     },
     "output_type": "display_data"
    }
   ],
   "source": [
    "ax = df_adult.hist(column='educational-num', bins=25, grid=False, figsize=(12,8), color='#86bf91', zorder=2, rwidth=0.9)\n",
    "\n",
    "ax = ax[0]\n",
    "for x in ax:\n",
    "\n",
    "    x.spines['right'].set_visible(False)\n",
    "    x.spines['top'].set_visible(False)\n",
    "    x.spines['left'].set_visible(False)\n",
    "\n",
    "    x.tick_params(axis=\"both\", which=\"both\", bottom=\"off\", top=\"off\", labelbottom=\"on\", left=\"off\", right=\"off\", labelleft=\"on\")\n",
    "\n",
    "    vals = x.get_yticks()\n",
    "    for tick in vals:\n",
    "        x.axhline(y=tick, linestyle='dashed', alpha=0.4, color='#eeeeee', zorder=1)\n",
    "\n",
    "    x.set_title(\"Educational number\")\n",
    "\n",
    "    x.set_xlabel(\"Educational number\", labelpad=20, weight='bold', size=12)\n",
    "\n",
    "    x.set_ylabel(\"\", labelpad=20, weight='bold', size=12)\n"
   ]
  },
  {
   "cell_type": "markdown",
   "metadata": {},
   "source": [
    "Vizualizimi i variables 'Capital-loss'"
   ]
  },
  {
   "cell_type": "code",
   "execution_count": 63,
   "metadata": {},
   "outputs": [
    {
     "data": {
      "image/png": "[encoded data removed]",
      "text/plain": [
       "<Figure size 864x576 with 1 Axes>"
      ]
     },
     "metadata": {
      "needs_background": "light"
     },
     "output_type": "display_data"
    }
   ],
   "source": [
    "ax = df_adult.hist(column='capital-loss', bins=25, grid=False, figsize=(12,8), color='#86bf91', zorder=2, rwidth=0.9)\n",
    "\n",
    "ax = ax[0]\n",
    "for x in ax:\n",
    "\n",
    "    x.spines['right'].set_visible(False)\n",
    "    x.spines['top'].set_visible(False)\n",
    "    x.spines['left'].set_visible(False)\n",
    "\n",
    "    x.tick_params(axis=\"both\", which=\"both\", bottom=\"off\", top=\"off\", labelbottom=\"on\", left=\"off\", right=\"off\", labelleft=\"on\")\n",
    "\n",
    "    vals = x.get_yticks()\n",
    "    for tick in vals:\n",
    "        x.axhline(y=tick, linestyle='dashed', alpha=0.4, color='#eeeeee', zorder=1)\n",
    "\n",
    "    x.set_title(\"Capital-loss\")\n",
    "\n",
    "    x.set_xlabel(\"Capital-loss\", labelpad=20, weight='bold', size=12)\n",
    "\n",
    "    x.set_ylabel(\"\", labelpad=20, weight='bold', size=12)\n"
   ]
  },
  {
   "cell_type": "markdown",
   "metadata": {},
   "source": [
    "Vizualizimi i variables 'Capital-gain'"
   ]
  },
  {
   "cell_type": "code",
   "execution_count": 64,
   "metadata": {},
   "outputs": [
    {
     "data": {
      "image/png": "[encoded data removed]",
      "text/plain": [
       "<Figure size 864x576 with 1 Axes>"
      ]
     },
     "metadata": {
      "needs_background": "light"
     },
     "output_type": "display_data"
    }
   ],
   "source": [
    "ax = df_adult.hist(column='capital-gain', bins=25, grid=False, figsize=(12,8), color='#86bf91', zorder=2, rwidth=0.9)\n",
    "\n",
    "ax = ax[0]\n",
    "for x in ax:\n",
    "\n",
    "    x.spines['right'].set_visible(False)\n",
    "    x.spines['top'].set_visible(False)\n",
    "    x.spines['left'].set_visible(False)\n",
    "\n",
    "    x.tick_params(axis=\"both\", which=\"both\", bottom=\"off\", top=\"off\", labelbottom=\"on\", left=\"off\", right=\"off\", labelleft=\"on\")\n",
    "\n",
    "    vals = x.get_yticks()\n",
    "    for tick in vals:\n",
    "        x.axhline(y=tick, linestyle='dashed', alpha=0.4, color='#eeeeee', zorder=1)\n",
    "\n",
    "    x.set_title(\"Capital-gain\")\n",
    "\n",
    "    x.set_xlabel(\"Capital-gain\", labelpad=20, weight='bold', size=12)\n",
    "\n",
    "    x.set_ylabel(\"\", labelpad=20, weight='bold', size=12)"
   ]
  },
  {
   "cell_type": "markdown",
   "metadata": {},
   "source": [
    "Vizualizimi i variables 'Hours-per-week'"
   ]
  },
  {
   "cell_type": "code",
   "execution_count": 65,
   "metadata": {},
   "outputs": [
    {
     "data": {
      "image/png": "[encoded data removed]",
      "text/plain": [
       "<Figure size 864x576 with 1 Axes>"
      ]
     },
     "metadata": {
      "needs_background": "light"
     },
     "output_type": "display_data"
    }
   ],
   "source": [
    "ax = df_adult.hist(column='hours-per-week', bins=25, grid=False, figsize=(12,8), color='#86bf91', zorder=2, rwidth=0.9)\n",
    "\n",
    "ax = ax[0]\n",
    "for x in ax:\n",
    "\n",
    "    # Despine\n",
    "    x.spines['right'].set_visible(False)\n",
    "    x.spines['top'].set_visible(False)\n",
    "    x.spines['left'].set_visible(False)\n",
    "\n",
    "    # Switch off ticks\n",
    "    x.tick_params(axis=\"both\", which=\"both\", bottom=\"off\", top=\"off\", labelbottom=\"on\", left=\"off\", right=\"off\", labelleft=\"on\")\n",
    "\n",
    "    # Draw horizontal axis lines\n",
    "    vals = x.get_yticks()\n",
    "    for tick in vals:\n",
    "        x.axhline(y=tick, linestyle='dashed', alpha=0.4, color='#eeeeee', zorder=1)\n",
    "\n",
    "    # Remove title\n",
    "    x.set_title(\"Hours-per-week\")\n",
    "\n",
    "    # Set x-axis label\n",
    "    x.set_xlabel(\"Hours-per-week\", labelpad=20, weight='bold', size=12)\n",
    "\n",
    "    # Set y-axis label\n",
    "    x.set_ylabel(\"\", labelpad=20, weight='bold', size=12)\n",
    "\n",
    "    # Format y-axis label\n",
    "  #  x.yaxis.set_major_formatter(StrMethodFormatter('{x:,g}'))"
   ]
  },
  {
   "cell_type": "code",
   "execution_count": 66,
   "metadata": {},
   "outputs": [],
   "source": [
    "cat_attributes =df_adult.select_dtypes(include=['object'])"
   ]
  },
  {
   "cell_type": "markdown",
   "metadata": {},
   "source": [
    "Vizualizimi i variables 'workclass'"
   ]
  },
  {
   "cell_type": "code",
   "execution_count": 67,
   "metadata": {},
   "outputs": [
    {
     "data": {
      "image/png": "[encoded data removed]",
      "text/plain": [
       "<Figure size 720x360 with 1 Axes>"
      ]
     },
     "metadata": {
      "needs_background": "light"
     },
     "output_type": "display_data"
    }
   ],
   "source": [
    "sns.catplot(x=\"workclass\", kind=\"count\", palette=\"ch:.25\", data=cat_attributes,height=5,aspect=2);"
   ]
  },
  {
   "cell_type": "markdown",
   "metadata": {},
   "source": [
    "Vizualizimi i variables 'education'"
   ]
  },
  {
   "cell_type": "code",
   "execution_count": 68,
   "metadata": {},
   "outputs": [
    {
     "data": {
      "image/png": "[encoded data removed]",
      "text/plain": [
       "<Figure size 720x360 with 1 Axes>"
      ]
     },
     "metadata": {
      "needs_background": "light"
     },
     "output_type": "display_data"
    }
   ],
   "source": [
    "sns.catplot(y=\"education\", kind=\"count\", palette=\"ch:.5\", data=cat_attributes,height=5,aspect=2);"
   ]
  },
  {
   "cell_type": "markdown",
   "metadata": {},
   "source": [
    "Vizualizimi i variables 'marital-status'"
   ]
  },
  {
   "cell_type": "code",
   "execution_count": 69,
   "metadata": {},
   "outputs": [
    {
     "data": {
      "image/png": "[encoded data removed]",
      "text/plain": [
       "<Figure size 828x360 with 1 Axes>"
      ]
     },
     "metadata": {
      "needs_background": "light"
     },
     "output_type": "display_data"
    }
   ],
   "source": [
    "sns.catplot(x=\"marital-status\", kind=\"count\", palette=\"ch:.1\", data=cat_attributes,height=5,aspect=2.3);"
   ]
  },
  {
   "cell_type": "markdown",
   "metadata": {},
   "source": [
    "Vizualizimi i variables 'relationship'"
   ]
  },
  {
   "cell_type": "code",
   "execution_count": 70,
   "metadata": {},
   "outputs": [
    {
     "data": {
      "image/png": "[encoded data removed]",
      "text/plain": [
       "<Figure size 540x360 with 1 Axes>"
      ]
     },
     "metadata": {
      "needs_background": "light"
     },
     "output_type": "display_data"
    }
   ],
   "source": [
    "sns.catplot(x=\"relationship\", kind=\"count\", palette=\"ch:.5\", data=cat_attributes,height=5,aspect=1.5);"
   ]
  },
  {
   "cell_type": "markdown",
   "metadata": {},
   "source": [
    "Vizualizimi i variables 'gender'"
   ]
  },
  {
   "cell_type": "code",
   "execution_count": 71,
   "metadata": {},
   "outputs": [
    {
     "data": {
      "image/png": "[encoded data removed]",
      "text/plain": [
       "<Figure size 360x360 with 1 Axes>"
      ]
     },
     "metadata": {
      "needs_background": "light"
     },
     "output_type": "display_data"
    }
   ],
   "source": [
    "sns.catplot(x=\"gender\", kind=\"count\", palette=\"ch:.0\", data=cat_attributes,height=5,aspect=1);"
   ]
  },
  {
   "cell_type": "markdown",
   "metadata": {},
   "source": [
    "Vizualizimi i variables 'race'"
   ]
  },
  {
   "cell_type": "code",
   "execution_count": 72,
   "metadata": {
    "scrolled": true
   },
   "outputs": [
    {
     "data": {
      "image/png": "[encoded data removed]",
      "text/plain": [
       "<Figure size 540x360 with 1 Axes>"
      ]
     },
     "metadata": {
      "needs_background": "light"
     },
     "output_type": "display_data"
    }
   ],
   "source": [
    "sns.catplot(x=\"race\", kind=\"count\", palette=\"ch:.5\", data=cat_attributes,height=5,aspect=1.5);"
   ]
  },
  {
   "cell_type": "markdown",
   "metadata": {},
   "source": [
    "Vizualizimi i variables 'income'"
   ]
  },
  {
   "cell_type": "code",
   "execution_count": 73,
   "metadata": {},
   "outputs": [
    {
     "data": {
      "image/png": "[encoded data removed]",
      "text/plain": [
       "<Figure size 360x360 with 1 Axes>"
      ]
     },
     "metadata": {
      "needs_background": "light"
     },
     "output_type": "display_data"
    }
   ],
   "source": [
    "sns.catplot(x=\"income\", kind=\"count\", palette=\"ch:.25\", data=cat_attributes,height=5,aspect=1);"
   ]
  },
  {
   "cell_type": "code",
   "execution_count": 74,
   "metadata": {},
   "outputs": [
    {
     "data": {
      "text/plain": [
       "<=50K    37155\n",
       ">50K     11687\n",
       "Name: income, dtype: int64"
      ]
     },
     "execution_count": 74,
     "metadata": {},
     "output_type": "execute_result"
    }
   ],
   "source": [
    "#numri i objekteve sipas tipeve te vlereve te attr. 'income'.\n",
    "df_adult['income'].value_counts()"
   ]
  },
  {
   "cell_type": "markdown",
   "metadata": {},
   "source": [
    "Vizualizimi i variables 'occupation'"
   ]
  },
  {
   "cell_type": "code",
   "execution_count": 75,
   "metadata": {},
   "outputs": [
    {
     "data": {
      "image/png": "[encoded data removed]",
      "text/plain": [
       "<Figure size 720x360 with 1 Axes>"
      ]
     },
     "metadata": {
      "needs_background": "light"
     },
     "output_type": "display_data"
    }
   ],
   "source": [
    "sns.catplot(y=\"occupation\", kind=\"count\", palette=\"ch:.25\", data=cat_attributes,height=5,aspect=2);"
   ]
  },
  {
   "cell_type": "markdown",
   "metadata": {},
   "source": [
    "Vizualizimi i variables 'native-country'"
   ]
  },
  {
   "cell_type": "code",
   "execution_count": 76,
   "metadata": {
    "scrolled": true
   },
   "outputs": [
    {
     "data": {
      "text/plain": [
       "<matplotlib.axes._subplots.AxesSubplot at 0x22ab4592e48>"
      ]
     },
     "execution_count": 76,
     "metadata": {},
     "output_type": "execute_result"
    },
    {
     "data": {
      "image/png": "[encoded data removed]",
      "text/plain": [
       "<Figure size 1080x720 with 1 Axes>"
      ]
     },
     "metadata": {
      "needs_background": "light"
     },
     "output_type": "display_data"
    }
   ],
   "source": [
    "df_adult['native-country'].value_counts().head(13).plot(kind='barh', figsize=(15,10))"
   ]
  },
  {
   "cell_type": "markdown",
   "metadata": {},
   "source": [
    "   Korelacioni i variablave me metoden e pearson"
   ]
  },
  {
   "cell_type": "code",
   "execution_count": 77,
   "metadata": {},
   "outputs": [],
   "source": [
    "#Korelacioni i variablave numerike\n",
    "correlation=df_adult.corr(method ='pearson') "
   ]
  },
  {
   "cell_type": "code",
   "execution_count": 78,
   "metadata": {},
   "outputs": [
    {
     "data": {
      "text/html": [
       "<div>\n",
       "<style scoped>\n",
       "    .dataframe tbody tr th:only-of-type {\n",
       "        vertical-align: middle;\n",
       "    }\n",
       "\n",
       "    .dataframe tbody tr th {\n",
       "        vertical-align: top;\n",
       "    }\n",
       "\n",
       "    .dataframe thead th {\n",
       "        text-align: right;\n",
       "    }\n",
       "</style>\n",
       "<table border=\"1\" class=\"dataframe\">\n",
       "  <thead>\n",
       "    <tr style=\"text-align: right;\">\n",
       "      <th></th>\n",
       "      <th>age</th>\n",
       "      <th>fnlwgt</th>\n",
       "      <th>educational-num</th>\n",
       "      <th>capital-gain</th>\n",
       "      <th>capital-loss</th>\n",
       "      <th>hours-per-week</th>\n",
       "    </tr>\n",
       "  </thead>\n",
       "  <tbody>\n",
       "    <tr>\n",
       "      <td>age</td>\n",
       "      <td>1.000000</td>\n",
       "      <td>-0.076628</td>\n",
       "      <td>0.030940</td>\n",
       "      <td>0.077229</td>\n",
       "      <td>0.056944</td>\n",
       "      <td>0.071558</td>\n",
       "    </tr>\n",
       "    <tr>\n",
       "      <td>fnlwgt</td>\n",
       "      <td>-0.076628</td>\n",
       "      <td>1.000000</td>\n",
       "      <td>-0.038761</td>\n",
       "      <td>-0.003706</td>\n",
       "      <td>-0.004366</td>\n",
       "      <td>-0.013519</td>\n",
       "    </tr>\n",
       "    <tr>\n",
       "      <td>educational-num</td>\n",
       "      <td>0.030940</td>\n",
       "      <td>-0.038761</td>\n",
       "      <td>1.000000</td>\n",
       "      <td>0.125146</td>\n",
       "      <td>0.080972</td>\n",
       "      <td>0.143689</td>\n",
       "    </tr>\n",
       "    <tr>\n",
       "      <td>capital-gain</td>\n",
       "      <td>0.077229</td>\n",
       "      <td>-0.003706</td>\n",
       "      <td>0.125146</td>\n",
       "      <td>1.000000</td>\n",
       "      <td>-0.031441</td>\n",
       "      <td>0.082157</td>\n",
       "    </tr>\n",
       "    <tr>\n",
       "      <td>capital-loss</td>\n",
       "      <td>0.056944</td>\n",
       "      <td>-0.004366</td>\n",
       "      <td>0.080972</td>\n",
       "      <td>-0.031441</td>\n",
       "      <td>1.000000</td>\n",
       "      <td>0.054467</td>\n",
       "    </tr>\n",
       "    <tr>\n",
       "      <td>hours-per-week</td>\n",
       "      <td>0.071558</td>\n",
       "      <td>-0.013519</td>\n",
       "      <td>0.143689</td>\n",
       "      <td>0.082157</td>\n",
       "      <td>0.054467</td>\n",
       "      <td>1.000000</td>\n",
       "    </tr>\n",
       "  </tbody>\n",
       "</table>\n",
       "</div>"
      ],
      "text/plain": [
       "                      age    fnlwgt  educational-num  capital-gain  \\\n",
       "age              1.000000 -0.076628         0.030940      0.077229   \n",
       "fnlwgt          -0.076628  1.000000        -0.038761     -0.003706   \n",
       "educational-num  0.030940 -0.038761         1.000000      0.125146   \n",
       "capital-gain     0.077229 -0.003706         0.125146      1.000000   \n",
       "capital-loss     0.056944 -0.004366         0.080972     -0.031441   \n",
       "hours-per-week   0.071558 -0.013519         0.143689      0.082157   \n",
       "\n",
       "                 capital-loss  hours-per-week  \n",
       "age                  0.056944        0.071558  \n",
       "fnlwgt              -0.004366       -0.013519  \n",
       "educational-num      0.080972        0.143689  \n",
       "capital-gain        -0.031441        0.082157  \n",
       "capital-loss         1.000000        0.054467  \n",
       "hours-per-week       0.054467        1.000000  "
      ]
     },
     "execution_count": 78,
     "metadata": {},
     "output_type": "execute_result"
    }
   ],
   "source": [
    "correlation"
   ]
  },
  {
   "cell_type": "markdown",
   "metadata": {},
   "source": [
    "Stilizimi i matrices se korelacionit"
   ]
  },
  {
   "cell_type": "code",
   "execution_count": 79,
   "metadata": {},
   "outputs": [
    {
     "data": {
      "text/html": [
       "<style  type=\"text/css\" >\n",
       "    #T_a8d3b5f6_7d8b_11ea_ac82_e97aee07b73arow0_col0 {\n",
       "            background-color:  #b40426;\n",
       "            color:  #f1f1f1;\n",
       "        }    #T_a8d3b5f6_7d8b_11ea_ac82_e97aee07b73arow0_col1 {\n",
       "            background-color:  #3b4cc0;\n",
       "            color:  #f1f1f1;\n",
       "        }    #T_a8d3b5f6_7d8b_11ea_ac82_e97aee07b73arow0_col2 {\n",
       "            background-color:  #4f69d9;\n",
       "            color:  #000000;\n",
       "        }    #T_a8d3b5f6_7d8b_11ea_ac82_e97aee07b73arow0_col3 {\n",
       "            background-color:  #5a78e4;\n",
       "            color:  #000000;\n",
       "        }    #T_a8d3b5f6_7d8b_11ea_ac82_e97aee07b73arow0_col4 {\n",
       "            background-color:  #5470de;\n",
       "            color:  #000000;\n",
       "        }    #T_a8d3b5f6_7d8b_11ea_ac82_e97aee07b73arow0_col5 {\n",
       "            background-color:  #5470de;\n",
       "            color:  #000000;\n",
       "        }    #T_a8d3b5f6_7d8b_11ea_ac82_e97aee07b73arow1_col0 {\n",
       "            background-color:  #3b4cc0;\n",
       "            color:  #f1f1f1;\n",
       "        }    #T_a8d3b5f6_7d8b_11ea_ac82_e97aee07b73arow1_col1 {\n",
       "            background-color:  #b40426;\n",
       "            color:  #f1f1f1;\n",
       "        }    #T_a8d3b5f6_7d8b_11ea_ac82_e97aee07b73arow1_col2 {\n",
       "            background-color:  #3b4cc0;\n",
       "            color:  #f1f1f1;\n",
       "        }    #T_a8d3b5f6_7d8b_11ea_ac82_e97aee07b73arow1_col3 {\n",
       "            background-color:  #4257c9;\n",
       "            color:  #f1f1f1;\n",
       "        }    #T_a8d3b5f6_7d8b_11ea_ac82_e97aee07b73arow1_col4 {\n",
       "            background-color:  #4257c9;\n",
       "            color:  #f1f1f1;\n",
       "        }    #T_a8d3b5f6_7d8b_11ea_ac82_e97aee07b73arow1_col5 {\n",
       "            background-color:  #3b4cc0;\n",
       "            color:  #f1f1f1;\n",
       "        }    #T_a8d3b5f6_7d8b_11ea_ac82_e97aee07b73arow2_col0 {\n",
       "            background-color:  #5977e3;\n",
       "            color:  #000000;\n",
       "        }    #T_a8d3b5f6_7d8b_11ea_ac82_e97aee07b73arow2_col1 {\n",
       "            background-color:  #455cce;\n",
       "            color:  #f1f1f1;\n",
       "        }    #T_a8d3b5f6_7d8b_11ea_ac82_e97aee07b73arow2_col2 {\n",
       "            background-color:  #b40426;\n",
       "            color:  #f1f1f1;\n",
       "        }    #T_a8d3b5f6_7d8b_11ea_ac82_e97aee07b73arow2_col3 {\n",
       "            background-color:  #6a8bef;\n",
       "            color:  #000000;\n",
       "        }    #T_a8d3b5f6_7d8b_11ea_ac82_e97aee07b73arow2_col4 {\n",
       "            background-color:  #5b7ae5;\n",
       "            color:  #000000;\n",
       "        }    #T_a8d3b5f6_7d8b_11ea_ac82_e97aee07b73arow2_col5 {\n",
       "            background-color:  #6b8df0;\n",
       "            color:  #000000;\n",
       "        }    #T_a8d3b5f6_7d8b_11ea_ac82_e97aee07b73arow3_col0 {\n",
       "            background-color:  #6788ee;\n",
       "            color:  #000000;\n",
       "        }    #T_a8d3b5f6_7d8b_11ea_ac82_e97aee07b73arow3_col1 {\n",
       "            background-color:  #4f69d9;\n",
       "            color:  #000000;\n",
       "        }    #T_a8d3b5f6_7d8b_11ea_ac82_e97aee07b73arow3_col2 {\n",
       "            background-color:  #6c8ff1;\n",
       "            color:  #000000;\n",
       "        }    #T_a8d3b5f6_7d8b_11ea_ac82_e97aee07b73arow3_col3 {\n",
       "            background-color:  #b40426;\n",
       "            color:  #f1f1f1;\n",
       "        }    #T_a8d3b5f6_7d8b_11ea_ac82_e97aee07b73arow3_col4 {\n",
       "            background-color:  #3b4cc0;\n",
       "            color:  #f1f1f1;\n",
       "        }    #T_a8d3b5f6_7d8b_11ea_ac82_e97aee07b73arow3_col5 {\n",
       "            background-color:  #5875e1;\n",
       "            color:  #000000;\n",
       "        }    #T_a8d3b5f6_7d8b_11ea_ac82_e97aee07b73arow4_col0 {\n",
       "            background-color:  #6180e9;\n",
       "            color:  #000000;\n",
       "        }    #T_a8d3b5f6_7d8b_11ea_ac82_e97aee07b73arow4_col1 {\n",
       "            background-color:  #4f69d9;\n",
       "            color:  #000000;\n",
       "        }    #T_a8d3b5f6_7d8b_11ea_ac82_e97aee07b73arow4_col2 {\n",
       "            background-color:  #5e7de7;\n",
       "            color:  #000000;\n",
       "        }    #T_a8d3b5f6_7d8b_11ea_ac82_e97aee07b73arow4_col3 {\n",
       "            background-color:  #3b4cc0;\n",
       "            color:  #f1f1f1;\n",
       "        }    #T_a8d3b5f6_7d8b_11ea_ac82_e97aee07b73arow4_col4 {\n",
       "            background-color:  #b40426;\n",
       "            color:  #f1f1f1;\n",
       "        }    #T_a8d3b5f6_7d8b_11ea_ac82_e97aee07b73arow4_col5 {\n",
       "            background-color:  #4f69d9;\n",
       "            color:  #000000;\n",
       "        }    #T_a8d3b5f6_7d8b_11ea_ac82_e97aee07b73arow5_col0 {\n",
       "            background-color:  #6687ed;\n",
       "            color:  #000000;\n",
       "        }    #T_a8d3b5f6_7d8b_11ea_ac82_e97aee07b73arow5_col1 {\n",
       "            background-color:  #4c66d6;\n",
       "            color:  #000000;\n",
       "        }    #T_a8d3b5f6_7d8b_11ea_ac82_e97aee07b73arow5_col2 {\n",
       "            background-color:  #7295f4;\n",
       "            color:  #000000;\n",
       "        }    #T_a8d3b5f6_7d8b_11ea_ac82_e97aee07b73arow5_col3 {\n",
       "            background-color:  #5d7ce6;\n",
       "            color:  #000000;\n",
       "        }    #T_a8d3b5f6_7d8b_11ea_ac82_e97aee07b73arow5_col4 {\n",
       "            background-color:  #5470de;\n",
       "            color:  #000000;\n",
       "        }    #T_a8d3b5f6_7d8b_11ea_ac82_e97aee07b73arow5_col5 {\n",
       "            background-color:  #b40426;\n",
       "            color:  #f1f1f1;\n",
       "        }</style><table id=\"T_a8d3b5f6_7d8b_11ea_ac82_e97aee07b73a\" ><thead>    <tr>        <th class=\"blank level0\" ></th>        <th class=\"col_heading level0 col0\" >age</th>        <th class=\"col_heading level0 col1\" >fnlwgt</th>        <th class=\"col_heading level0 col2\" >educational-num</th>        <th class=\"col_heading level0 col3\" >capital-gain</th>        <th class=\"col_heading level0 col4\" >capital-loss</th>        <th class=\"col_heading level0 col5\" >hours-per-week</th>    </tr></thead><tbody>\n",
       "                <tr>\n",
       "                        <th id=\"T_a8d3b5f6_7d8b_11ea_ac82_e97aee07b73alevel0_row0\" class=\"row_heading level0 row0\" >age</th>\n",
       "                        <td id=\"T_a8d3b5f6_7d8b_11ea_ac82_e97aee07b73arow0_col0\" class=\"data row0 col0\" >1</td>\n",
       "                        <td id=\"T_a8d3b5f6_7d8b_11ea_ac82_e97aee07b73arow0_col1\" class=\"data row0 col1\" >-0.0766281</td>\n",
       "                        <td id=\"T_a8d3b5f6_7d8b_11ea_ac82_e97aee07b73arow0_col2\" class=\"data row0 col2\" >0.0309404</td>\n",
       "                        <td id=\"T_a8d3b5f6_7d8b_11ea_ac82_e97aee07b73arow0_col3\" class=\"data row0 col3\" >0.077229</td>\n",
       "                        <td id=\"T_a8d3b5f6_7d8b_11ea_ac82_e97aee07b73arow0_col4\" class=\"data row0 col4\" >0.0569438</td>\n",
       "                        <td id=\"T_a8d3b5f6_7d8b_11ea_ac82_e97aee07b73arow0_col5\" class=\"data row0 col5\" >0.0715583</td>\n",
       "            </tr>\n",
       "            <tr>\n",
       "                        <th id=\"T_a8d3b5f6_7d8b_11ea_ac82_e97aee07b73alevel0_row1\" class=\"row_heading level0 row1\" >fnlwgt</th>\n",
       "                        <td id=\"T_a8d3b5f6_7d8b_11ea_ac82_e97aee07b73arow1_col0\" class=\"data row1 col0\" >-0.0766281</td>\n",
       "                        <td id=\"T_a8d3b5f6_7d8b_11ea_ac82_e97aee07b73arow1_col1\" class=\"data row1 col1\" >1</td>\n",
       "                        <td id=\"T_a8d3b5f6_7d8b_11ea_ac82_e97aee07b73arow1_col2\" class=\"data row1 col2\" >-0.0387607</td>\n",
       "                        <td id=\"T_a8d3b5f6_7d8b_11ea_ac82_e97aee07b73arow1_col3\" class=\"data row1 col3\" >-0.00370639</td>\n",
       "                        <td id=\"T_a8d3b5f6_7d8b_11ea_ac82_e97aee07b73arow1_col4\" class=\"data row1 col4\" >-0.00436615</td>\n",
       "                        <td id=\"T_a8d3b5f6_7d8b_11ea_ac82_e97aee07b73arow1_col5\" class=\"data row1 col5\" >-0.0135187</td>\n",
       "            </tr>\n",
       "            <tr>\n",
       "                        <th id=\"T_a8d3b5f6_7d8b_11ea_ac82_e97aee07b73alevel0_row2\" class=\"row_heading level0 row2\" >educational-num</th>\n",
       "                        <td id=\"T_a8d3b5f6_7d8b_11ea_ac82_e97aee07b73arow2_col0\" class=\"data row2 col0\" >0.0309404</td>\n",
       "                        <td id=\"T_a8d3b5f6_7d8b_11ea_ac82_e97aee07b73arow2_col1\" class=\"data row2 col1\" >-0.0387607</td>\n",
       "                        <td id=\"T_a8d3b5f6_7d8b_11ea_ac82_e97aee07b73arow2_col2\" class=\"data row2 col2\" >1</td>\n",
       "                        <td id=\"T_a8d3b5f6_7d8b_11ea_ac82_e97aee07b73arow2_col3\" class=\"data row2 col3\" >0.125146</td>\n",
       "                        <td id=\"T_a8d3b5f6_7d8b_11ea_ac82_e97aee07b73arow2_col4\" class=\"data row2 col4\" >0.0809719</td>\n",
       "                        <td id=\"T_a8d3b5f6_7d8b_11ea_ac82_e97aee07b73arow2_col5\" class=\"data row2 col5\" >0.143689</td>\n",
       "            </tr>\n",
       "            <tr>\n",
       "                        <th id=\"T_a8d3b5f6_7d8b_11ea_ac82_e97aee07b73alevel0_row3\" class=\"row_heading level0 row3\" >capital-gain</th>\n",
       "                        <td id=\"T_a8d3b5f6_7d8b_11ea_ac82_e97aee07b73arow3_col0\" class=\"data row3 col0\" >0.077229</td>\n",
       "                        <td id=\"T_a8d3b5f6_7d8b_11ea_ac82_e97aee07b73arow3_col1\" class=\"data row3 col1\" >-0.00370639</td>\n",
       "                        <td id=\"T_a8d3b5f6_7d8b_11ea_ac82_e97aee07b73arow3_col2\" class=\"data row3 col2\" >0.125146</td>\n",
       "                        <td id=\"T_a8d3b5f6_7d8b_11ea_ac82_e97aee07b73arow3_col3\" class=\"data row3 col3\" >1</td>\n",
       "                        <td id=\"T_a8d3b5f6_7d8b_11ea_ac82_e97aee07b73arow3_col4\" class=\"data row3 col4\" >-0.0314408</td>\n",
       "                        <td id=\"T_a8d3b5f6_7d8b_11ea_ac82_e97aee07b73arow3_col5\" class=\"data row3 col5\" >0.0821573</td>\n",
       "            </tr>\n",
       "            <tr>\n",
       "                        <th id=\"T_a8d3b5f6_7d8b_11ea_ac82_e97aee07b73alevel0_row4\" class=\"row_heading level0 row4\" >capital-loss</th>\n",
       "                        <td id=\"T_a8d3b5f6_7d8b_11ea_ac82_e97aee07b73arow4_col0\" class=\"data row4 col0\" >0.0569438</td>\n",
       "                        <td id=\"T_a8d3b5f6_7d8b_11ea_ac82_e97aee07b73arow4_col1\" class=\"data row4 col1\" >-0.00436615</td>\n",
       "                        <td id=\"T_a8d3b5f6_7d8b_11ea_ac82_e97aee07b73arow4_col2\" class=\"data row4 col2\" >0.0809719</td>\n",
       "                        <td id=\"T_a8d3b5f6_7d8b_11ea_ac82_e97aee07b73arow4_col3\" class=\"data row4 col3\" >-0.0314408</td>\n",
       "                        <td id=\"T_a8d3b5f6_7d8b_11ea_ac82_e97aee07b73arow4_col4\" class=\"data row4 col4\" >1</td>\n",
       "                        <td id=\"T_a8d3b5f6_7d8b_11ea_ac82_e97aee07b73arow4_col5\" class=\"data row4 col5\" >0.0544672</td>\n",
       "            </tr>\n",
       "            <tr>\n",
       "                        <th id=\"T_a8d3b5f6_7d8b_11ea_ac82_e97aee07b73alevel0_row5\" class=\"row_heading level0 row5\" >hours-per-week</th>\n",
       "                        <td id=\"T_a8d3b5f6_7d8b_11ea_ac82_e97aee07b73arow5_col0\" class=\"data row5 col0\" >0.0715583</td>\n",
       "                        <td id=\"T_a8d3b5f6_7d8b_11ea_ac82_e97aee07b73arow5_col1\" class=\"data row5 col1\" >-0.0135187</td>\n",
       "                        <td id=\"T_a8d3b5f6_7d8b_11ea_ac82_e97aee07b73arow5_col2\" class=\"data row5 col2\" >0.143689</td>\n",
       "                        <td id=\"T_a8d3b5f6_7d8b_11ea_ac82_e97aee07b73arow5_col3\" class=\"data row5 col3\" >0.0821573</td>\n",
       "                        <td id=\"T_a8d3b5f6_7d8b_11ea_ac82_e97aee07b73arow5_col4\" class=\"data row5 col4\" >0.0544672</td>\n",
       "                        <td id=\"T_a8d3b5f6_7d8b_11ea_ac82_e97aee07b73arow5_col5\" class=\"data row5 col5\" >1</td>\n",
       "            </tr>\n",
       "    </tbody></table>"
      ],
      "text/plain": [
       "<pandas.io.formats.style.Styler at 0x22ab4770f08>"
      ]
     },
     "execution_count": 79,
     "metadata": {},
     "output_type": "execute_result"
    }
   ],
   "source": [
    "correlation.style.background_gradient(cmap='coolwarm')"
   ]
  },
  {
   "cell_type": "code",
   "execution_count": 80,
   "metadata": {},
   "outputs": [
    {
     "data": {
      "text/html": [
       "<style  type=\"text/css\" >\n",
       "    #T_a8e8fda8_7d8b_11ea_a723_e97aee07b73arow0_col0 {\n",
       "            color:  black;\n",
       "            background-color:  yellow;\n",
       "        }    #T_a8e8fda8_7d8b_11ea_a723_e97aee07b73arow0_col1 {\n",
       "            color:  red;\n",
       "            : ;\n",
       "        }    #T_a8e8fda8_7d8b_11ea_a723_e97aee07b73arow0_col2 {\n",
       "            color:  black;\n",
       "            : ;\n",
       "        }    #T_a8e8fda8_7d8b_11ea_a723_e97aee07b73arow0_col3 {\n",
       "            color:  black;\n",
       "            : ;\n",
       "        }    #T_a8e8fda8_7d8b_11ea_a723_e97aee07b73arow0_col4 {\n",
       "            color:  black;\n",
       "            : ;\n",
       "        }    #T_a8e8fda8_7d8b_11ea_a723_e97aee07b73arow0_col5 {\n",
       "            color:  black;\n",
       "            : ;\n",
       "        }    #T_a8e8fda8_7d8b_11ea_a723_e97aee07b73arow1_col0 {\n",
       "            color:  red;\n",
       "            : ;\n",
       "        }    #T_a8e8fda8_7d8b_11ea_a723_e97aee07b73arow1_col1 {\n",
       "            color:  black;\n",
       "            background-color:  yellow;\n",
       "        }    #T_a8e8fda8_7d8b_11ea_a723_e97aee07b73arow1_col2 {\n",
       "            color:  red;\n",
       "            : ;\n",
       "        }    #T_a8e8fda8_7d8b_11ea_a723_e97aee07b73arow1_col3 {\n",
       "            color:  red;\n",
       "            : ;\n",
       "        }    #T_a8e8fda8_7d8b_11ea_a723_e97aee07b73arow1_col4 {\n",
       "            color:  red;\n",
       "            : ;\n",
       "        }    #T_a8e8fda8_7d8b_11ea_a723_e97aee07b73arow1_col5 {\n",
       "            color:  red;\n",
       "            : ;\n",
       "        }    #T_a8e8fda8_7d8b_11ea_a723_e97aee07b73arow2_col0 {\n",
       "            color:  black;\n",
       "            : ;\n",
       "        }    #T_a8e8fda8_7d8b_11ea_a723_e97aee07b73arow2_col1 {\n",
       "            color:  red;\n",
       "            : ;\n",
       "        }    #T_a8e8fda8_7d8b_11ea_a723_e97aee07b73arow2_col2 {\n",
       "            color:  black;\n",
       "            background-color:  yellow;\n",
       "        }    #T_a8e8fda8_7d8b_11ea_a723_e97aee07b73arow2_col3 {\n",
       "            color:  black;\n",
       "            : ;\n",
       "        }    #T_a8e8fda8_7d8b_11ea_a723_e97aee07b73arow2_col4 {\n",
       "            color:  black;\n",
       "            : ;\n",
       "        }    #T_a8e8fda8_7d8b_11ea_a723_e97aee07b73arow2_col5 {\n",
       "            color:  black;\n",
       "            : ;\n",
       "        }    #T_a8e8fda8_7d8b_11ea_a723_e97aee07b73arow3_col0 {\n",
       "            color:  black;\n",
       "            : ;\n",
       "        }    #T_a8e8fda8_7d8b_11ea_a723_e97aee07b73arow3_col1 {\n",
       "            color:  red;\n",
       "            : ;\n",
       "        }    #T_a8e8fda8_7d8b_11ea_a723_e97aee07b73arow3_col2 {\n",
       "            color:  black;\n",
       "            : ;\n",
       "        }    #T_a8e8fda8_7d8b_11ea_a723_e97aee07b73arow3_col3 {\n",
       "            color:  black;\n",
       "            background-color:  yellow;\n",
       "        }    #T_a8e8fda8_7d8b_11ea_a723_e97aee07b73arow3_col4 {\n",
       "            color:  red;\n",
       "            : ;\n",
       "        }    #T_a8e8fda8_7d8b_11ea_a723_e97aee07b73arow3_col5 {\n",
       "            color:  black;\n",
       "            : ;\n",
       "        }    #T_a8e8fda8_7d8b_11ea_a723_e97aee07b73arow4_col0 {\n",
       "            color:  black;\n",
       "            : ;\n",
       "        }    #T_a8e8fda8_7d8b_11ea_a723_e97aee07b73arow4_col1 {\n",
       "            color:  red;\n",
       "            : ;\n",
       "        }    #T_a8e8fda8_7d8b_11ea_a723_e97aee07b73arow4_col2 {\n",
       "            color:  black;\n",
       "            : ;\n",
       "        }    #T_a8e8fda8_7d8b_11ea_a723_e97aee07b73arow4_col3 {\n",
       "            color:  red;\n",
       "            : ;\n",
       "        }    #T_a8e8fda8_7d8b_11ea_a723_e97aee07b73arow4_col4 {\n",
       "            color:  black;\n",
       "            background-color:  yellow;\n",
       "        }    #T_a8e8fda8_7d8b_11ea_a723_e97aee07b73arow4_col5 {\n",
       "            color:  black;\n",
       "            : ;\n",
       "        }    #T_a8e8fda8_7d8b_11ea_a723_e97aee07b73arow5_col0 {\n",
       "            color:  black;\n",
       "            : ;\n",
       "        }    #T_a8e8fda8_7d8b_11ea_a723_e97aee07b73arow5_col1 {\n",
       "            color:  red;\n",
       "            : ;\n",
       "        }    #T_a8e8fda8_7d8b_11ea_a723_e97aee07b73arow5_col2 {\n",
       "            color:  black;\n",
       "            : ;\n",
       "        }    #T_a8e8fda8_7d8b_11ea_a723_e97aee07b73arow5_col3 {\n",
       "            color:  black;\n",
       "            : ;\n",
       "        }    #T_a8e8fda8_7d8b_11ea_a723_e97aee07b73arow5_col4 {\n",
       "            color:  black;\n",
       "            : ;\n",
       "        }    #T_a8e8fda8_7d8b_11ea_a723_e97aee07b73arow5_col5 {\n",
       "            color:  black;\n",
       "            background-color:  yellow;\n",
       "        }</style><table id=\"T_a8e8fda8_7d8b_11ea_a723_e97aee07b73a\" ><thead>    <tr>        <th class=\"blank level0\" ></th>        <th class=\"col_heading level0 col0\" >age</th>        <th class=\"col_heading level0 col1\" >fnlwgt</th>        <th class=\"col_heading level0 col2\" >educational-num</th>        <th class=\"col_heading level0 col3\" >capital-gain</th>        <th class=\"col_heading level0 col4\" >capital-loss</th>        <th class=\"col_heading level0 col5\" >hours-per-week</th>    </tr></thead><tbody>\n",
       "                <tr>\n",
       "                        <th id=\"T_a8e8fda8_7d8b_11ea_a723_e97aee07b73alevel0_row0\" class=\"row_heading level0 row0\" >age</th>\n",
       "                        <td id=\"T_a8e8fda8_7d8b_11ea_a723_e97aee07b73arow0_col0\" class=\"data row0 col0\" >1</td>\n",
       "                        <td id=\"T_a8e8fda8_7d8b_11ea_a723_e97aee07b73arow0_col1\" class=\"data row0 col1\" >-0.0766281</td>\n",
       "                        <td id=\"T_a8e8fda8_7d8b_11ea_a723_e97aee07b73arow0_col2\" class=\"data row0 col2\" >0.0309404</td>\n",
       "                        <td id=\"T_a8e8fda8_7d8b_11ea_a723_e97aee07b73arow0_col3\" class=\"data row0 col3\" >0.077229</td>\n",
       "                        <td id=\"T_a8e8fda8_7d8b_11ea_a723_e97aee07b73arow0_col4\" class=\"data row0 col4\" >0.0569438</td>\n",
       "                        <td id=\"T_a8e8fda8_7d8b_11ea_a723_e97aee07b73arow0_col5\" class=\"data row0 col5\" >0.0715583</td>\n",
       "            </tr>\n",
       "            <tr>\n",
       "                        <th id=\"T_a8e8fda8_7d8b_11ea_a723_e97aee07b73alevel0_row1\" class=\"row_heading level0 row1\" >fnlwgt</th>\n",
       "                        <td id=\"T_a8e8fda8_7d8b_11ea_a723_e97aee07b73arow1_col0\" class=\"data row1 col0\" >-0.0766281</td>\n",
       "                        <td id=\"T_a8e8fda8_7d8b_11ea_a723_e97aee07b73arow1_col1\" class=\"data row1 col1\" >1</td>\n",
       "                        <td id=\"T_a8e8fda8_7d8b_11ea_a723_e97aee07b73arow1_col2\" class=\"data row1 col2\" >-0.0387607</td>\n",
       "                        <td id=\"T_a8e8fda8_7d8b_11ea_a723_e97aee07b73arow1_col3\" class=\"data row1 col3\" >-0.00370639</td>\n",
       "                        <td id=\"T_a8e8fda8_7d8b_11ea_a723_e97aee07b73arow1_col4\" class=\"data row1 col4\" >-0.00436615</td>\n",
       "                        <td id=\"T_a8e8fda8_7d8b_11ea_a723_e97aee07b73arow1_col5\" class=\"data row1 col5\" >-0.0135187</td>\n",
       "            </tr>\n",
       "            <tr>\n",
       "                        <th id=\"T_a8e8fda8_7d8b_11ea_a723_e97aee07b73alevel0_row2\" class=\"row_heading level0 row2\" >educational-num</th>\n",
       "                        <td id=\"T_a8e8fda8_7d8b_11ea_a723_e97aee07b73arow2_col0\" class=\"data row2 col0\" >0.0309404</td>\n",
       "                        <td id=\"T_a8e8fda8_7d8b_11ea_a723_e97aee07b73arow2_col1\" class=\"data row2 col1\" >-0.0387607</td>\n",
       "                        <td id=\"T_a8e8fda8_7d8b_11ea_a723_e97aee07b73arow2_col2\" class=\"data row2 col2\" >1</td>\n",
       "                        <td id=\"T_a8e8fda8_7d8b_11ea_a723_e97aee07b73arow2_col3\" class=\"data row2 col3\" >0.125146</td>\n",
       "                        <td id=\"T_a8e8fda8_7d8b_11ea_a723_e97aee07b73arow2_col4\" class=\"data row2 col4\" >0.0809719</td>\n",
       "                        <td id=\"T_a8e8fda8_7d8b_11ea_a723_e97aee07b73arow2_col5\" class=\"data row2 col5\" >0.143689</td>\n",
       "            </tr>\n",
       "            <tr>\n",
       "                        <th id=\"T_a8e8fda8_7d8b_11ea_a723_e97aee07b73alevel0_row3\" class=\"row_heading level0 row3\" >capital-gain</th>\n",
       "                        <td id=\"T_a8e8fda8_7d8b_11ea_a723_e97aee07b73arow3_col0\" class=\"data row3 col0\" >0.077229</td>\n",
       "                        <td id=\"T_a8e8fda8_7d8b_11ea_a723_e97aee07b73arow3_col1\" class=\"data row3 col1\" >-0.00370639</td>\n",
       "                        <td id=\"T_a8e8fda8_7d8b_11ea_a723_e97aee07b73arow3_col2\" class=\"data row3 col2\" >0.125146</td>\n",
       "                        <td id=\"T_a8e8fda8_7d8b_11ea_a723_e97aee07b73arow3_col3\" class=\"data row3 col3\" >1</td>\n",
       "                        <td id=\"T_a8e8fda8_7d8b_11ea_a723_e97aee07b73arow3_col4\" class=\"data row3 col4\" >-0.0314408</td>\n",
       "                        <td id=\"T_a8e8fda8_7d8b_11ea_a723_e97aee07b73arow3_col5\" class=\"data row3 col5\" >0.0821573</td>\n",
       "            </tr>\n",
       "            <tr>\n",
       "                        <th id=\"T_a8e8fda8_7d8b_11ea_a723_e97aee07b73alevel0_row4\" class=\"row_heading level0 row4\" >capital-loss</th>\n",
       "                        <td id=\"T_a8e8fda8_7d8b_11ea_a723_e97aee07b73arow4_col0\" class=\"data row4 col0\" >0.0569438</td>\n",
       "                        <td id=\"T_a8e8fda8_7d8b_11ea_a723_e97aee07b73arow4_col1\" class=\"data row4 col1\" >-0.00436615</td>\n",
       "                        <td id=\"T_a8e8fda8_7d8b_11ea_a723_e97aee07b73arow4_col2\" class=\"data row4 col2\" >0.0809719</td>\n",
       "                        <td id=\"T_a8e8fda8_7d8b_11ea_a723_e97aee07b73arow4_col3\" class=\"data row4 col3\" >-0.0314408</td>\n",
       "                        <td id=\"T_a8e8fda8_7d8b_11ea_a723_e97aee07b73arow4_col4\" class=\"data row4 col4\" >1</td>\n",
       "                        <td id=\"T_a8e8fda8_7d8b_11ea_a723_e97aee07b73arow4_col5\" class=\"data row4 col5\" >0.0544672</td>\n",
       "            </tr>\n",
       "            <tr>\n",
       "                        <th id=\"T_a8e8fda8_7d8b_11ea_a723_e97aee07b73alevel0_row5\" class=\"row_heading level0 row5\" >hours-per-week</th>\n",
       "                        <td id=\"T_a8e8fda8_7d8b_11ea_a723_e97aee07b73arow5_col0\" class=\"data row5 col0\" >0.0715583</td>\n",
       "                        <td id=\"T_a8e8fda8_7d8b_11ea_a723_e97aee07b73arow5_col1\" class=\"data row5 col1\" >-0.0135187</td>\n",
       "                        <td id=\"T_a8e8fda8_7d8b_11ea_a723_e97aee07b73arow5_col2\" class=\"data row5 col2\" >0.143689</td>\n",
       "                        <td id=\"T_a8e8fda8_7d8b_11ea_a723_e97aee07b73arow5_col3\" class=\"data row5 col3\" >0.0821573</td>\n",
       "                        <td id=\"T_a8e8fda8_7d8b_11ea_a723_e97aee07b73arow5_col4\" class=\"data row5 col4\" >0.0544672</td>\n",
       "                        <td id=\"T_a8e8fda8_7d8b_11ea_a723_e97aee07b73arow5_col5\" class=\"data row5 col5\" >1</td>\n",
       "            </tr>\n",
       "    </tbody></table>"
      ],
      "text/plain": [
       "<pandas.io.formats.style.Styler at 0x22ab47a24c8>"
      ]
     },
     "execution_count": 80,
     "metadata": {},
     "output_type": "execute_result"
    }
   ],
   "source": [
    "def color_negative_red(val):\n",
    "    color = 'red' if val < 0 else 'black'\n",
    "    return 'color: %s' % color\n",
    "\n",
    "def highlight_max(s):\n",
    "    is_max = s == s.max()\n",
    "    return ['background-color: yellow' if v else '' for v in is_max]\n",
    "\n",
    "correlation.style.\\\n",
    "    applymap(color_negative_red).\\\n",
    "    apply(highlight_max)"
   ]
  },
  {
   "cell_type": "markdown",
   "metadata": {},
   "source": [
    "# Analizimi i te dhenave"
   ]
  },
  {
   "cell_type": "markdown",
   "metadata": {},
   "source": [
    "Pastrimi i te dhenave"
   ]
  },
  {
   "cell_type": "markdown",
   "metadata": {},
   "source": [
    "Vlerat qe mungojne (Missing values)"
   ]
  },
  {
   "cell_type": "code",
   "execution_count": 81,
   "metadata": {},
   "outputs": [],
   "source": [
    "# Ne kete dataset ekzistojne tri atribute me missing values: workclass, occupation dhe native-country, keto vlera jane\n",
    "# te paraqitura ne forme te '?'."
   ]
  },
  {
   "cell_type": "code",
   "execution_count": 82,
   "metadata": {},
   "outputs": [
    {
     "data": {
      "text/plain": [
       "age                0\n",
       "workclass          0\n",
       "fnlwgt             0\n",
       "education          0\n",
       "educational-num    0\n",
       "marital-status     0\n",
       "occupation         0\n",
       "relationship       0\n",
       "race               0\n",
       "gender             0\n",
       "capital-gain       0\n",
       "capital-loss       0\n",
       "hours-per-week     0\n",
       "native-country     0\n",
       "income             0\n",
       "dtype: int64"
      ]
     },
     "execution_count": 82,
     "metadata": {},
     "output_type": "execute_result"
    }
   ],
   "source": [
    "df_adult.isnull().sum()"
   ]
  },
  {
   "cell_type": "code",
   "execution_count": 83,
   "metadata": {},
   "outputs": [
    {
     "data": {
      "text/plain": [
       "Private             33906\n",
       "Self-emp-not-inc     3862\n",
       "Local-gov            3136\n",
       "?                    2799\n",
       "State-gov            1981\n",
       "Self-emp-inc         1695\n",
       "Federal-gov          1432\n",
       "Without-pay            21\n",
       "Never-worked           10\n",
       "Name: workclass, dtype: int64"
      ]
     },
     "execution_count": 83,
     "metadata": {},
     "output_type": "execute_result"
    }
   ],
   "source": [
    "#Tipet e vlerave te atributit 'workclass'\n",
    "df_adult['workclass'].value_counts()"
   ]
  },
  {
   "cell_type": "code",
   "execution_count": 84,
   "metadata": {},
   "outputs": [
    {
     "data": {
      "text/plain": [
       "United-States                 43832\n",
       "Mexico                          951\n",
       "?                               857\n",
       "Philippines                     295\n",
       "Germany                         206\n",
       "Puerto-Rico                     184\n",
       "Canada                          182\n",
       "El-Salvador                     155\n",
       "India                           151\n",
       "Cuba                            138\n",
       "England                         127\n",
       "China                           122\n",
       "South                           115\n",
       "Jamaica                         106\n",
       "Italy                           105\n",
       "Dominican-Republic              103\n",
       "Japan                            92\n",
       "Guatemala                        88\n",
       "Poland                           87\n",
       "Vietnam                          86\n",
       "Columbia                         85\n",
       "Haiti                            75\n",
       "Portugal                         67\n",
       "Taiwan                           65\n",
       "Iran                             59\n",
       "Greece                           49\n",
       "Nicaragua                        49\n",
       "Peru                             46\n",
       "Ecuador                          45\n",
       "France                           38\n",
       "Ireland                          37\n",
       "Thailand                         30\n",
       "Hong                             30\n",
       "Cambodia                         28\n",
       "Trinadad&Tobago                  27\n",
       "Outlying-US(Guam-USVI-etc)       23\n",
       "Laos                             23\n",
       "Yugoslavia                       23\n",
       "Scotland                         21\n",
       "Honduras                         20\n",
       "Hungary                          19\n",
       "Holand-Netherlands                1\n",
       "Name: native-country, dtype: int64"
      ]
     },
     "execution_count": 84,
     "metadata": {},
     "output_type": "execute_result"
    }
   ],
   "source": [
    "#Tipet e vlerave te atributit 'native-country'\n",
    "df_adult['native-country'].value_counts()"
   ]
  },
  {
   "cell_type": "markdown",
   "metadata": {},
   "source": [
    "Zevendsimi i vlerave '?' me 'NaN' ne tere dataset-in"
   ]
  },
  {
   "cell_type": "code",
   "execution_count": 85,
   "metadata": {},
   "outputs": [],
   "source": [
    "df_adult = df_adult.replace(to_replace = \"?\", value = np.nan) "
   ]
  },
  {
   "cell_type": "code",
   "execution_count": 86,
   "metadata": {},
   "outputs": [
    {
     "data": {
      "text/plain": [
       "age                   0\n",
       "workclass          2799\n",
       "fnlwgt                0\n",
       "education             0\n",
       "educational-num       0\n",
       "marital-status        0\n",
       "occupation         2809\n",
       "relationship          0\n",
       "race                  0\n",
       "gender                0\n",
       "capital-gain          0\n",
       "capital-loss          0\n",
       "hours-per-week        0\n",
       "native-country      857\n",
       "income                0\n",
       "dtype: int64"
      ]
     },
     "execution_count": 86,
     "metadata": {},
     "output_type": "execute_result"
    }
   ],
   "source": [
    "#Numri i vlerave qe mungojne per cdo atribut\n",
    "df_adult.isnull().sum()"
   ]
  },
  {
   "cell_type": "code",
   "execution_count": 87,
   "metadata": {},
   "outputs": [],
   "source": [
    "#Vlerat qe mungojne ne forme te perqindjes\n",
    "percent_missing = df_adult.isnull().sum() * 100 / len(df_adult)"
   ]
  },
  {
   "cell_type": "code",
   "execution_count": 88,
   "metadata": {},
   "outputs": [
    {
     "data": {
      "text/plain": [
       "age                0.000000\n",
       "workclass          5.730724\n",
       "fnlwgt             0.000000\n",
       "education          0.000000\n",
       "educational-num    0.000000\n",
       "marital-status     0.000000\n",
       "occupation         5.751198\n",
       "relationship       0.000000\n",
       "race               0.000000\n",
       "gender             0.000000\n",
       "capital-gain       0.000000\n",
       "capital-loss       0.000000\n",
       "hours-per-week     0.000000\n",
       "native-country     1.754637\n",
       "income             0.000000\n",
       "dtype: float64"
      ]
     },
     "execution_count": 88,
     "metadata": {},
     "output_type": "execute_result"
    }
   ],
   "source": [
    "percent_missing"
   ]
  },
  {
   "cell_type": "code",
   "execution_count": 89,
   "metadata": {},
   "outputs": [
    {
     "data": {
      "text/plain": [
       "<matplotlib.axes._subplots.AxesSubplot at 0x22ab4229648>"
      ]
     },
     "execution_count": 89,
     "metadata": {},
     "output_type": "execute_result"
    },
    {
     "data": {
      "image/png": "[encoded data removed]",
      "text/plain": [
       "<Figure size 432x288 with 1 Axes>"
      ]
     },
     "metadata": {
      "needs_background": "light"
     },
     "output_type": "display_data"
    }
   ],
   "source": [
    "#Vizualizimi i vlerave qe mungojne per cdo atribut.\n",
    "sns.heatmap(df_adult.isnull(), yticklabels=False, cbar=False)"
   ]
  },
  {
   "cell_type": "markdown",
   "metadata": {},
   "source": [
    "Fshirja e rreshtave me missing values"
   ]
  },
  {
   "cell_type": "code",
   "execution_count": 90,
   "metadata": {},
   "outputs": [],
   "source": [
    "df_adult = df_adult.dropna()"
   ]
  },
  {
   "cell_type": "code",
   "execution_count": 91,
   "metadata": {},
   "outputs": [
    {
     "data": {
      "text/plain": [
       "age                0\n",
       "workclass          0\n",
       "fnlwgt             0\n",
       "education          0\n",
       "educational-num    0\n",
       "marital-status     0\n",
       "occupation         0\n",
       "relationship       0\n",
       "race               0\n",
       "gender             0\n",
       "capital-gain       0\n",
       "capital-loss       0\n",
       "hours-per-week     0\n",
       "native-country     0\n",
       "income             0\n",
       "dtype: int64"
      ]
     },
     "execution_count": 91,
     "metadata": {},
     "output_type": "execute_result"
    }
   ],
   "source": [
    "df_adult.isnull().sum()"
   ]
  },
  {
   "cell_type": "markdown",
   "metadata": {},
   "source": [
    "Dimensioni i datasetit pas fshirjes se vlerave te munguara"
   ]
  },
  {
   "cell_type": "code",
   "execution_count": 92,
   "metadata": {},
   "outputs": [
    {
     "data": {
      "text/plain": [
       "(45222, 15)"
      ]
     },
     "execution_count": 92,
     "metadata": {},
     "output_type": "execute_result"
    }
   ],
   "source": [
    "df_adult.shape"
   ]
  },
  {
   "cell_type": "markdown",
   "metadata": {},
   "source": [
    "# Preprocesimi i te dhenave"
   ]
  },
  {
   "cell_type": "markdown",
   "metadata": {},
   "source": [
    "Transformimi i te dhenave"
   ]
  },
  {
   "cell_type": "markdown",
   "metadata": {},
   "source": [
    "Gjeneralizimi i te vetise 'education'"
   ]
  },
  {
   "cell_type": "code",
   "execution_count": 93,
   "metadata": {},
   "outputs": [
    {
     "data": {
      "text/plain": [
       "HS-grad         14783\n",
       "Some-college     9899\n",
       "Bachelors        7570\n",
       "Masters          2514\n",
       "Assoc-voc        1959\n",
       "11th             1619\n",
       "Assoc-acdm       1507\n",
       "10th             1223\n",
       "7th-8th           823\n",
       "Prof-school       785\n",
       "9th               676\n",
       "12th              577\n",
       "Doctorate         544\n",
       "5th-6th           449\n",
       "1st-4th           222\n",
       "Preschool          72\n",
       "Name: education, dtype: int64"
      ]
     },
     "execution_count": 93,
     "metadata": {},
     "output_type": "execute_result"
    }
   ],
   "source": [
    "df_adult['education'].value_counts()"
   ]
  },
  {
   "cell_type": "code",
   "execution_count": 94,
   "metadata": {},
   "outputs": [],
   "source": [
    "#Zevendesimi i vleres \"HS-grad\" me vleren \"High School\".\n",
    "df_adult['education'] = df_adult['education'].replace(to_replace =[\"HS-grad\"], value =\"High School\")"
   ]
  },
  {
   "cell_type": "code",
   "execution_count": 95,
   "metadata": {},
   "outputs": [],
   "source": [
    "#Zevendesimi i vlerave \"Preschoool\",\"1st-4th\",\"5th-6th\" me vleren \"Elementary school\", pasi qe keto vlera paraqesin kete nivel shkollimi.\n",
    "df_adult['education'] = df_adult['education'].replace(to_replace =[\"Preschool\",\"1st-4th\",\"5th-6th\"], value =\"Elementary school\")"
   ]
  },
  {
   "cell_type": "code",
   "execution_count": 96,
   "metadata": {},
   "outputs": [],
   "source": [
    "#Zevendesimi i vlerave \"7th-8th\",\"9th\",\"10th\",\"11th\",\"12th\" me vleren \"Middle school\", pasi qe keto vlera paraqesin kete nivel shkollimi.\n",
    "df_adult['education'] = df_adult['education'].replace(to_replace =[\"7th-8th\",\"9th\",\"10th\",\"11th\",\"12th\"], value =\"Middle school\")"
   ]
  },
  {
   "cell_type": "code",
   "execution_count": 97,
   "metadata": {},
   "outputs": [],
   "source": [
    "#Zevendesimi i vlerave \"Assoc-voc\",\"Assoc-acdm\" me vleren \"Associate\", pasi qe keto vlera paraqesin dege te nivelit Associate\n",
    "df_adult['education'] = df_adult['education'].replace(to_replace =[\"Assoc-voc\",\"Assoc-acdm\"], value =\"Associate\")"
   ]
  },
  {
   "cell_type": "code",
   "execution_count": 98,
   "metadata": {},
   "outputs": [],
   "source": [
    "#Zevendesimi i vleres \"Some-college\" me vleren \"College\"\n",
    "df_adult['education'] = df_adult['education'].replace(to_replace =[\"Some-college\"], value =\"College\")"
   ]
  },
  {
   "cell_type": "code",
   "execution_count": 99,
   "metadata": {},
   "outputs": [
    {
     "data": {
      "text/plain": [
       "High School          14783\n",
       "College               9899\n",
       "Bachelors             7570\n",
       "Middle school         4918\n",
       "Associate             3466\n",
       "Masters               2514\n",
       "Prof-school            785\n",
       "Elementary school      743\n",
       "Doctorate              544\n",
       "Name: education, dtype: int64"
      ]
     },
     "execution_count": 99,
     "metadata": {},
     "output_type": "execute_result"
    }
   ],
   "source": [
    "#Vlerat e atributit 'education' pas gjeneralizimit\n",
    "df_adult['education'].value_counts()"
   ]
  },
  {
   "cell_type": "markdown",
   "metadata": {},
   "source": [
    "Gjeneralizimi i vetise 'marital-status'"
   ]
  },
  {
   "cell_type": "code",
   "execution_count": 100,
   "metadata": {},
   "outputs": [],
   "source": [
    "#Zevendesimi i vlerave \"Separated\",\"Divorced\",\"Widowed\" me vleren \"Not-married\".\n",
    "df_adult['marital-status'] = df_adult['marital-status'].replace(to_replace =[\"Separated\",\"Divorced\",\"Widowed\"], value =\"Not-married\")"
   ]
  },
  {
   "cell_type": "code",
   "execution_count": 101,
   "metadata": {},
   "outputs": [],
   "source": [
    "#Zevendesimi i vlerave \"Married-spouse-absent\",\"Married-AF-spouse\",\"Married-civ-spouse\" me vleren \"Married\".\n",
    "df_adult['marital-status'] = df_adult['marital-status'].replace(to_replace =[\"Married-spouse-absent\",\"Married-AF-spouse\",\"Married-civ-spouse\"], value =\"Married\")"
   ]
  },
  {
   "cell_type": "code",
   "execution_count": 102,
   "metadata": {},
   "outputs": [
    {
     "data": {
      "text/plain": [
       "Married          21639\n",
       "Never-married    14598\n",
       "Not-married       8985\n",
       "Name: marital-status, dtype: int64"
      ]
     },
     "execution_count": 102,
     "metadata": {},
     "output_type": "execute_result"
    }
   ],
   "source": [
    "#Vlerat e atributit 'marital-status pas gjeneralizimit'\n",
    "df_adult['marital-status'].value_counts()"
   ]
  },
  {
   "cell_type": "markdown",
   "metadata": {},
   "source": [
    "Gjeneralizimi i vetise 'native-country'"
   ]
  },
  {
   "cell_type": "code",
   "execution_count": 103,
   "metadata": {},
   "outputs": [],
   "source": [
    "#Zevendesimi i vlerave \"Canada\", \"Cuba\", \"Dominican-Republic\", \"El-Salvador\", \"Guatemala\",\"Haiti\", \"Honduras\", \"Jamaica\", \"Mexico\", \"Nicaragua\",\n",
    "#\"Outlying-US(Guam-USVI-etc)\", \"Puerto-Rico\", \"Trinadad&Tobago\",\"United-States\" me vleren \"North-America\".\n",
    "\n",
    "df_adult['native-country'] = df_adult['native-country'].replace(to_replace =[\"Canada\", \"Cuba\", \"Dominican-Republic\", \"El-Salvador\", \"Guatemala\",\n",
    "                   \"Haiti\", \"Honduras\", \"Jamaica\", \"Mexico\", \"Nicaragua\",\n",
    "                   \"Outlying-US(Guam-USVI-etc)\", \"Puerto-Rico\", \"Trinadad&Tobago\",\n",
    "                   \"United-States\"], value =\"North-America\")"
   ]
  },
  {
   "cell_type": "code",
   "execution_count": 104,
   "metadata": {},
   "outputs": [],
   "source": [
    "# Zv...\n",
    "df_adult['native-country'] = df_adult['native-country'].replace(to_replace =[\"Cambodia\", \"China\", \"Hong\", \"India\", \"Iran\", \"Japan\", \"Laos\",\n",
    "          \"Philippines\", \"Taiwan\", \"Thailand\", \"Vietnam\"], value =\"Asia\")"
   ]
  },
  {
   "cell_type": "code",
   "execution_count": 105,
   "metadata": {},
   "outputs": [],
   "source": [
    "#Zv...\n",
    "df_adult['native-country'] = df_adult['native-country'].replace(to_replace =[\"Columbia\", \"Ecuador\", \"Peru\"], value =\"South-America\")"
   ]
  },
  {
   "cell_type": "code",
   "execution_count": 106,
   "metadata": {},
   "outputs": [],
   "source": [
    "#Zv...\n",
    "df_adult['native-country'] = df_adult['native-country'].replace(to_replace =[\"England\", \"France\", \"Germany\", \"Greece\", \"Holand-Netherlands\",\n",
    "            \"Hungary\", \"Ireland\", \"Italy\", \"Poland\", \"Portugal\", \"Scotland\",\n",
    "            \"Yugoslavia\"], value =\"Europe\")"
   ]
  },
  {
   "cell_type": "code",
   "execution_count": 107,
   "metadata": {},
   "outputs": [],
   "source": [
    "#Zv...\n",
    "df_adult['native-country'] = df_adult['native-country'].replace(to_replace =[\"South\"], value =\"Other\")"
   ]
  },
  {
   "cell_type": "code",
   "execution_count": 108,
   "metadata": {},
   "outputs": [
    {
     "data": {
      "text/plain": [
       "North-America    43283\n",
       "Asia               930\n",
       "Europe             738\n",
       "South-America      170\n",
       "Other              101\n",
       "Name: native-country, dtype: int64"
      ]
     },
     "execution_count": 108,
     "metadata": {},
     "output_type": "execute_result"
    }
   ],
   "source": [
    "df_adult['native-country'].value_counts()"
   ]
  },
  {
   "cell_type": "code",
   "execution_count": 109,
   "metadata": {},
   "outputs": [
    {
     "data": {
      "text/html": [
       "<div>\n",
       "<style scoped>\n",
       "    .dataframe tbody tr th:only-of-type {\n",
       "        vertical-align: middle;\n",
       "    }\n",
       "\n",
       "    .dataframe tbody tr th {\n",
       "        vertical-align: top;\n",
       "    }\n",
       "\n",
       "    .dataframe thead th {\n",
       "        text-align: right;\n",
       "    }\n",
       "</style>\n",
       "<table border=\"1\" class=\"dataframe\">\n",
       "  <thead>\n",
       "    <tr style=\"text-align: right;\">\n",
       "      <th></th>\n",
       "      <th>age</th>\n",
       "      <th>workclass</th>\n",
       "      <th>fnlwgt</th>\n",
       "      <th>education</th>\n",
       "      <th>educational-num</th>\n",
       "      <th>marital-status</th>\n",
       "      <th>occupation</th>\n",
       "      <th>relationship</th>\n",
       "      <th>race</th>\n",
       "      <th>gender</th>\n",
       "      <th>capital-gain</th>\n",
       "      <th>capital-loss</th>\n",
       "      <th>hours-per-week</th>\n",
       "      <th>native-country</th>\n",
       "      <th>income</th>\n",
       "    </tr>\n",
       "  </thead>\n",
       "  <tbody>\n",
       "    <tr>\n",
       "      <td>0</td>\n",
       "      <td>25</td>\n",
       "      <td>Private</td>\n",
       "      <td>226802</td>\n",
       "      <td>Middle school</td>\n",
       "      <td>7</td>\n",
       "      <td>Never-married</td>\n",
       "      <td>Machine-op-inspct</td>\n",
       "      <td>Own-child</td>\n",
       "      <td>Black</td>\n",
       "      <td>Male</td>\n",
       "      <td>0</td>\n",
       "      <td>0</td>\n",
       "      <td>40</td>\n",
       "      <td>North-America</td>\n",
       "      <td>&lt;=50K</td>\n",
       "    </tr>\n",
       "    <tr>\n",
       "      <td>1</td>\n",
       "      <td>38</td>\n",
       "      <td>Private</td>\n",
       "      <td>89814</td>\n",
       "      <td>High School</td>\n",
       "      <td>9</td>\n",
       "      <td>Married</td>\n",
       "      <td>Farming-fishing</td>\n",
       "      <td>Husband</td>\n",
       "      <td>White</td>\n",
       "      <td>Male</td>\n",
       "      <td>0</td>\n",
       "      <td>0</td>\n",
       "      <td>50</td>\n",
       "      <td>North-America</td>\n",
       "      <td>&lt;=50K</td>\n",
       "    </tr>\n",
       "    <tr>\n",
       "      <td>2</td>\n",
       "      <td>28</td>\n",
       "      <td>Local-gov</td>\n",
       "      <td>336951</td>\n",
       "      <td>Associate</td>\n",
       "      <td>12</td>\n",
       "      <td>Married</td>\n",
       "      <td>Protective-serv</td>\n",
       "      <td>Husband</td>\n",
       "      <td>White</td>\n",
       "      <td>Male</td>\n",
       "      <td>0</td>\n",
       "      <td>0</td>\n",
       "      <td>40</td>\n",
       "      <td>North-America</td>\n",
       "      <td>&gt;50K</td>\n",
       "    </tr>\n",
       "    <tr>\n",
       "      <td>3</td>\n",
       "      <td>44</td>\n",
       "      <td>Private</td>\n",
       "      <td>160323</td>\n",
       "      <td>College</td>\n",
       "      <td>10</td>\n",
       "      <td>Married</td>\n",
       "      <td>Machine-op-inspct</td>\n",
       "      <td>Husband</td>\n",
       "      <td>Black</td>\n",
       "      <td>Male</td>\n",
       "      <td>7688</td>\n",
       "      <td>0</td>\n",
       "      <td>40</td>\n",
       "      <td>North-America</td>\n",
       "      <td>&gt;50K</td>\n",
       "    </tr>\n",
       "    <tr>\n",
       "      <td>5</td>\n",
       "      <td>34</td>\n",
       "      <td>Private</td>\n",
       "      <td>198693</td>\n",
       "      <td>Middle school</td>\n",
       "      <td>6</td>\n",
       "      <td>Never-married</td>\n",
       "      <td>Other-service</td>\n",
       "      <td>Not-in-family</td>\n",
       "      <td>White</td>\n",
       "      <td>Male</td>\n",
       "      <td>0</td>\n",
       "      <td>0</td>\n",
       "      <td>30</td>\n",
       "      <td>North-America</td>\n",
       "      <td>&lt;=50K</td>\n",
       "    </tr>\n",
       "  </tbody>\n",
       "</table>\n",
       "</div>"
      ],
      "text/plain": [
       "   age  workclass  fnlwgt      education  educational-num marital-status  \\\n",
       "0   25    Private  226802  Middle school                7  Never-married   \n",
       "1   38    Private   89814    High School                9        Married   \n",
       "2   28  Local-gov  336951      Associate               12        Married   \n",
       "3   44    Private  160323        College               10        Married   \n",
       "5   34    Private  198693  Middle school                6  Never-married   \n",
       "\n",
       "          occupation   relationship   race gender  capital-gain  capital-loss  \\\n",
       "0  Machine-op-inspct      Own-child  Black   Male             0             0   \n",
       "1    Farming-fishing        Husband  White   Male             0             0   \n",
       "2    Protective-serv        Husband  White   Male             0             0   \n",
       "3  Machine-op-inspct        Husband  Black   Male          7688             0   \n",
       "5      Other-service  Not-in-family  White   Male             0             0   \n",
       "\n",
       "   hours-per-week native-country income  \n",
       "0              40  North-America  <=50K  \n",
       "1              50  North-America  <=50K  \n",
       "2              40  North-America   >50K  \n",
       "3              40  North-America   >50K  \n",
       "5              30  North-America  <=50K  "
      ]
     },
     "execution_count": 109,
     "metadata": {},
     "output_type": "execute_result"
    }
   ],
   "source": [
    "#Dataframe i datasetit pas gjeneralizmit \n",
    "df_adult.head()"
   ]
  },
  {
   "cell_type": "markdown",
   "metadata": {},
   "source": [
    "Paraqitja e target variables sipas variablave tjera te datasetit"
   ]
  },
  {
   "cell_type": "markdown",
   "metadata": {},
   "source": [
    "income by age"
   ]
  },
  {
   "cell_type": "code",
   "execution_count": 110,
   "metadata": {
    "scrolled": false
   },
   "outputs": [
    {
     "data": {
      "image/png": "[encoded data removed]",
      "text/plain": [
       "<Figure size 1151.75x360 with 1 Axes>"
      ]
     },
     "metadata": {
      "needs_background": "light"
     },
     "output_type": "display_data"
    }
   ],
   "source": [
    "sns.catplot(x=\"age\", hue=\"income\",kind=\"count\", palette=\"ch:.5\", data=df_adult,height=5,aspect=3);"
   ]
  },
  {
   "cell_type": "markdown",
   "metadata": {},
   "source": [
    "income by hours"
   ]
  },
  {
   "cell_type": "code",
   "execution_count": 111,
   "metadata": {},
   "outputs": [
    {
     "data": {
      "image/png": "[encoded data removed]",
      "text/plain": [
       "<Figure size 1151.75x360 with 1 Axes>"
      ]
     },
     "metadata": {
      "needs_background": "light"
     },
     "output_type": "display_data"
    }
   ],
   "source": [
    "sns.catplot(x=\"hours-per-week\", hue=\"income\",kind=\"count\", palette=\"ch:.5\", data=df_adult,height=5,aspect=3);"
   ]
  },
  {
   "cell_type": "markdown",
   "metadata": {},
   "source": [
    "income by workclass"
   ]
  },
  {
   "cell_type": "code",
   "execution_count": 112,
   "metadata": {
    "scrolled": true
   },
   "outputs": [
    {
     "data": {
      "image/png": "[encoded data removed]",
      "text/plain": [
       "<Figure size 777.35x352.8 with 1 Axes>"
      ]
     },
     "metadata": {
      "needs_background": "light"
     },
     "output_type": "display_data"
    }
   ],
   "source": [
    "sns.catplot(x=\"workclass\", hue=\"income\",kind=\"count\", palette=\"ch:.5\", data=df_adult,height=4.9,aspect=2);"
   ]
  },
  {
   "cell_type": "markdown",
   "metadata": {},
   "source": [
    "income by education"
   ]
  },
  {
   "cell_type": "code",
   "execution_count": 113,
   "metadata": {
    "scrolled": true
   },
   "outputs": [
    {
     "data": {
      "image/png": "[encoded data removed]",
      "text/plain": [
       "<Figure size 883.19x352.8 with 1 Axes>"
      ]
     },
     "metadata": {
      "needs_background": "light"
     },
     "output_type": "display_data"
    }
   ],
   "source": [
    "sns.catplot(x=\"education\", hue=\"income\",kind=\"count\", palette=\"ch:.25\", data=df_adult,height=4.9,aspect=2.3);"
   ]
  },
  {
   "cell_type": "markdown",
   "metadata": {},
   "source": [
    "income by marital-status"
   ]
  },
  {
   "cell_type": "code",
   "execution_count": 114,
   "metadata": {},
   "outputs": [
    {
     "data": {
      "image/png": "[encoded data removed]",
      "text/plain": [
       "<Figure size 600.95x352.8 with 1 Axes>"
      ]
     },
     "metadata": {
      "needs_background": "light"
     },
     "output_type": "display_data"
    }
   ],
   "source": [
    "sns.catplot(x=\"marital-status\", hue=\"income\",kind=\"count\", palette=\"ch:.5\", data=df_adult,height=4.9,aspect=1.5);"
   ]
  },
  {
   "cell_type": "markdown",
   "metadata": {},
   "source": [
    "income by occupation"
   ]
  },
  {
   "cell_type": "code",
   "execution_count": 115,
   "metadata": {
    "scrolled": true
   },
   "outputs": [
    {
     "data": {
      "image/png": "[encoded data removed]",
      "text/plain": [
       "<Figure size 719.75x324 with 1 Axes>"
      ]
     },
     "metadata": {
      "needs_background": "light"
     },
     "output_type": "display_data"
    }
   ],
   "source": [
    "sns.catplot(y=\"occupation\", hue=\"income\",kind=\"count\", palette=\"ch:.5\", data=df_adult,height=4.5,aspect=2);"
   ]
  },
  {
   "cell_type": "markdown",
   "metadata": {},
   "source": [
    "income by relationship"
   ]
  },
  {
   "cell_type": "code",
   "execution_count": 116,
   "metadata": {},
   "outputs": [
    {
     "data": {
      "image/png": "[encoded data removed]",
      "text/plain": [
       "<Figure size 777.35x352.8 with 1 Axes>"
      ]
     },
     "metadata": {
      "needs_background": "light"
     },
     "output_type": "display_data"
    }
   ],
   "source": [
    "sns.catplot(x=\"relationship\", hue=\"income\",kind=\"count\", palette=\"ch:.5\", data=df_adult,height=4.9,aspect=2);"
   ]
  },
  {
   "cell_type": "markdown",
   "metadata": {},
   "source": [
    "income by race"
   ]
  },
  {
   "cell_type": "code",
   "execution_count": 117,
   "metadata": {},
   "outputs": [
    {
     "data": {
      "image/png": "[encoded data removed]",
      "text/plain": [
       "<Figure size 777.35x352.8 with 1 Axes>"
      ]
     },
     "metadata": {
      "needs_background": "light"
     },
     "output_type": "display_data"
    }
   ],
   "source": [
    "sns.catplot(x=\"race\", hue=\"income\",kind=\"count\", palette=\"ch:.5\", data=df_adult,height=4.9,aspect=2);"
   ]
  },
  {
   "cell_type": "markdown",
   "metadata": {},
   "source": [
    "income by gender"
   ]
  },
  {
   "cell_type": "code",
   "execution_count": 118,
   "metadata": {},
   "outputs": [
    {
     "data": {
      "image/png": "[encoded data removed]",
      "text/plain": [
       "<Figure size 424.55x352.8 with 1 Axes>"
      ]
     },
     "metadata": {
      "needs_background": "light"
     },
     "output_type": "display_data"
    }
   ],
   "source": [
    "sns.catplot(x=\"gender\", hue=\"income\",kind=\"count\", palette=\"ch:.5\", data=df_adult,height=4.9,aspect=1);"
   ]
  },
  {
   "cell_type": "markdown",
   "metadata": {},
   "source": [
    "income by native-country"
   ]
  },
  {
   "cell_type": "code",
   "execution_count": 119,
   "metadata": {},
   "outputs": [
    {
     "data": {
      "image/png": "[encoded data removed]",
      "text/plain": [
       "<Figure size 777.35x352.8 with 1 Axes>"
      ]
     },
     "metadata": {
      "needs_background": "light"
     },
     "output_type": "display_data"
    }
   ],
   "source": [
    "sns.catplot(x=\"native-country\", hue=\"income\",kind=\"count\", palette=\"ch:.5\", data=df_adult,height=4.9,aspect=2);"
   ]
  },
  {
   "cell_type": "markdown",
   "metadata": {},
   "source": [
    "Shperndarja e moshes kundrejt gjinise"
   ]
  },
  {
   "cell_type": "code",
   "execution_count": 120,
   "metadata": {},
   "outputs": [
    {
     "data": {
      "image/png": "[encoded data removed]",
      "text/plain": [
       "<Figure size 1152.62x360 with 1 Axes>"
      ]
     },
     "metadata": {
      "needs_background": "light"
     },
     "output_type": "display_data"
    }
   ],
   "source": [
    "sns.catplot(x=\"age\", hue=\"gender\",kind=\"count\", palette=\"ch:.5\", data=df_adult,height=5,aspect=3);"
   ]
  },
  {
   "cell_type": "markdown",
   "metadata": {},
   "source": [
    "Shkallezimi i vetive permes metodes MinMaxScaler"
   ]
  },
  {
   "cell_type": "code",
   "execution_count": 121,
   "metadata": {},
   "outputs": [],
   "source": [
    "from sklearn import preprocessing "
   ]
  },
  {
   "cell_type": "code",
   "execution_count": 122,
   "metadata": {},
   "outputs": [],
   "source": [
    "#Krijimi i objektit MinMaxScaler, brenda rangut (0,1)\n",
    "min_max_scaler = preprocessing.MinMaxScaler(feature_range =(0, 1))"
   ]
  },
  {
   "cell_type": "markdown",
   "metadata": {},
   "source": [
    "'Hours-per-week'"
   ]
  },
  {
   "cell_type": "code",
   "execution_count": 123,
   "metadata": {},
   "outputs": [],
   "source": [
    "#Shkallezimi i vetise 'Hours-per-week'.\n",
    "#Ne variablen hours ruhen vlerat e ketij atributi, qe e ka indeksin e 12. \n",
    "hours = df_adult.iloc[:, 12:13].values"
   ]
  },
  {
   "cell_type": "code",
   "execution_count": 124,
   "metadata": {},
   "outputs": [],
   "source": [
    "#Ne variablen hours1 ruhen vlerat e atributit pas shkallezimit me metoden fit_transform()\n",
    "hours1 = min_max_scaler.fit_transform(hours)"
   ]
  },
  {
   "cell_type": "code",
   "execution_count": 125,
   "metadata": {},
   "outputs": [
    {
     "data": {
      "text/plain": [
       "array([[0.39795918],\n",
       "       [0.5       ],\n",
       "       [0.39795918],\n",
       "       ...,\n",
       "       [0.39795918],\n",
       "       [0.19387755],\n",
       "       [0.39795918]])"
      ]
     },
     "execution_count": 125,
     "metadata": {},
     "output_type": "execute_result"
    }
   ],
   "source": [
    "#tipi i variables hours1 eshte array 2-dimensional\n",
    "hours1"
   ]
  },
  {
   "cell_type": "code",
   "execution_count": 126,
   "metadata": {},
   "outputs": [],
   "source": [
    "#Deklarimi i nje array te zbrazet 'hoursperweek' i cili mbushet me vlerat e array 2-dimensional 'hours1'.\n",
    "hoursperweek = []\n",
    "for i in range(len(hours1)):\n",
    "    for j in range(len(hours1[i])):\n",
    "        hoursperweek.append(hours1[i][j])"
   ]
  },
  {
   "cell_type": "code",
   "execution_count": 127,
   "metadata": {},
   "outputs": [
    {
     "data": {
      "text/plain": [
       "[0.39795918367346933,\n",
       " 0.5,\n",
       " 0.39795918367346933,\n",
       " 0.39795918367346933,\n",
       " 0.2959183673469387,\n",
       " 0.31632653061224486,\n",
       " 0.39795918367346933,\n",
       " 0.09183673469387754,\n",
       " 0.39795918367346933,\n",
       " 0.39795918367346933,\n",
       " 0.38775510204081626,\n",
       " 0.47959183673469385,\n",
       " 0.5,\n",
       " 0.24489795918367346,\n",
       " 0.2959183673469387,\n",
       " 0.19387755102040813,\n",
       " 0.4693877551020408,\n",
       " 0.346938775510204,\n",
       " 0.42857142857142855,\n",
       " 0.39795918367346933,\n",
       " 0.9081632653061223,\n",
       " 0.19387755102040813,\n",
       " 0.5408163265306122,\n",
       " 0.346938775510204,\n",
       " 0.6020408163265305,\n",
       " 0.37755102040816324,\n",
       " 0.5,\n",
       " 0.5,\n",
       " 0.39795918367346933,\n",
       " 0.39795918367346933,\n",
       " 0.39795918367346933,\n",
       " 0.5,\n",
       " 0.39795918367346933,\n",
       " 0.39795918367346933,\n",
       " 0.5,\n",
       " 0.44897959183673464,\n",
       " 0.39795918367346933,\n",
       " 0.39795918367346933,\n",
       " 0.31632653061224486,\n",
       " 0.3571428571428571,\n",
       " 0.39795918367346933,\n",
       " 0.5,\n",
       " 0.173469387755102,\n",
       " 0.5,\n",
       " 0.19387755102040813,\n",
       " 0.39795918367346933,\n",
       " 0.2346938775510204,\n",
       " 0.6020408163265305,\n",
       " 0.5408163265306122,\n",
       " 0.39795918367346933,\n",
       " 0.39795918367346933,\n",
       " 0.5,\n",
       " 0.5,\n",
       " 0.39795918367346933,\n",
       " 0.5,\n",
       " 0.39795918367346933,\n",
       " 0.39795918367346933,\n",
       " 0.39795918367346933,\n",
       " 0.39795918367346933,\n",
       " 0.6020408163265305,\n",
       " 0.19387755102040813,\n",
       " 0.39795918367346933,\n",
       " 0.47959183673469385,\n",
       " 0.44897959183673464,\n",
       " 0.39795918367346933,\n",
       " 0.39795918367346933,\n",
       " 0.39795918367346933,\n",
       " 0.39795918367346933,\n",
       " 0.5,\n",
       " 0.2959183673469387,\n",
       " 0.39795918367346933,\n",
       " 0.39795918367346933,\n",
       " 0.5,\n",
       " 0.39795918367346933,\n",
       " 0.39795918367346933,\n",
       " 0.5,\n",
       " 0.43877551020408156,\n",
       " 0.09183673469387754,\n",
       " 0.5612244897959183,\n",
       " 0.39795918367346933,\n",
       " 0.24489795918367346,\n",
       " 0.19387755102040813,\n",
       " 0.09183673469387754,\n",
       " 0.39795918367346933,\n",
       " 0.39795918367346933,\n",
       " 0.39795918367346933,\n",
       " 0.39795918367346933,\n",
       " 0.39795918367346933,\n",
       " 0.39795918367346933,\n",
       " 0.39795918367346933,\n",
       " 0.346938775510204,\n",
       " 0.38775510204081626,\n",
       " 0.39795918367346933,\n",
       " 0.2755102040816326,\n",
       " 0.39795918367346933,\n",
       " 0.39795918367346933,\n",
       " 0.39795918367346933,\n",
       " 0.1530612244897959,\n",
       " 0.2755102040816326,\n",
       " 0.47959183673469385,\n",
       " 0.39795918367346933,\n",
       " 0.39795918367346933,\n",
       " 0.39795918367346933,\n",
       " 0.39795918367346933,\n",
       " 0.39795918367346933,\n",
       " 0.2346938775510204,\n",
       " 0.39795918367346933,\n",
       " 0.39795918367346933,\n",
       " 0.6020408163265305,\n",
       " 0.24489795918367346,\n",
       " 0.2959183673469387,\n",
       " 0.39795918367346933,\n",
       " 0.39795918367346933,\n",
       " 0.24489795918367346,\n",
       " 0.39795918367346933,\n",
       " 0.39795918367346933,\n",
       " 0.6020408163265305,\n",
       " 0.5,\n",
       " 0.39795918367346933,\n",
       " 0.39795918367346933,\n",
       " 0.4081632653061224,\n",
       " 0.47959183673469385,\n",
       " 0.39795918367346933,\n",
       " 0.6020408163265305,\n",
       " 0.39795918367346933,\n",
       " 0.346938775510204,\n",
       " 0.39795918367346933,\n",
       " 0.39795918367346933,\n",
       " 0.21428571428571425,\n",
       " 0.5510204081632653,\n",
       " 0.44897959183673464,\n",
       " 0.2959183673469387,\n",
       " 0.2959183673469387,\n",
       " 0.2959183673469387,\n",
       " 0.39795918367346933,\n",
       " 0.5,\n",
       " 0.2959183673469387,\n",
       " 0.13265306122448978,\n",
       " 0.31632653061224486,\n",
       " 0.19387755102040813,\n",
       " 0.39795918367346933,\n",
       " 0.44897959183673464,\n",
       " 0.39795918367346933,\n",
       " 0.39795918367346933,\n",
       " 0.24489795918367346,\n",
       " 0.39795918367346933,\n",
       " 0.39795918367346933,\n",
       " 0.2959183673469387,\n",
       " 0.39795918367346933,\n",
       " 0.44897959183673464,\n",
       " 0.39795918367346933,\n",
       " 0.44897959183673464,\n",
       " 0.39795918367346933,\n",
       " 0.1530612244897959,\n",
       " 0.44897959183673464,\n",
       " 0.24489795918367346,\n",
       " 0.32653061224489793,\n",
       " 0.39795918367346933,\n",
       " 0.39795918367346933,\n",
       " 0.39795918367346933,\n",
       " 0.6020408163265305,\n",
       " 0.39795918367346933,\n",
       " 0.44897959183673464,\n",
       " 0.44897959183673464,\n",
       " 0.36734693877551017,\n",
       " 0.5,\n",
       " 0.39795918367346933,\n",
       " 0.39795918367346933,\n",
       " 0.39795918367346933,\n",
       " 0.5510204081632653,\n",
       " 0.39795918367346933,\n",
       " 0.44897959183673464,\n",
       " 0.5,\n",
       " 0.44897959183673464,\n",
       " 0.39795918367346933,\n",
       " 0.5,\n",
       " 0.36734693877551017,\n",
       " 0.5510204081632653,\n",
       " 0.39795918367346933,\n",
       " 0.44897959183673464,\n",
       " 0.5,\n",
       " 0.39795918367346933,\n",
       " 0.39795918367346933,\n",
       " 0.39795918367346933,\n",
       " 0.5,\n",
       " 0.44897959183673464,\n",
       " 0.39795918367346933,\n",
       " 0.39795918367346933,\n",
       " 0.5408163265306122,\n",
       " 0.39795918367346933,\n",
       " 0.19387755102040813,\n",
       " 0.5,\n",
       " 0.5510204081632653,\n",
       " 0.11224489795918367,\n",
       " 0.5,\n",
       " 0.39795918367346933,\n",
       " 0.39795918367346933,\n",
       " 0.31632653061224486,\n",
       " 0.39795918367346933,\n",
       " 0.31632653061224486,\n",
       " 0.37755102040816324,\n",
       " 0.39795918367346933,\n",
       " 0.44897959183673464,\n",
       " 0.39795918367346933,\n",
       " 0.39795918367346933,\n",
       " 0.39795918367346933,\n",
       " 0.39795918367346933,\n",
       " 0.39795918367346933,\n",
       " 0.39795918367346933,\n",
       " 0.37755102040816324,\n",
       " 0.39795918367346933,\n",
       " 0.39795918367346933,\n",
       " 0.5,\n",
       " 0.5,\n",
       " 0.39795918367346933,\n",
       " 0.2959183673469387,\n",
       " 0.6020408163265305,\n",
       " 0.39795918367346933,\n",
       " 0.2755102040816326,\n",
       " 0.39795918367346933,\n",
       " 0.39795918367346933,\n",
       " 0.346938775510204,\n",
       " 0.6020408163265305,\n",
       " 0.11224489795918367,\n",
       " 0.31632653061224486,\n",
       " 0.19387755102040813,\n",
       " 0.39795918367346933,\n",
       " 0.39795918367346933,\n",
       " 0.7040816326530611,\n",
       " 0.39795918367346933,\n",
       " 0.14285714285714282,\n",
       " 0.5,\n",
       " 0.39795918367346933,\n",
       " 0.5,\n",
       " 0.346938775510204,\n",
       " 0.39795918367346933,\n",
       " 0.39795918367346933,\n",
       " 0.39795918367346933,\n",
       " 0.19387755102040813,\n",
       " 0.5,\n",
       " 0.39795918367346933,\n",
       " 0.39795918367346933,\n",
       " 0.39795918367346933,\n",
       " 0.39795918367346933,\n",
       " 0.39795918367346933,\n",
       " 0.24489795918367346,\n",
       " 0.19387755102040813,\n",
       " 0.7551020408163265,\n",
       " 0.39795918367346933,\n",
       " 0.39795918367346933,\n",
       " 0.37755102040816324,\n",
       " 0.346938775510204,\n",
       " 0.520408163265306,\n",
       " 0.2346938775510204,\n",
       " 0.5,\n",
       " 0.6020408163265305,\n",
       " 0.39795918367346933,\n",
       " 0.37755102040816324,\n",
       " 0.24489795918367346,\n",
       " 0.39795918367346933,\n",
       " 0.5510204081632653,\n",
       " 0.47959183673469385,\n",
       " 0.39795918367346933,\n",
       " 0.39795918367346933,\n",
       " 0.39795918367346933,\n",
       " 0.39795918367346933,\n",
       " 0.5510204081632653,\n",
       " 0.39795918367346933,\n",
       " 0.39795918367346933,\n",
       " 0.39795918367346933,\n",
       " 0.39795918367346933,\n",
       " 0.39795918367346933,\n",
       " 0.31632653061224486,\n",
       " 0.39795918367346933,\n",
       " 0.6020408163265305,\n",
       " 0.47959183673469385,\n",
       " 0.39795918367346933,\n",
       " 0.37755102040816324,\n",
       " 0.37755102040816324,\n",
       " 0.39795918367346933,\n",
       " 0.1530612244897959,\n",
       " 0.39795918367346933,\n",
       " 0.39795918367346933,\n",
       " 0.6020408163265305,\n",
       " 0.846938775510204,\n",
       " 0.44897959183673464,\n",
       " 0.39795918367346933,\n",
       " 0.6020408163265305,\n",
       " 0.44897959183673464,\n",
       " 0.346938775510204,\n",
       " 0.4183673469387755,\n",
       " 0.24489795918367346,\n",
       " 0.39795918367346933,\n",
       " 0.39795918367346933,\n",
       " 0.39795918367346933,\n",
       " 0.39795918367346933,\n",
       " 0.39795918367346933,\n",
       " 0.39795918367346933,\n",
       " 0.39795918367346933,\n",
       " 0.5,\n",
       " 0.4183673469387755,\n",
       " 0.14285714285714282,\n",
       " 0.6020408163265305,\n",
       " 0.19387755102040813,\n",
       " 0.39795918367346933,\n",
       " 0.4183673469387755,\n",
       " 0.5,\n",
       " 0.39795918367346933,\n",
       " 0.5510204081632653,\n",
       " 0.39795918367346933,\n",
       " 0.8061224489795917,\n",
       " 0.47959183673469385,\n",
       " 0.39795918367346933,\n",
       " 0.39795918367346933,\n",
       " 0.39795918367346933,\n",
       " 0.44897959183673464,\n",
       " 0.39795918367346933,\n",
       " 0.5,\n",
       " 0.39795918367346933,\n",
       " 0.5,\n",
       " 0.39795918367346933,\n",
       " 0.39795918367346933,\n",
       " 0.2959183673469387,\n",
       " 0.39795918367346933,\n",
       " 0.11224489795918367,\n",
       " 0.846938775510204,\n",
       " 0.5,\n",
       " 0.44897959183673464,\n",
       " 0.8061224489795917,\n",
       " 0.39795918367346933,\n",
       " 0.39795918367346933,\n",
       " 0.39795918367346933,\n",
       " 0.6020408163265305,\n",
       " 0.24489795918367346,\n",
       " 0.39795918367346933,\n",
       " 0.5,\n",
       " 0.24489795918367346,\n",
       " 0.7040816326530611,\n",
       " 0.6020408163265305,\n",
       " 0.07142857142857142,\n",
       " 0.39795918367346933,\n",
       " 0.6836734693877551,\n",
       " 0.39795918367346933,\n",
       " 0.39795918367346933,\n",
       " 0.43877551020408156,\n",
       " 0.44897959183673464,\n",
       " 0.39795918367346933,\n",
       " 0.39795918367346933,\n",
       " 0.39795918367346933,\n",
       " 0.14285714285714282,\n",
       " 0.39795918367346933,\n",
       " 0.39795918367346933,\n",
       " 0.346938775510204,\n",
       " 0.346938775510204,\n",
       " 0.9999999999999999,\n",
       " 0.346938775510204,\n",
       " 0.36734693877551017,\n",
       " 0.39795918367346933,\n",
       " 0.39795918367346933,\n",
       " 0.5510204081632653,\n",
       " 0.5,\n",
       " 0.39795918367346933,\n",
       " 0.5,\n",
       " 0.39795918367346933,\n",
       " 0.6020408163265305,\n",
       " 0.44897959183673464,\n",
       " 0.44897959183673464,\n",
       " 0.39795918367346933,\n",
       " 0.39795918367346933,\n",
       " 0.19387755102040813,\n",
       " 0.24489795918367346,\n",
       " 0.6530612244897959,\n",
       " 0.5510204081632653,\n",
       " 0.39795918367346933,\n",
       " 0.39795918367346933,\n",
       " 0.39795918367346933,\n",
       " 0.2346938775510204,\n",
       " 0.39795918367346933,\n",
       " 0.39795918367346933,\n",
       " 0.7040816326530611,\n",
       " 0.39795918367346933,\n",
       " 0.39795918367346933,\n",
       " 0.2959183673469387,\n",
       " 0.39795918367346933,\n",
       " 0.39795918367346933,\n",
       " 0.39795918367346933,\n",
       " 0.39795918367346933,\n",
       " 0.39795918367346933,\n",
       " 0.44897959183673464,\n",
       " 0.39795918367346933,\n",
       " 0.39795918367346933,\n",
       " 0.39795918367346933,\n",
       " 0.39795918367346933,\n",
       " 0.44897959183673464,\n",
       " 0.5,\n",
       " 0.19387755102040813,\n",
       " 0.39795918367346933,\n",
       " 0.36734693877551017,\n",
       " 0.39795918367346933,\n",
       " 0.5510204081632653,\n",
       " 0.6020408163265305,\n",
       " 0.5,\n",
       " 0.39795918367346933,\n",
       " 0.39795918367346933,\n",
       " 0.39795918367346933,\n",
       " 0.6020408163265305,\n",
       " 0.19387755102040813,\n",
       " 0.5510204081632653,\n",
       " 0.5,\n",
       " 0.39795918367346933,\n",
       " 0.39795918367346933,\n",
       " 0.39795918367346933,\n",
       " 0.39795918367346933,\n",
       " 0.47959183673469385,\n",
       " 0.39795918367346933,\n",
       " 0.43877551020408156,\n",
       " 0.39795918367346933,\n",
       " 0.4183673469387755,\n",
       " 0.346938775510204,\n",
       " 0.6530612244897959,\n",
       " 0.346938775510204,\n",
       " 0.39795918367346933,\n",
       " 0.38775510204081626,\n",
       " 0.39795918367346933,\n",
       " 0.6020408163265305,\n",
       " 0.37755102040816324,\n",
       " 0.39795918367346933,\n",
       " 0.39795918367346933,\n",
       " 0.39795918367346933,\n",
       " 0.39795918367346933,\n",
       " 0.39795918367346933,\n",
       " 0.39795918367346933,\n",
       " 0.5,\n",
       " 0.39795918367346933,\n",
       " 0.39795918367346933,\n",
       " 0.7551020408163265,\n",
       " 0.39795918367346933,\n",
       " 0.39795918367346933,\n",
       " 0.19387755102040813,\n",
       " 0.31632653061224486,\n",
       " 0.2755102040816326,\n",
       " 0.39795918367346933,\n",
       " 0.16326530612244897,\n",
       " 0.5,\n",
       " 0.346938775510204,\n",
       " 0.39795918367346933,\n",
       " 0.39795918367346933,\n",
       " 0.2959183673469387,\n",
       " 0.346938775510204,\n",
       " 0.39795918367346933,\n",
       " 0.39795918367346933,\n",
       " 0.2755102040816326,\n",
       " 0.6020408163265305,\n",
       " 0.39795918367346933,\n",
       " 0.39795918367346933,\n",
       " 0.3571428571428571,\n",
       " 0.39795918367346933,\n",
       " 0.6020408163265305,\n",
       " 0.39795918367346933,\n",
       " 0.346938775510204,\n",
       " 0.39795918367346933,\n",
       " 0.5510204081632653,\n",
       " 0.39795918367346933,\n",
       " 0.32653061224489793,\n",
       " 0.6020408163265305,\n",
       " 0.09183673469387754,\n",
       " 0.44897959183673464,\n",
       " 0.3571428571428571,\n",
       " 0.6530612244897959,\n",
       " 0.39795918367346933,\n",
       " 0.37755102040816324,\n",
       " 0.39795918367346933,\n",
       " 0.173469387755102,\n",
       " 0.39795918367346933,\n",
       " 0.39795918367346933,\n",
       " 0.6020408163265305,\n",
       " 0.44897959183673464,\n",
       " 0.39795918367346933,\n",
       " 0.5,\n",
       " 0.7244897959183673,\n",
       " 0.11224489795918367,\n",
       " 0.5,\n",
       " 0.39795918367346933,\n",
       " 0.39795918367346933,\n",
       " 0.39795918367346933,\n",
       " 0.346938775510204,\n",
       " 0.5,\n",
       " 0.5,\n",
       " 0.36734693877551017,\n",
       " 0.39795918367346933,\n",
       " 0.39795918367346933,\n",
       " 0.6020408163265305,\n",
       " 0.2959183673469387,\n",
       " 0.44897959183673464,\n",
       " 0.39795918367346933,\n",
       " 0.6020408163265305,\n",
       " 0.19387755102040813,\n",
       " 0.5,\n",
       " 0.5,\n",
       " 0.39795918367346933,\n",
       " 0.39795918367346933,\n",
       " 0.44897959183673464,\n",
       " 0.6020408163265305,\n",
       " 0.39795918367346933,\n",
       " 0.39795918367346933,\n",
       " 0.5,\n",
       " 0.6020408163265305,\n",
       " 0.24489795918367346,\n",
       " 0.346938775510204,\n",
       " 0.5,\n",
       " 0.39795918367346933,\n",
       " 0.39795918367346933,\n",
       " 0.39795918367346933,\n",
       " 0.6020408163265305,\n",
       " 0.39795918367346933,\n",
       " 0.5,\n",
       " 0.24489795918367346,\n",
       " 0.39795918367346933,\n",
       " 0.39795918367346933,\n",
       " 0.346938775510204,\n",
       " 0.6020408163265305,\n",
       " 0.39795918367346933,\n",
       " 0.5408163265306122,\n",
       " 0.39795918367346933,\n",
       " 0.6530612244897959,\n",
       " 0.36734693877551017,\n",
       " 0.39795918367346933,\n",
       " 0.2959183673469387,\n",
       " 0.47959183673469385,\n",
       " 0.346938775510204,\n",
       " 0.39795918367346933,\n",
       " 0.5,\n",
       " 0.8061224489795917,\n",
       " 0.44897959183673464,\n",
       " 0.44897959183673464,\n",
       " 0.44897959183673464,\n",
       " 0.39795918367346933,\n",
       " 0.39795918367346933,\n",
       " 0.5,\n",
       " 0.39795918367346933,\n",
       " 0.39795918367346933,\n",
       " 0.2959183673469387,\n",
       " 0.39795918367346933,\n",
       " 0.39795918367346933,\n",
       " 0.39795918367346933,\n",
       " 0.39795918367346933,\n",
       " 0.39795918367346933,\n",
       " 0.39795918367346933,\n",
       " 0.346938775510204,\n",
       " 0.19387755102040813,\n",
       " 0.5,\n",
       " 0.39795918367346933,\n",
       " 0.2755102040816326,\n",
       " 0.5510204081632653,\n",
       " 0.5510204081632653,\n",
       " 0.346938775510204,\n",
       " 0.39795918367346933,\n",
       " 0.39795918367346933,\n",
       " 0.6020408163265305,\n",
       " 0.39795918367346933,\n",
       " 0.39795918367346933,\n",
       " 0.39795918367346933,\n",
       " 0.5,\n",
       " 0.39795918367346933,\n",
       " 0.39795918367346933,\n",
       " 0.5612244897959183,\n",
       " 0.47959183673469385,\n",
       " 0.39795918367346933,\n",
       " 0.39795918367346933,\n",
       " 0.39795918367346933,\n",
       " 0.2959183673469387,\n",
       " 0.39795918367346933,\n",
       " 0.39795918367346933,\n",
       " 0.5306122448979591,\n",
       " 0.37755102040816324,\n",
       " 0.346938775510204,\n",
       " 0.39795918367346933,\n",
       " 0.39795918367346933,\n",
       " 0.39795918367346933,\n",
       " 0.5,\n",
       " 0.44897959183673464,\n",
       " 0.6020408163265305,\n",
       " 0.39795918367346933,\n",
       " 0.39795918367346933,\n",
       " 0.36734693877551017,\n",
       " 0.39795918367346933,\n",
       " 0.2959183673469387,\n",
       " 0.520408163265306,\n",
       " 0.39795918367346933,\n",
       " 0.39795918367346933,\n",
       " 0.4183673469387755,\n",
       " 0.39795918367346933,\n",
       " 0.39795918367346933,\n",
       " 0.39795918367346933,\n",
       " 0.39795918367346933,\n",
       " 0.24489795918367346,\n",
       " 0.24489795918367346,\n",
       " 0.19387755102040813,\n",
       " 0.39795918367346933,\n",
       " 0.39795918367346933,\n",
       " 0.19387755102040813,\n",
       " 0.39795918367346933,\n",
       " 0.39795918367346933,\n",
       " 0.19387755102040813,\n",
       " 0.5,\n",
       " 0.5510204081632653,\n",
       " 0.44897959183673464,\n",
       " 0.19387755102040813,\n",
       " 0.31632653061224486,\n",
       " 0.09183673469387754,\n",
       " 0.39795918367346933,\n",
       " 0.39795918367346933,\n",
       " 0.39795918367346933,\n",
       " 0.39795918367346933,\n",
       " 0.7551020408163265,\n",
       " 0.2346938775510204,\n",
       " 0.346938775510204,\n",
       " 0.39795918367346933,\n",
       " 0.39795918367346933,\n",
       " 0.39795918367346933,\n",
       " 0.19387755102040813,\n",
       " 0.5,\n",
       " 0.39795918367346933,\n",
       " 0.39795918367346933,\n",
       " 0.5,\n",
       " 0.19387755102040813,\n",
       " 0.39795918367346933,\n",
       " 0.39795918367346933,\n",
       " 0.520408163265306,\n",
       " 0.39795918367346933,\n",
       " 0.520408163265306,\n",
       " 0.7040816326530611,\n",
       " 0.5510204081632653,\n",
       " 0.39795918367346933,\n",
       " 0.346938775510204,\n",
       " 0.39795918367346933,\n",
       " 0.5510204081632653,\n",
       " 0.39795918367346933,\n",
       " 0.39795918367346933,\n",
       " 0.24489795918367346,\n",
       " 0.09183673469387754,\n",
       " 0.8061224489795917,\n",
       " 0.44897959183673464,\n",
       " 0.39795918367346933,\n",
       " 0.5,\n",
       " 0.6020408163265305,\n",
       " 0.39795918367346933,\n",
       " 0.39795918367346933,\n",
       " 0.24489795918367346,\n",
       " 0.39795918367346933,\n",
       " 0.39795918367346933,\n",
       " 0.39795918367346933,\n",
       " 0.44897959183673464,\n",
       " 0.6530612244897959,\n",
       " 0.39795918367346933,\n",
       " 0.39795918367346933,\n",
       " 0.5,\n",
       " 0.39795918367346933,\n",
       " 0.39795918367346933,\n",
       " 0.6020408163265305,\n",
       " 0.47959183673469385,\n",
       " 0.39795918367346933,\n",
       " 0.47959183673469385,\n",
       " 0.6020408163265305,\n",
       " 0.9693877551020408,\n",
       " 0.39795918367346933,\n",
       " 0.39795918367346933,\n",
       " 0.5,\n",
       " 0.24489795918367346,\n",
       " 0.5,\n",
       " 0.39795918367346933,\n",
       " 0.44897959183673464,\n",
       " 0.5,\n",
       " 0.39795918367346933,\n",
       " 0.19387755102040813,\n",
       " 0.5,\n",
       " 0.39795918367346933,\n",
       " 0.5510204081632653,\n",
       " 0.2959183673469387,\n",
       " 0.5,\n",
       " 0.39795918367346933,\n",
       " 0.39795918367346933,\n",
       " 0.39795918367346933,\n",
       " 0.5,\n",
       " 0.39795918367346933,\n",
       " 0.2755102040816326,\n",
       " 0.6020408163265305,\n",
       " 0.520408163265306,\n",
       " 0.44897959183673464,\n",
       " 0.39795918367346933,\n",
       " 0.5,\n",
       " 0.346938775510204,\n",
       " 0.5,\n",
       " 0.39795918367346933,\n",
       " 0.39795918367346933,\n",
       " 0.44897959183673464,\n",
       " 0.32653061224489793,\n",
       " 0.39795918367346933,\n",
       " 0.5,\n",
       " 0.5510204081632653,\n",
       " 0.39795918367346933,\n",
       " 0.39795918367346933,\n",
       " 0.39795918367346933,\n",
       " 0.32653061224489793,\n",
       " 0.2755102040816326,\n",
       " 0.39795918367346933,\n",
       " 0.39795918367346933,\n",
       " 0.346938775510204,\n",
       " 0.2040816326530612,\n",
       " 0.39795918367346933,\n",
       " 0.39795918367346933,\n",
       " 0.07142857142857142,\n",
       " 0.346938775510204,\n",
       " 0.6020408163265305,\n",
       " 0.5,\n",
       " 0.6020408163265305,\n",
       " 0.39795918367346933,\n",
       " 0.39795918367346933,\n",
       " 0.39795918367346933,\n",
       " 0.39795918367346933,\n",
       " 0.39795918367346933,\n",
       " 0.39795918367346933,\n",
       " 0.39795918367346933,\n",
       " 0.14285714285714282,\n",
       " 0.39795918367346933,\n",
       " 0.39795918367346933,\n",
       " 0.39795918367346933,\n",
       " 0.39795918367346933,\n",
       " 0.19387755102040813,\n",
       " 0.39795918367346933,\n",
       " 0.39795918367346933,\n",
       " 0.39795918367346933,\n",
       " 0.09183673469387754,\n",
       " 0.42857142857142855,\n",
       " 0.44897959183673464,\n",
       " 0.2959183673469387,\n",
       " 0.44897959183673464,\n",
       " 0.24489795918367346,\n",
       " 0.44897959183673464,\n",
       " 0.5,\n",
       " 0.39795918367346933,\n",
       " 0.39795918367346933,\n",
       " 0.47959183673469385,\n",
       " 0.39795918367346933,\n",
       " 0.39795918367346933,\n",
       " 0.37755102040816324,\n",
       " 0.39795918367346933,\n",
       " 0.9081632653061223,\n",
       " 0.39795918367346933,\n",
       " 0.39795918367346933,\n",
       " 0.39795918367346933,\n",
       " 0.14285714285714282,\n",
       " 0.39795918367346933,\n",
       " 0.1530612244897959,\n",
       " 0.24489795918367346,\n",
       " 0.6020408163265305,\n",
       " 0.36734693877551017,\n",
       " 0.24489795918367346,\n",
       " 0.39795918367346933,\n",
       " 0.346938775510204,\n",
       " 0.39795918367346933,\n",
       " 0.39795918367346933,\n",
       " 0.39795918367346933,\n",
       " 0.24489795918367346,\n",
       " 0.44897959183673464,\n",
       " 0.5510204081632653,\n",
       " 0.09183673469387754,\n",
       " 0.4591836734693877,\n",
       " 0.2959183673469387,\n",
       " 0.39795918367346933,\n",
       " 0.346938775510204,\n",
       " 0.39795918367346933,\n",
       " 0.39795918367346933,\n",
       " 0.39795918367346933,\n",
       " 0.07142857142857142,\n",
       " 0.39795918367346933,\n",
       " 0.173469387755102,\n",
       " 0.39795918367346933,\n",
       " 0.020408163265306124,\n",
       " 0.39795918367346933,\n",
       " 0.39795918367346933,\n",
       " 0.5,\n",
       " 0.19387755102040813,\n",
       " 0.39795918367346933,\n",
       " 0.2959183673469387,\n",
       " 0.39795918367346933,\n",
       " 0.6020408163265305,\n",
       " 0.39795918367346933,\n",
       " 0.5,\n",
       " 0.39795918367346933,\n",
       " 0.346938775510204,\n",
       " 0.2959183673469387,\n",
       " 0.39795918367346933,\n",
       " 0.39795918367346933,\n",
       " 0.24489795918367346,\n",
       " 0.39795918367346933,\n",
       " 0.47959183673469385,\n",
       " 0.39795918367346933,\n",
       " 0.39795918367346933,\n",
       " 0.346938775510204,\n",
       " 0.39795918367346933,\n",
       " 0.38775510204081626,\n",
       " 0.39795918367346933,\n",
       " 0.5510204081632653,\n",
       " 0.39795918367346933,\n",
       " 0.0,\n",
       " 0.5,\n",
       " 0.5,\n",
       " 0.39795918367346933,\n",
       " 0.39795918367346933,\n",
       " 0.5510204081632653,\n",
       " 0.39795918367346933,\n",
       " 0.39795918367346933,\n",
       " 0.39795918367346933,\n",
       " 0.39795918367346933,\n",
       " 0.6020408163265305,\n",
       " 0.2959183673469387,\n",
       " 0.5,\n",
       " 0.39795918367346933,\n",
       " 0.346938775510204,\n",
       " 0.39795918367346933,\n",
       " 0.39795918367346933,\n",
       " 0.44897959183673464,\n",
       " 0.5510204081632653,\n",
       " 0.39795918367346933,\n",
       " 0.39795918367346933,\n",
       " 0.43877551020408156,\n",
       " 0.6020408163265305,\n",
       " 0.39795918367346933,\n",
       " 0.5,\n",
       " 0.44897959183673464,\n",
       " 0.2959183673469387,\n",
       " 0.5,\n",
       " 0.43877551020408156,\n",
       " 0.9999999999999999,\n",
       " 0.39795918367346933,\n",
       " 0.39795918367346933,\n",
       " 0.37755102040816324,\n",
       " 0.6020408163265305,\n",
       " 0.6020408163265305,\n",
       " 0.8061224489795917,\n",
       " 0.5510204081632653,\n",
       " 0.39795918367346933,\n",
       " 0.39795918367346933,\n",
       " 0.37755102040816324,\n",
       " 0.39795918367346933,\n",
       " 0.39795918367346933,\n",
       " 0.39795918367346933,\n",
       " 0.39795918367346933,\n",
       " 0.346938775510204,\n",
       " 0.3571428571428571,\n",
       " 0.39795918367346933,\n",
       " 0.39795918367346933,\n",
       " 0.2959183673469387,\n",
       " 0.5,\n",
       " 0.39795918367346933,\n",
       " 0.39795918367346933,\n",
       " 0.5510204081632653,\n",
       " 0.7040816326530611,\n",
       " 0.11224489795918367,\n",
       " 0.39795918367346933,\n",
       " 0.5,\n",
       " 0.31632653061224486,\n",
       " 0.39795918367346933,\n",
       " 0.39795918367346933,\n",
       " 0.39795918367346933,\n",
       " 0.47959183673469385,\n",
       " 0.47959183673469385,\n",
       " 0.39795918367346933,\n",
       " 0.39795918367346933,\n",
       " 0.6020408163265305,\n",
       " 0.44897959183673464,\n",
       " 0.39795918367346933,\n",
       " 0.346938775510204,\n",
       " 0.39795918367346933,\n",
       " 0.39795918367346933,\n",
       " 0.39795918367346933,\n",
       " 0.5510204081632653,\n",
       " 0.43877551020408156,\n",
       " 0.48979591836734687,\n",
       " 0.1530612244897959,\n",
       " 0.39795918367346933,\n",
       " 0.346938775510204,\n",
       " 0.5612244897959183,\n",
       " 0.39795918367346933,\n",
       " 0.39795918367346933,\n",
       " 0.39795918367346933,\n",
       " 0.39795918367346933,\n",
       " 0.5510204081632653,\n",
       " 0.39795918367346933,\n",
       " 0.39795918367346933,\n",
       " 0.39795918367346933,\n",
       " 0.39795918367346933,\n",
       " 0.5,\n",
       " 0.39795918367346933,\n",
       " 0.6020408163265305,\n",
       " 0.39795918367346933,\n",
       " 0.39795918367346933,\n",
       " 0.39795918367346933,\n",
       " 0.8061224489795917,\n",
       " 0.44897959183673464,\n",
       " 0.39795918367346933,\n",
       " 0.39795918367346933,\n",
       " 0.36734693877551017,\n",
       " 0.39795918367346933,\n",
       " 0.673469387755102,\n",
       " 0.6020408163265305,\n",
       " 0.6020408163265305,\n",
       " 0.19387755102040813,\n",
       " 0.39795918367346933,\n",
       " 0.39795918367346933,\n",
       " 0.39795918367346933,\n",
       " 0.4183673469387755,\n",
       " 0.39795918367346933,\n",
       " 0.44897959183673464,\n",
       " 0.346938775510204,\n",
       " 0.24489795918367346,\n",
       " 0.39795918367346933,\n",
       " 0.39795918367346933,\n",
       " 0.39795918367346933,\n",
       " 0.39795918367346933,\n",
       " 0.520408163265306,\n",
       " 0.19387755102040813,\n",
       " 0.14285714285714282,\n",
       " 0.39795918367346933,\n",
       " 0.44897959183673464,\n",
       " 0.39795918367346933,\n",
       " 0.24489795918367346,\n",
       " 0.24489795918367346,\n",
       " 0.39795918367346933,\n",
       " 0.4591836734693877,\n",
       " 0.39795918367346933,\n",
       " 0.39795918367346933,\n",
       " 0.39795918367346933,\n",
       " 0.4693877551020408,\n",
       " 0.39795918367346933,\n",
       " 0.39795918367346933,\n",
       " 0.39795918367346933,\n",
       " 0.44897959183673464,\n",
       " 0.09183673469387754,\n",
       " 0.47959183673469385,\n",
       " 0.39795918367346933,\n",
       " 0.346938775510204,\n",
       " 0.5,\n",
       " 0.39795918367346933,\n",
       " 0.39795918367346933,\n",
       " 0.39795918367346933,\n",
       " 0.39795918367346933,\n",
       " 0.346938775510204,\n",
       " 0.39795918367346933,\n",
       " 0.39795918367346933,\n",
       " 0.5612244897959183,\n",
       " 0.37755102040816324,\n",
       " 0.173469387755102,\n",
       " 0.39795918367346933,\n",
       " 0.39795918367346933,\n",
       " 0.39795918367346933,\n",
       " 0.39795918367346933,\n",
       " 0.39795918367346933,\n",
       " 0.5,\n",
       " 0.39795918367346933,\n",
       " 0.39795918367346933,\n",
       " 0.19387755102040813,\n",
       " 0.6020408163265305,\n",
       " 0.39795918367346933,\n",
       " 0.6020408163265305,\n",
       " 0.39795918367346933,\n",
       " 0.39795918367346933,\n",
       " 0.6530612244897959,\n",
       " 0.5,\n",
       " 0.39795918367346933,\n",
       " 0.39795918367346933,\n",
       " 0.39795918367346933,\n",
       " 0.19387755102040813,\n",
       " 0.47959183673469385,\n",
       " 0.5,\n",
       " 0.24489795918367346,\n",
       " 0.39795918367346933,\n",
       " 0.39795918367346933,\n",
       " 0.32653061224489793,\n",
       " 0.5,\n",
       " 0.39795918367346933,\n",
       " 0.846938775510204,\n",
       " 0.39795918367346933,\n",
       " 0.6020408163265305,\n",
       " 0.39795918367346933,\n",
       " 0.44897959183673464,\n",
       " 0.39795918367346933,\n",
       " 0.39795918367346933,\n",
       " 0.39795918367346933,\n",
       " 0.47959183673469385,\n",
       " 0.42857142857142855,\n",
       " 0.37755102040816324,\n",
       " 0.44897959183673464,\n",
       " 0.5,\n",
       " 0.39795918367346933,\n",
       " 0.346938775510204,\n",
       " 0.39795918367346933,\n",
       " 0.44897959183673464,\n",
       " 0.39795918367346933,\n",
       " ...]"
      ]
     },
     "execution_count": 127,
     "metadata": {},
     "output_type": "execute_result"
    }
   ],
   "source": [
    "hoursperweek"
   ]
  },
  {
   "cell_type": "code",
   "execution_count": 128,
   "metadata": {},
   "outputs": [],
   "source": [
    "#Atributi 'hours-per-week' barazohet me vlerat e array-it 'hoursperweek',\n",
    "#pra vlerat origjinale te atributit barazohen me vlerat e shkallezuara.\n",
    "df_adult['hours-per-week'] = hoursperweek"
   ]
  },
  {
   "cell_type": "markdown",
   "metadata": {},
   "source": [
    "'age'"
   ]
  },
  {
   "cell_type": "code",
   "execution_count": 129,
   "metadata": {},
   "outputs": [],
   "source": [
    "#Procesi i njejte perseritet edhe per shkallezimin e variables 'age'."
   ]
  },
  {
   "cell_type": "code",
   "execution_count": 130,
   "metadata": {},
   "outputs": [],
   "source": [
    "age = df_adult.iloc[:, 0:1].values"
   ]
  },
  {
   "cell_type": "code",
   "execution_count": 131,
   "metadata": {},
   "outputs": [],
   "source": [
    "age_after_min_max_scaler = min_max_scaler.fit_transform(age)"
   ]
  },
  {
   "cell_type": "code",
   "execution_count": 132,
   "metadata": {},
   "outputs": [],
   "source": [
    "a = []\n",
    "for i in range(len(age_after_min_max_scaler)):\n",
    "    for j in range(len(age_after_min_max_scaler[i])):\n",
    "        a.append(age_after_min_max_scaler[i][j])"
   ]
  },
  {
   "cell_type": "code",
   "execution_count": 133,
   "metadata": {},
   "outputs": [],
   "source": [
    "df_adult['age'] = a"
   ]
  },
  {
   "cell_type": "markdown",
   "metadata": {},
   "source": [
    "."
   ]
  },
  {
   "cell_type": "markdown",
   "metadata": {},
   "source": [
    "Konvertimi i variablave kategorike ne variabla numerike"
   ]
  },
  {
   "cell_type": "code",
   "execution_count": 134,
   "metadata": {},
   "outputs": [],
   "source": [
    "#Konvertimi i vleres '>50K' ne 1.\n",
    "df_adult['income'] = df_adult['income'].replace(to_replace =[\">50K\"], value = 1)"
   ]
  },
  {
   "cell_type": "code",
   "execution_count": 135,
   "metadata": {},
   "outputs": [],
   "source": [
    "#Konvertimi i vleres '<=50K' ne 0.\n",
    "df_adult['income'] = df_adult['income'].replace(to_replace =[\"<=50K\"], value = 0)"
   ]
  },
  {
   "cell_type": "code",
   "execution_count": 136,
   "metadata": {},
   "outputs": [
    {
     "data": {
      "text/plain": [
       "array(['Private', 'Local-gov', 'Self-emp-not-inc', 'Federal-gov',\n",
       "       'State-gov', 'Self-emp-inc', 'Without-pay'], dtype=object)"
      ]
     },
     "execution_count": 136,
     "metadata": {},
     "output_type": "execute_result"
    }
   ],
   "source": [
    "#Vlerat unike te atributit 'workclass'\n",
    "df_adult['workclass'].unique()"
   ]
  },
  {
   "cell_type": "code",
   "execution_count": 137,
   "metadata": {},
   "outputs": [],
   "source": [
    "#Zevendesimi i vlerave kategorike me vlera numerike te attr. 'workclass'.\n",
    "find = ['Private', 'State-gov', 'Local-gov','Self-emp-not-inc', 'Federal-gov','Self-emp-inc', 'Without-pay']\n",
    "replace = [2,3,4,5,6,7,1]\n",
    "df_adult['workclass'] = df_adult['workclass'].replace(find, replace)"
   ]
  },
  {
   "cell_type": "code",
   "execution_count": 138,
   "metadata": {},
   "outputs": [
    {
     "data": {
      "text/plain": [
       "array(['Middle school', 'High School', 'Associate', 'College',\n",
       "       'Prof-school', 'Bachelors', 'Masters', 'Elementary school',\n",
       "       'Doctorate'], dtype=object)"
      ]
     },
     "execution_count": 138,
     "metadata": {},
     "output_type": "execute_result"
    }
   ],
   "source": [
    "#Vlerat unike te atributit 'education'\n",
    "df_adult['education'].unique()"
   ]
  },
  {
   "cell_type": "code",
   "execution_count": 139,
   "metadata": {},
   "outputs": [],
   "source": [
    "#Zevendesimi i vlerave kategorike me vlera numerike te attr. 'education'.\n",
    "find=['Elementary school','Middle school','High School','College','Associate','Bachelors','Masters','Doctorate','Prof-school']\n",
    "replace = [3,0,1,4,5,6,7,9,8]\n",
    "df_adult['education'] = df_adult['education'].replace(find, replace)"
   ]
  },
  {
   "cell_type": "code",
   "execution_count": 140,
   "metadata": {},
   "outputs": [
    {
     "data": {
      "text/plain": [
       "array([0, 1, 5, 4, 8, 6, 7, 3, 9], dtype=int64)"
      ]
     },
     "execution_count": 140,
     "metadata": {},
     "output_type": "execute_result"
    }
   ],
   "source": [
    "df_adult['education'].unique()"
   ]
  },
  {
   "cell_type": "code",
   "execution_count": 141,
   "metadata": {},
   "outputs": [
    {
     "data": {
      "text/plain": [
       "Married          21639\n",
       "Never-married    14598\n",
       "Not-married       8985\n",
       "Name: marital-status, dtype: int64"
      ]
     },
     "execution_count": 141,
     "metadata": {},
     "output_type": "execute_result"
    }
   ],
   "source": [
    "#Tipet e vlerave te attr. 'marital-status' dhe numri i objekteve sipas tyre.\n",
    "df_adult['marital-status'].value_counts()"
   ]
  },
  {
   "cell_type": "code",
   "execution_count": 142,
   "metadata": {},
   "outputs": [],
   "source": [
    "#Zevendesimi i vlerave kategorike me vlera numerike te attr. 'martial-status'.\n",
    "find = ['Married','Never-married','Not-married']\n",
    "replace = [1,3,2]\n",
    "df_adult['marital-status'] = df_adult['marital-status'].replace(find, replace)"
   ]
  },
  {
   "cell_type": "code",
   "execution_count": 143,
   "metadata": {},
   "outputs": [
    {
     "data": {
      "text/plain": [
       "array(['Own-child', 'Husband', 'Not-in-family', 'Unmarried', 'Wife',\n",
       "       'Other-relative'], dtype=object)"
      ]
     },
     "execution_count": 143,
     "metadata": {},
     "output_type": "execute_result"
    }
   ],
   "source": [
    "#Vlerat unike te atributit 'education'.\n",
    "df_adult['relationship'].unique()"
   ]
  },
  {
   "cell_type": "code",
   "execution_count": 144,
   "metadata": {},
   "outputs": [],
   "source": [
    "#Zevendesimi i vlerave kategorike me vlera numerike te attr. 'education'.\n",
    "find = ['Own-child','Other-relative','Unmarried','Not-in-family','Husband','Wife']\n",
    "replace = [1,2,3,4,5,6]\n",
    "df_adult['relationship'] = df_adult['relationship'].replace(find, replace)"
   ]
  },
  {
   "cell_type": "code",
   "execution_count": 145,
   "metadata": {},
   "outputs": [
    {
     "data": {
      "text/plain": [
       "array(['Machine-op-inspct', 'Farming-fishing', 'Protective-serv',\n",
       "       'Other-service', 'Prof-specialty', 'Craft-repair', 'Adm-clerical',\n",
       "       'Exec-managerial', 'Tech-support', 'Sales', 'Priv-house-serv',\n",
       "       'Transport-moving', 'Handlers-cleaners', 'Armed-Forces'],\n",
       "      dtype=object)"
      ]
     },
     "execution_count": 145,
     "metadata": {},
     "output_type": "execute_result"
    }
   ],
   "source": [
    "#Vlerat unike te attr. 'occupation'.\n",
    "df_adult['occupation'].unique()"
   ]
  },
  {
   "cell_type": "code",
   "execution_count": 146,
   "metadata": {},
   "outputs": [],
   "source": [
    "#Zevendesimi i vlerave kategorike me vlera numerike te attr. 'occupation'.\n",
    "find = ['Exec-managerial','Prof-specialty','Protective-serv','Sales','Tech-support','Craft-repair','Transport-moving','Adm-clerical','Machine-op-inspct'\n",
    ",'Farming-fishing','Handlers-cleaners','Other-service','Priv-house-serv','Armed-Forces']\n",
    "replace = [1,2,3,4,5,6,7,8,9,10,11,12,13,14]\n",
    "df_adult['occupation'] = df_adult['occupation'].replace(find, replace)"
   ]
  },
  {
   "cell_type": "code",
   "execution_count": 147,
   "metadata": {},
   "outputs": [
    {
     "data": {
      "text/plain": [
       "White                 38903\n",
       "Black                  4228\n",
       "Asian-Pac-Islander     1303\n",
       "Amer-Indian-Eskimo      435\n",
       "Other                   353\n",
       "Name: race, dtype: int64"
      ]
     },
     "execution_count": 147,
     "metadata": {},
     "output_type": "execute_result"
    }
   ],
   "source": [
    "#Tipet e vlerave te attr 'race' dhe numri i objekteve sipas tyre.\n",
    "df_adult['race'].value_counts()"
   ]
  },
  {
   "cell_type": "code",
   "execution_count": 148,
   "metadata": {},
   "outputs": [],
   "source": [
    "#Zevendesimi i vlerave kategorike me vlera numerike te attr. 'race'.\n",
    "find = ['White', 'Black', 'Asian-Pac-Islander','Amer-Indian-Eskimo','Other']\n",
    "replace = [5,3,4,2,1]\n",
    "df_adult['race'] = df_adult['race'].replace(find, replace)"
   ]
  },
  {
   "cell_type": "code",
   "execution_count": 149,
   "metadata": {},
   "outputs": [],
   "source": [
    "#Zevendesimi i vlerave kategorike me vlera numerike te attr. 'gender'.\n",
    "find = ['Male','Female']\n",
    "replace = [2,1]\n",
    "df_adult['gender'] = df_adult['gender'].replace(find, replace)"
   ]
  },
  {
   "cell_type": "code",
   "execution_count": 150,
   "metadata": {},
   "outputs": [
    {
     "data": {
      "text/plain": [
       "array(['North-America', 'South-America', 'Europe', 'Asia', 'Other'],\n",
       "      dtype=object)"
      ]
     },
     "execution_count": 150,
     "metadata": {},
     "output_type": "execute_result"
    }
   ],
   "source": [
    "#vlerat unike te attr. 'native-country'.\n",
    "df_adult['native-country'].unique()"
   ]
  },
  {
   "cell_type": "code",
   "execution_count": 151,
   "metadata": {},
   "outputs": [],
   "source": [
    "#Zevendesimi i vlerave kategorike me vlera numerike te attr. 'native-country'.\n",
    "find =['North-America', 'South-America', 'Europe', 'Asia', 'Other']\n",
    "replace = [1,2,3,4,2]\n",
    "df_adult['native-country'] = df_adult['native-country'].replace(find, replace)"
   ]
  },
  {
   "cell_type": "markdown",
   "metadata": {},
   "source": [
    "Gjendja e datasetit pas konveritmit te variablave"
   ]
  },
  {
   "cell_type": "code",
   "execution_count": 152,
   "metadata": {
    "scrolled": true
   },
   "outputs": [
    {
     "data": {
      "text/html": [
       "<div>\n",
       "<style scoped>\n",
       "    .dataframe tbody tr th:only-of-type {\n",
       "        vertical-align: middle;\n",
       "    }\n",
       "\n",
       "    .dataframe tbody tr th {\n",
       "        vertical-align: top;\n",
       "    }\n",
       "\n",
       "    .dataframe thead th {\n",
       "        text-align: right;\n",
       "    }\n",
       "</style>\n",
       "<table border=\"1\" class=\"dataframe\">\n",
       "  <thead>\n",
       "    <tr style=\"text-align: right;\">\n",
       "      <th></th>\n",
       "      <th>age</th>\n",
       "      <th>workclass</th>\n",
       "      <th>fnlwgt</th>\n",
       "      <th>education</th>\n",
       "      <th>educational-num</th>\n",
       "      <th>marital-status</th>\n",
       "      <th>occupation</th>\n",
       "      <th>relationship</th>\n",
       "      <th>race</th>\n",
       "      <th>gender</th>\n",
       "      <th>capital-gain</th>\n",
       "      <th>capital-loss</th>\n",
       "      <th>hours-per-week</th>\n",
       "      <th>native-country</th>\n",
       "      <th>income</th>\n",
       "    </tr>\n",
       "  </thead>\n",
       "  <tbody>\n",
       "    <tr>\n",
       "      <td>0</td>\n",
       "      <td>0.109589</td>\n",
       "      <td>2</td>\n",
       "      <td>226802</td>\n",
       "      <td>0</td>\n",
       "      <td>7</td>\n",
       "      <td>3</td>\n",
       "      <td>9</td>\n",
       "      <td>1</td>\n",
       "      <td>3</td>\n",
       "      <td>2</td>\n",
       "      <td>0</td>\n",
       "      <td>0</td>\n",
       "      <td>0.397959</td>\n",
       "      <td>1</td>\n",
       "      <td>0</td>\n",
       "    </tr>\n",
       "    <tr>\n",
       "      <td>1</td>\n",
       "      <td>0.287671</td>\n",
       "      <td>2</td>\n",
       "      <td>89814</td>\n",
       "      <td>1</td>\n",
       "      <td>9</td>\n",
       "      <td>1</td>\n",
       "      <td>10</td>\n",
       "      <td>5</td>\n",
       "      <td>5</td>\n",
       "      <td>2</td>\n",
       "      <td>0</td>\n",
       "      <td>0</td>\n",
       "      <td>0.500000</td>\n",
       "      <td>1</td>\n",
       "      <td>0</td>\n",
       "    </tr>\n",
       "    <tr>\n",
       "      <td>2</td>\n",
       "      <td>0.150685</td>\n",
       "      <td>4</td>\n",
       "      <td>336951</td>\n",
       "      <td>5</td>\n",
       "      <td>12</td>\n",
       "      <td>1</td>\n",
       "      <td>3</td>\n",
       "      <td>5</td>\n",
       "      <td>5</td>\n",
       "      <td>2</td>\n",
       "      <td>0</td>\n",
       "      <td>0</td>\n",
       "      <td>0.397959</td>\n",
       "      <td>1</td>\n",
       "      <td>1</td>\n",
       "    </tr>\n",
       "    <tr>\n",
       "      <td>3</td>\n",
       "      <td>0.369863</td>\n",
       "      <td>2</td>\n",
       "      <td>160323</td>\n",
       "      <td>4</td>\n",
       "      <td>10</td>\n",
       "      <td>1</td>\n",
       "      <td>9</td>\n",
       "      <td>5</td>\n",
       "      <td>3</td>\n",
       "      <td>2</td>\n",
       "      <td>7688</td>\n",
       "      <td>0</td>\n",
       "      <td>0.397959</td>\n",
       "      <td>1</td>\n",
       "      <td>1</td>\n",
       "    </tr>\n",
       "    <tr>\n",
       "      <td>5</td>\n",
       "      <td>0.232877</td>\n",
       "      <td>2</td>\n",
       "      <td>198693</td>\n",
       "      <td>0</td>\n",
       "      <td>6</td>\n",
       "      <td>3</td>\n",
       "      <td>12</td>\n",
       "      <td>4</td>\n",
       "      <td>5</td>\n",
       "      <td>2</td>\n",
       "      <td>0</td>\n",
       "      <td>0</td>\n",
       "      <td>0.295918</td>\n",
       "      <td>1</td>\n",
       "      <td>0</td>\n",
       "    </tr>\n",
       "  </tbody>\n",
       "</table>\n",
       "</div>"
      ],
      "text/plain": [
       "        age  workclass  fnlwgt  education  educational-num  marital-status  \\\n",
       "0  0.109589          2  226802          0                7               3   \n",
       "1  0.287671          2   89814          1                9               1   \n",
       "2  0.150685          4  336951          5               12               1   \n",
       "3  0.369863          2  160323          4               10               1   \n",
       "5  0.232877          2  198693          0                6               3   \n",
       "\n",
       "   occupation  relationship  race  gender  capital-gain  capital-loss  \\\n",
       "0           9             1     3       2             0             0   \n",
       "1          10             5     5       2             0             0   \n",
       "2           3             5     5       2             0             0   \n",
       "3           9             5     3       2          7688             0   \n",
       "5          12             4     5       2             0             0   \n",
       "\n",
       "   hours-per-week  native-country  income  \n",
       "0        0.397959               1       0  \n",
       "1        0.500000               1       0  \n",
       "2        0.397959               1       1  \n",
       "3        0.397959               1       1  \n",
       "5        0.295918               1       0  "
      ]
     },
     "execution_count": 152,
     "metadata": {},
     "output_type": "execute_result"
    }
   ],
   "source": [
    "df_adult.head()"
   ]
  },
  {
   "cell_type": "markdown",
   "metadata": {},
   "source": [
    "Reduktimi i dimensionalitetit, fshirja e atributeve 'fnlwgt' dhe 'educational-num' pasi qe nuk ndihmojne ne permiresimin e performances se modelit"
   ]
  },
  {
   "cell_type": "code",
   "execution_count": 153,
   "metadata": {},
   "outputs": [],
   "source": [
    "#fnlwgt paraqet numrin e individëve që një vëzhgim përfaqëson\n",
    "df_adult = df_adult.drop('fnlwgt',1)"
   ]
  },
  {
   "cell_type": "code",
   "execution_count": 154,
   "metadata": {},
   "outputs": [],
   "source": [
    "# educational-num: niveli më i lartë i edukimit në formë numerike\n",
    "df_adult = df_adult.drop('educational-num', 1)"
   ]
  },
  {
   "cell_type": "code",
   "execution_count": 155,
   "metadata": {
    "scrolled": true
   },
   "outputs": [
    {
     "data": {
      "text/html": [
       "<div>\n",
       "<style scoped>\n",
       "    .dataframe tbody tr th:only-of-type {\n",
       "        vertical-align: middle;\n",
       "    }\n",
       "\n",
       "    .dataframe tbody tr th {\n",
       "        vertical-align: top;\n",
       "    }\n",
       "\n",
       "    .dataframe thead th {\n",
       "        text-align: right;\n",
       "    }\n",
       "</style>\n",
       "<table border=\"1\" class=\"dataframe\">\n",
       "  <thead>\n",
       "    <tr style=\"text-align: right;\">\n",
       "      <th></th>\n",
       "      <th>age</th>\n",
       "      <th>workclass</th>\n",
       "      <th>education</th>\n",
       "      <th>marital-status</th>\n",
       "      <th>occupation</th>\n",
       "      <th>relationship</th>\n",
       "      <th>race</th>\n",
       "      <th>gender</th>\n",
       "      <th>capital-gain</th>\n",
       "      <th>capital-loss</th>\n",
       "      <th>hours-per-week</th>\n",
       "      <th>native-country</th>\n",
       "      <th>income</th>\n",
       "    </tr>\n",
       "  </thead>\n",
       "  <tbody>\n",
       "    <tr>\n",
       "      <td>0</td>\n",
       "      <td>0.109589</td>\n",
       "      <td>2</td>\n",
       "      <td>0</td>\n",
       "      <td>3</td>\n",
       "      <td>9</td>\n",
       "      <td>1</td>\n",
       "      <td>3</td>\n",
       "      <td>2</td>\n",
       "      <td>0</td>\n",
       "      <td>0</td>\n",
       "      <td>0.397959</td>\n",
       "      <td>1</td>\n",
       "      <td>0</td>\n",
       "    </tr>\n",
       "    <tr>\n",
       "      <td>1</td>\n",
       "      <td>0.287671</td>\n",
       "      <td>2</td>\n",
       "      <td>1</td>\n",
       "      <td>1</td>\n",
       "      <td>10</td>\n",
       "      <td>5</td>\n",
       "      <td>5</td>\n",
       "      <td>2</td>\n",
       "      <td>0</td>\n",
       "      <td>0</td>\n",
       "      <td>0.500000</td>\n",
       "      <td>1</td>\n",
       "      <td>0</td>\n",
       "    </tr>\n",
       "    <tr>\n",
       "      <td>2</td>\n",
       "      <td>0.150685</td>\n",
       "      <td>4</td>\n",
       "      <td>5</td>\n",
       "      <td>1</td>\n",
       "      <td>3</td>\n",
       "      <td>5</td>\n",
       "      <td>5</td>\n",
       "      <td>2</td>\n",
       "      <td>0</td>\n",
       "      <td>0</td>\n",
       "      <td>0.397959</td>\n",
       "      <td>1</td>\n",
       "      <td>1</td>\n",
       "    </tr>\n",
       "    <tr>\n",
       "      <td>3</td>\n",
       "      <td>0.369863</td>\n",
       "      <td>2</td>\n",
       "      <td>4</td>\n",
       "      <td>1</td>\n",
       "      <td>9</td>\n",
       "      <td>5</td>\n",
       "      <td>3</td>\n",
       "      <td>2</td>\n",
       "      <td>7688</td>\n",
       "      <td>0</td>\n",
       "      <td>0.397959</td>\n",
       "      <td>1</td>\n",
       "      <td>1</td>\n",
       "    </tr>\n",
       "    <tr>\n",
       "      <td>5</td>\n",
       "      <td>0.232877</td>\n",
       "      <td>2</td>\n",
       "      <td>0</td>\n",
       "      <td>3</td>\n",
       "      <td>12</td>\n",
       "      <td>4</td>\n",
       "      <td>5</td>\n",
       "      <td>2</td>\n",
       "      <td>0</td>\n",
       "      <td>0</td>\n",
       "      <td>0.295918</td>\n",
       "      <td>1</td>\n",
       "      <td>0</td>\n",
       "    </tr>\n",
       "  </tbody>\n",
       "</table>\n",
       "</div>"
      ],
      "text/plain": [
       "        age  workclass  education  marital-status  occupation  relationship  \\\n",
       "0  0.109589          2          0               3           9             1   \n",
       "1  0.287671          2          1               1          10             5   \n",
       "2  0.150685          4          5               1           3             5   \n",
       "3  0.369863          2          4               1           9             5   \n",
       "5  0.232877          2          0               3          12             4   \n",
       "\n",
       "   race  gender  capital-gain  capital-loss  hours-per-week  native-country  \\\n",
       "0     3       2             0             0        0.397959               1   \n",
       "1     5       2             0             0        0.500000               1   \n",
       "2     5       2             0             0        0.397959               1   \n",
       "3     3       2          7688             0        0.397959               1   \n",
       "5     5       2             0             0        0.295918               1   \n",
       "\n",
       "   income  \n",
       "0       0  \n",
       "1       0  \n",
       "2       1  \n",
       "3       1  \n",
       "5       0  "
      ]
     },
     "execution_count": 155,
     "metadata": {},
     "output_type": "execute_result"
    }
   ],
   "source": [
    "df_adult.head()"
   ]
  },
  {
   "cell_type": "markdown",
   "metadata": {},
   "source": [
    "Korelacioni i variablave pas konvertimit ne variabla numerike"
   ]
  },
  {
   "cell_type": "code",
   "execution_count": 156,
   "metadata": {},
   "outputs": [],
   "source": [
    "correlation=df_adult.corr(method ='pearson') "
   ]
  },
  {
   "cell_type": "code",
   "execution_count": 157,
   "metadata": {},
   "outputs": [
    {
     "data": {
      "text/html": [
       "<style  type=\"text/css\" >\n",
       "    #T_b53cd3da_7d8b_11ea_bfbe_e97aee07b73arow0_col0 {\n",
       "            color:  black;\n",
       "            background-color:  yellow;\n",
       "        }    #T_b53cd3da_7d8b_11ea_bfbe_e97aee07b73arow0_col1 {\n",
       "            color:  black;\n",
       "            : ;\n",
       "        }    #T_b53cd3da_7d8b_11ea_bfbe_e97aee07b73arow0_col2 {\n",
       "            color:  black;\n",
       "            : ;\n",
       "        }    #T_b53cd3da_7d8b_11ea_bfbe_e97aee07b73arow0_col3 {\n",
       "            color:  red;\n",
       "            : ;\n",
       "        }    #T_b53cd3da_7d8b_11ea_bfbe_e97aee07b73arow0_col4 {\n",
       "            color:  red;\n",
       "            : ;\n",
       "        }    #T_b53cd3da_7d8b_11ea_bfbe_e97aee07b73arow0_col5 {\n",
       "            color:  black;\n",
       "            : ;\n",
       "        }    #T_b53cd3da_7d8b_11ea_bfbe_e97aee07b73arow0_col6 {\n",
       "            color:  black;\n",
       "            : ;\n",
       "        }    #T_b53cd3da_7d8b_11ea_bfbe_e97aee07b73arow0_col7 {\n",
       "            color:  black;\n",
       "            : ;\n",
       "        }    #T_b53cd3da_7d8b_11ea_bfbe_e97aee07b73arow0_col8 {\n",
       "            color:  black;\n",
       "            : ;\n",
       "        }    #T_b53cd3da_7d8b_11ea_bfbe_e97aee07b73arow0_col9 {\n",
       "            color:  black;\n",
       "            : ;\n",
       "        }    #T_b53cd3da_7d8b_11ea_bfbe_e97aee07b73arow0_col10 {\n",
       "            color:  black;\n",
       "            : ;\n",
       "        }    #T_b53cd3da_7d8b_11ea_bfbe_e97aee07b73arow0_col11 {\n",
       "            color:  black;\n",
       "            : ;\n",
       "        }    #T_b53cd3da_7d8b_11ea_bfbe_e97aee07b73arow0_col12 {\n",
       "            color:  black;\n",
       "            : ;\n",
       "        }    #T_b53cd3da_7d8b_11ea_bfbe_e97aee07b73arow1_col0 {\n",
       "            color:  black;\n",
       "            : ;\n",
       "        }    #T_b53cd3da_7d8b_11ea_bfbe_e97aee07b73arow1_col1 {\n",
       "            color:  black;\n",
       "            background-color:  yellow;\n",
       "        }    #T_b53cd3da_7d8b_11ea_bfbe_e97aee07b73arow1_col2 {\n",
       "            color:  black;\n",
       "            : ;\n",
       "        }    #T_b53cd3da_7d8b_11ea_bfbe_e97aee07b73arow1_col3 {\n",
       "            color:  red;\n",
       "            : ;\n",
       "        }    #T_b53cd3da_7d8b_11ea_bfbe_e97aee07b73arow1_col4 {\n",
       "            color:  red;\n",
       "            : ;\n",
       "        }    #T_b53cd3da_7d8b_11ea_bfbe_e97aee07b73arow1_col5 {\n",
       "            color:  black;\n",
       "            : ;\n",
       "        }    #T_b53cd3da_7d8b_11ea_bfbe_e97aee07b73arow1_col6 {\n",
       "            color:  black;\n",
       "            : ;\n",
       "        }    #T_b53cd3da_7d8b_11ea_bfbe_e97aee07b73arow1_col7 {\n",
       "            color:  black;\n",
       "            : ;\n",
       "        }    #T_b53cd3da_7d8b_11ea_bfbe_e97aee07b73arow1_col8 {\n",
       "            color:  black;\n",
       "            : ;\n",
       "        }    #T_b53cd3da_7d8b_11ea_bfbe_e97aee07b73arow1_col9 {\n",
       "            color:  black;\n",
       "            : ;\n",
       "        }    #T_b53cd3da_7d8b_11ea_bfbe_e97aee07b73arow1_col10 {\n",
       "            color:  black;\n",
       "            : ;\n",
       "        }    #T_b53cd3da_7d8b_11ea_bfbe_e97aee07b73arow1_col11 {\n",
       "            color:  red;\n",
       "            : ;\n",
       "        }    #T_b53cd3da_7d8b_11ea_bfbe_e97aee07b73arow1_col12 {\n",
       "            color:  black;\n",
       "            : ;\n",
       "        }    #T_b53cd3da_7d8b_11ea_bfbe_e97aee07b73arow2_col0 {\n",
       "            color:  black;\n",
       "            : ;\n",
       "        }    #T_b53cd3da_7d8b_11ea_bfbe_e97aee07b73arow2_col1 {\n",
       "            color:  black;\n",
       "            : ;\n",
       "        }    #T_b53cd3da_7d8b_11ea_bfbe_e97aee07b73arow2_col2 {\n",
       "            color:  black;\n",
       "            background-color:  yellow;\n",
       "        }    #T_b53cd3da_7d8b_11ea_bfbe_e97aee07b73arow2_col3 {\n",
       "            color:  red;\n",
       "            : ;\n",
       "        }    #T_b53cd3da_7d8b_11ea_bfbe_e97aee07b73arow2_col4 {\n",
       "            color:  red;\n",
       "            : ;\n",
       "        }    #T_b53cd3da_7d8b_11ea_bfbe_e97aee07b73arow2_col5 {\n",
       "            color:  black;\n",
       "            : ;\n",
       "        }    #T_b53cd3da_7d8b_11ea_bfbe_e97aee07b73arow2_col6 {\n",
       "            color:  black;\n",
       "            : ;\n",
       "        }    #T_b53cd3da_7d8b_11ea_bfbe_e97aee07b73arow2_col7 {\n",
       "            color:  black;\n",
       "            : ;\n",
       "        }    #T_b53cd3da_7d8b_11ea_bfbe_e97aee07b73arow2_col8 {\n",
       "            color:  black;\n",
       "            : ;\n",
       "        }    #T_b53cd3da_7d8b_11ea_bfbe_e97aee07b73arow2_col9 {\n",
       "            color:  black;\n",
       "            : ;\n",
       "        }    #T_b53cd3da_7d8b_11ea_bfbe_e97aee07b73arow2_col10 {\n",
       "            color:  black;\n",
       "            : ;\n",
       "        }    #T_b53cd3da_7d8b_11ea_bfbe_e97aee07b73arow2_col11 {\n",
       "            color:  black;\n",
       "            : ;\n",
       "        }    #T_b53cd3da_7d8b_11ea_bfbe_e97aee07b73arow2_col12 {\n",
       "            color:  black;\n",
       "            : ;\n",
       "        }    #T_b53cd3da_7d8b_11ea_bfbe_e97aee07b73arow3_col0 {\n",
       "            color:  red;\n",
       "            : ;\n",
       "        }    #T_b53cd3da_7d8b_11ea_bfbe_e97aee07b73arow3_col1 {\n",
       "            color:  red;\n",
       "            : ;\n",
       "        }    #T_b53cd3da_7d8b_11ea_bfbe_e97aee07b73arow3_col2 {\n",
       "            color:  red;\n",
       "            : ;\n",
       "        }    #T_b53cd3da_7d8b_11ea_bfbe_e97aee07b73arow3_col3 {\n",
       "            color:  black;\n",
       "            background-color:  yellow;\n",
       "        }    #T_b53cd3da_7d8b_11ea_bfbe_e97aee07b73arow3_col4 {\n",
       "            color:  black;\n",
       "            : ;\n",
       "        }    #T_b53cd3da_7d8b_11ea_bfbe_e97aee07b73arow3_col5 {\n",
       "            color:  red;\n",
       "            : ;\n",
       "        }    #T_b53cd3da_7d8b_11ea_bfbe_e97aee07b73arow3_col6 {\n",
       "            color:  red;\n",
       "            : ;\n",
       "        }    #T_b53cd3da_7d8b_11ea_bfbe_e97aee07b73arow3_col7 {\n",
       "            color:  red;\n",
       "            : ;\n",
       "        }    #T_b53cd3da_7d8b_11ea_bfbe_e97aee07b73arow3_col8 {\n",
       "            color:  red;\n",
       "            : ;\n",
       "        }    #T_b53cd3da_7d8b_11ea_bfbe_e97aee07b73arow3_col9 {\n",
       "            color:  red;\n",
       "            : ;\n",
       "        }    #T_b53cd3da_7d8b_11ea_bfbe_e97aee07b73arow3_col10 {\n",
       "            color:  red;\n",
       "            : ;\n",
       "        }    #T_b53cd3da_7d8b_11ea_bfbe_e97aee07b73arow3_col11 {\n",
       "            color:  red;\n",
       "            : ;\n",
       "        }    #T_b53cd3da_7d8b_11ea_bfbe_e97aee07b73arow3_col12 {\n",
       "            color:  red;\n",
       "            : ;\n",
       "        }    #T_b53cd3da_7d8b_11ea_bfbe_e97aee07b73arow4_col0 {\n",
       "            color:  red;\n",
       "            : ;\n",
       "        }    #T_b53cd3da_7d8b_11ea_bfbe_e97aee07b73arow4_col1 {\n",
       "            color:  red;\n",
       "            : ;\n",
       "        }    #T_b53cd3da_7d8b_11ea_bfbe_e97aee07b73arow4_col2 {\n",
       "            color:  red;\n",
       "            : ;\n",
       "        }    #T_b53cd3da_7d8b_11ea_bfbe_e97aee07b73arow4_col3 {\n",
       "            color:  black;\n",
       "            : ;\n",
       "        }    #T_b53cd3da_7d8b_11ea_bfbe_e97aee07b73arow4_col4 {\n",
       "            color:  black;\n",
       "            background-color:  yellow;\n",
       "        }    #T_b53cd3da_7d8b_11ea_bfbe_e97aee07b73arow4_col5 {\n",
       "            color:  red;\n",
       "            : ;\n",
       "        }    #T_b53cd3da_7d8b_11ea_bfbe_e97aee07b73arow4_col6 {\n",
       "            color:  red;\n",
       "            : ;\n",
       "        }    #T_b53cd3da_7d8b_11ea_bfbe_e97aee07b73arow4_col7 {\n",
       "            color:  red;\n",
       "            : ;\n",
       "        }    #T_b53cd3da_7d8b_11ea_bfbe_e97aee07b73arow4_col8 {\n",
       "            color:  red;\n",
       "            : ;\n",
       "        }    #T_b53cd3da_7d8b_11ea_bfbe_e97aee07b73arow4_col9 {\n",
       "            color:  red;\n",
       "            : ;\n",
       "        }    #T_b53cd3da_7d8b_11ea_bfbe_e97aee07b73arow4_col10 {\n",
       "            color:  red;\n",
       "            : ;\n",
       "        }    #T_b53cd3da_7d8b_11ea_bfbe_e97aee07b73arow4_col11 {\n",
       "            color:  red;\n",
       "            : ;\n",
       "        }    #T_b53cd3da_7d8b_11ea_bfbe_e97aee07b73arow4_col12 {\n",
       "            color:  red;\n",
       "            : ;\n",
       "        }    #T_b53cd3da_7d8b_11ea_bfbe_e97aee07b73arow5_col0 {\n",
       "            color:  black;\n",
       "            : ;\n",
       "        }    #T_b53cd3da_7d8b_11ea_bfbe_e97aee07b73arow5_col1 {\n",
       "            color:  black;\n",
       "            : ;\n",
       "        }    #T_b53cd3da_7d8b_11ea_bfbe_e97aee07b73arow5_col2 {\n",
       "            color:  black;\n",
       "            : ;\n",
       "        }    #T_b53cd3da_7d8b_11ea_bfbe_e97aee07b73arow5_col3 {\n",
       "            color:  red;\n",
       "            : ;\n",
       "        }    #T_b53cd3da_7d8b_11ea_bfbe_e97aee07b73arow5_col4 {\n",
       "            color:  red;\n",
       "            : ;\n",
       "        }    #T_b53cd3da_7d8b_11ea_bfbe_e97aee07b73arow5_col5 {\n",
       "            color:  black;\n",
       "            background-color:  yellow;\n",
       "        }    #T_b53cd3da_7d8b_11ea_bfbe_e97aee07b73arow5_col6 {\n",
       "            color:  black;\n",
       "            : ;\n",
       "        }    #T_b53cd3da_7d8b_11ea_bfbe_e97aee07b73arow5_col7 {\n",
       "            color:  black;\n",
       "            : ;\n",
       "        }    #T_b53cd3da_7d8b_11ea_bfbe_e97aee07b73arow5_col8 {\n",
       "            color:  black;\n",
       "            : ;\n",
       "        }    #T_b53cd3da_7d8b_11ea_bfbe_e97aee07b73arow5_col9 {\n",
       "            color:  black;\n",
       "            : ;\n",
       "        }    #T_b53cd3da_7d8b_11ea_bfbe_e97aee07b73arow5_col10 {\n",
       "            color:  black;\n",
       "            : ;\n",
       "        }    #T_b53cd3da_7d8b_11ea_bfbe_e97aee07b73arow5_col11 {\n",
       "            color:  black;\n",
       "            : ;\n",
       "        }    #T_b53cd3da_7d8b_11ea_bfbe_e97aee07b73arow5_col12 {\n",
       "            color:  black;\n",
       "            : ;\n",
       "        }    #T_b53cd3da_7d8b_11ea_bfbe_e97aee07b73arow6_col0 {\n",
       "            color:  black;\n",
       "            : ;\n",
       "        }    #T_b53cd3da_7d8b_11ea_bfbe_e97aee07b73arow6_col1 {\n",
       "            color:  black;\n",
       "            : ;\n",
       "        }    #T_b53cd3da_7d8b_11ea_bfbe_e97aee07b73arow6_col2 {\n",
       "            color:  black;\n",
       "            : ;\n",
       "        }    #T_b53cd3da_7d8b_11ea_bfbe_e97aee07b73arow6_col3 {\n",
       "            color:  red;\n",
       "            : ;\n",
       "        }    #T_b53cd3da_7d8b_11ea_bfbe_e97aee07b73arow6_col4 {\n",
       "            color:  red;\n",
       "            : ;\n",
       "        }    #T_b53cd3da_7d8b_11ea_bfbe_e97aee07b73arow6_col5 {\n",
       "            color:  black;\n",
       "            : ;\n",
       "        }    #T_b53cd3da_7d8b_11ea_bfbe_e97aee07b73arow6_col6 {\n",
       "            color:  black;\n",
       "            background-color:  yellow;\n",
       "        }    #T_b53cd3da_7d8b_11ea_bfbe_e97aee07b73arow6_col7 {\n",
       "            color:  black;\n",
       "            : ;\n",
       "        }    #T_b53cd3da_7d8b_11ea_bfbe_e97aee07b73arow6_col8 {\n",
       "            color:  black;\n",
       "            : ;\n",
       "        }    #T_b53cd3da_7d8b_11ea_bfbe_e97aee07b73arow6_col9 {\n",
       "            color:  black;\n",
       "            : ;\n",
       "        }    #T_b53cd3da_7d8b_11ea_bfbe_e97aee07b73arow6_col10 {\n",
       "            color:  black;\n",
       "            : ;\n",
       "        }    #T_b53cd3da_7d8b_11ea_bfbe_e97aee07b73arow6_col11 {\n",
       "            color:  red;\n",
       "            : ;\n",
       "        }    #T_b53cd3da_7d8b_11ea_bfbe_e97aee07b73arow6_col12 {\n",
       "            color:  black;\n",
       "            : ;\n",
       "        }    #T_b53cd3da_7d8b_11ea_bfbe_e97aee07b73arow7_col0 {\n",
       "            color:  black;\n",
       "            : ;\n",
       "        }    #T_b53cd3da_7d8b_11ea_bfbe_e97aee07b73arow7_col1 {\n",
       "            color:  black;\n",
       "            : ;\n",
       "        }    #T_b53cd3da_7d8b_11ea_bfbe_e97aee07b73arow7_col2 {\n",
       "            color:  black;\n",
       "            : ;\n",
       "        }    #T_b53cd3da_7d8b_11ea_bfbe_e97aee07b73arow7_col3 {\n",
       "            color:  red;\n",
       "            : ;\n",
       "        }    #T_b53cd3da_7d8b_11ea_bfbe_e97aee07b73arow7_col4 {\n",
       "            color:  red;\n",
       "            : ;\n",
       "        }    #T_b53cd3da_7d8b_11ea_bfbe_e97aee07b73arow7_col5 {\n",
       "            color:  black;\n",
       "            : ;\n",
       "        }    #T_b53cd3da_7d8b_11ea_bfbe_e97aee07b73arow7_col6 {\n",
       "            color:  black;\n",
       "            : ;\n",
       "        }    #T_b53cd3da_7d8b_11ea_bfbe_e97aee07b73arow7_col7 {\n",
       "            color:  black;\n",
       "            background-color:  yellow;\n",
       "        }    #T_b53cd3da_7d8b_11ea_bfbe_e97aee07b73arow7_col8 {\n",
       "            color:  black;\n",
       "            : ;\n",
       "        }    #T_b53cd3da_7d8b_11ea_bfbe_e97aee07b73arow7_col9 {\n",
       "            color:  black;\n",
       "            : ;\n",
       "        }    #T_b53cd3da_7d8b_11ea_bfbe_e97aee07b73arow7_col10 {\n",
       "            color:  black;\n",
       "            : ;\n",
       "        }    #T_b53cd3da_7d8b_11ea_bfbe_e97aee07b73arow7_col11 {\n",
       "            color:  black;\n",
       "            : ;\n",
       "        }    #T_b53cd3da_7d8b_11ea_bfbe_e97aee07b73arow7_col12 {\n",
       "            color:  black;\n",
       "            : ;\n",
       "        }    #T_b53cd3da_7d8b_11ea_bfbe_e97aee07b73arow8_col0 {\n",
       "            color:  black;\n",
       "            : ;\n",
       "        }    #T_b53cd3da_7d8b_11ea_bfbe_e97aee07b73arow8_col1 {\n",
       "            color:  black;\n",
       "            : ;\n",
       "        }    #T_b53cd3da_7d8b_11ea_bfbe_e97aee07b73arow8_col2 {\n",
       "            color:  black;\n",
       "            : ;\n",
       "        }    #T_b53cd3da_7d8b_11ea_bfbe_e97aee07b73arow8_col3 {\n",
       "            color:  red;\n",
       "            : ;\n",
       "        }    #T_b53cd3da_7d8b_11ea_bfbe_e97aee07b73arow8_col4 {\n",
       "            color:  red;\n",
       "            : ;\n",
       "        }    #T_b53cd3da_7d8b_11ea_bfbe_e97aee07b73arow8_col5 {\n",
       "            color:  black;\n",
       "            : ;\n",
       "        }    #T_b53cd3da_7d8b_11ea_bfbe_e97aee07b73arow8_col6 {\n",
       "            color:  black;\n",
       "            : ;\n",
       "        }    #T_b53cd3da_7d8b_11ea_bfbe_e97aee07b73arow8_col7 {\n",
       "            color:  black;\n",
       "            : ;\n",
       "        }    #T_b53cd3da_7d8b_11ea_bfbe_e97aee07b73arow8_col8 {\n",
       "            color:  black;\n",
       "            background-color:  yellow;\n",
       "        }    #T_b53cd3da_7d8b_11ea_bfbe_e97aee07b73arow8_col9 {\n",
       "            color:  red;\n",
       "            : ;\n",
       "        }    #T_b53cd3da_7d8b_11ea_bfbe_e97aee07b73arow8_col10 {\n",
       "            color:  black;\n",
       "            : ;\n",
       "        }    #T_b53cd3da_7d8b_11ea_bfbe_e97aee07b73arow8_col11 {\n",
       "            color:  black;\n",
       "            : ;\n",
       "        }    #T_b53cd3da_7d8b_11ea_bfbe_e97aee07b73arow8_col12 {\n",
       "            color:  black;\n",
       "            : ;\n",
       "        }    #T_b53cd3da_7d8b_11ea_bfbe_e97aee07b73arow9_col0 {\n",
       "            color:  black;\n",
       "            : ;\n",
       "        }    #T_b53cd3da_7d8b_11ea_bfbe_e97aee07b73arow9_col1 {\n",
       "            color:  black;\n",
       "            : ;\n",
       "        }    #T_b53cd3da_7d8b_11ea_bfbe_e97aee07b73arow9_col2 {\n",
       "            color:  black;\n",
       "            : ;\n",
       "        }    #T_b53cd3da_7d8b_11ea_bfbe_e97aee07b73arow9_col3 {\n",
       "            color:  red;\n",
       "            : ;\n",
       "        }    #T_b53cd3da_7d8b_11ea_bfbe_e97aee07b73arow9_col4 {\n",
       "            color:  red;\n",
       "            : ;\n",
       "        }    #T_b53cd3da_7d8b_11ea_bfbe_e97aee07b73arow9_col5 {\n",
       "            color:  black;\n",
       "            : ;\n",
       "        }    #T_b53cd3da_7d8b_11ea_bfbe_e97aee07b73arow9_col6 {\n",
       "            color:  black;\n",
       "            : ;\n",
       "        }    #T_b53cd3da_7d8b_11ea_bfbe_e97aee07b73arow9_col7 {\n",
       "            color:  black;\n",
       "            : ;\n",
       "        }    #T_b53cd3da_7d8b_11ea_bfbe_e97aee07b73arow9_col8 {\n",
       "            color:  red;\n",
       "            : ;\n",
       "        }    #T_b53cd3da_7d8b_11ea_bfbe_e97aee07b73arow9_col9 {\n",
       "            color:  black;\n",
       "            background-color:  yellow;\n",
       "        }    #T_b53cd3da_7d8b_11ea_bfbe_e97aee07b73arow9_col10 {\n",
       "            color:  black;\n",
       "            : ;\n",
       "        }    #T_b53cd3da_7d8b_11ea_bfbe_e97aee07b73arow9_col11 {\n",
       "            color:  black;\n",
       "            : ;\n",
       "        }    #T_b53cd3da_7d8b_11ea_bfbe_e97aee07b73arow9_col12 {\n",
       "            color:  black;\n",
       "            : ;\n",
       "        }    #T_b53cd3da_7d8b_11ea_bfbe_e97aee07b73arow10_col0 {\n",
       "            color:  black;\n",
       "            : ;\n",
       "        }    #T_b53cd3da_7d8b_11ea_bfbe_e97aee07b73arow10_col1 {\n",
       "            color:  black;\n",
       "            : ;\n",
       "        }    #T_b53cd3da_7d8b_11ea_bfbe_e97aee07b73arow10_col2 {\n",
       "            color:  black;\n",
       "            : ;\n",
       "        }    #T_b53cd3da_7d8b_11ea_bfbe_e97aee07b73arow10_col3 {\n",
       "            color:  red;\n",
       "            : ;\n",
       "        }    #T_b53cd3da_7d8b_11ea_bfbe_e97aee07b73arow10_col4 {\n",
       "            color:  red;\n",
       "            : ;\n",
       "        }    #T_b53cd3da_7d8b_11ea_bfbe_e97aee07b73arow10_col5 {\n",
       "            color:  black;\n",
       "            : ;\n",
       "        }    #T_b53cd3da_7d8b_11ea_bfbe_e97aee07b73arow10_col6 {\n",
       "            color:  black;\n",
       "            : ;\n",
       "        }    #T_b53cd3da_7d8b_11ea_bfbe_e97aee07b73arow10_col7 {\n",
       "            color:  black;\n",
       "            : ;\n",
       "        }    #T_b53cd3da_7d8b_11ea_bfbe_e97aee07b73arow10_col8 {\n",
       "            color:  black;\n",
       "            : ;\n",
       "        }    #T_b53cd3da_7d8b_11ea_bfbe_e97aee07b73arow10_col9 {\n",
       "            color:  black;\n",
       "            : ;\n",
       "        }    #T_b53cd3da_7d8b_11ea_bfbe_e97aee07b73arow10_col10 {\n",
       "            color:  black;\n",
       "            background-color:  yellow;\n",
       "        }    #T_b53cd3da_7d8b_11ea_bfbe_e97aee07b73arow10_col11 {\n",
       "            color:  black;\n",
       "            : ;\n",
       "        }    #T_b53cd3da_7d8b_11ea_bfbe_e97aee07b73arow10_col12 {\n",
       "            color:  black;\n",
       "            : ;\n",
       "        }    #T_b53cd3da_7d8b_11ea_bfbe_e97aee07b73arow11_col0 {\n",
       "            color:  black;\n",
       "            : ;\n",
       "        }    #T_b53cd3da_7d8b_11ea_bfbe_e97aee07b73arow11_col1 {\n",
       "            color:  red;\n",
       "            : ;\n",
       "        }    #T_b53cd3da_7d8b_11ea_bfbe_e97aee07b73arow11_col2 {\n",
       "            color:  black;\n",
       "            : ;\n",
       "        }    #T_b53cd3da_7d8b_11ea_bfbe_e97aee07b73arow11_col3 {\n",
       "            color:  red;\n",
       "            : ;\n",
       "        }    #T_b53cd3da_7d8b_11ea_bfbe_e97aee07b73arow11_col4 {\n",
       "            color:  red;\n",
       "            : ;\n",
       "        }    #T_b53cd3da_7d8b_11ea_bfbe_e97aee07b73arow11_col5 {\n",
       "            color:  black;\n",
       "            : ;\n",
       "        }    #T_b53cd3da_7d8b_11ea_bfbe_e97aee07b73arow11_col6 {\n",
       "            color:  red;\n",
       "            : ;\n",
       "        }    #T_b53cd3da_7d8b_11ea_bfbe_e97aee07b73arow11_col7 {\n",
       "            color:  black;\n",
       "            : ;\n",
       "        }    #T_b53cd3da_7d8b_11ea_bfbe_e97aee07b73arow11_col8 {\n",
       "            color:  black;\n",
       "            : ;\n",
       "        }    #T_b53cd3da_7d8b_11ea_bfbe_e97aee07b73arow11_col9 {\n",
       "            color:  black;\n",
       "            : ;\n",
       "        }    #T_b53cd3da_7d8b_11ea_bfbe_e97aee07b73arow11_col10 {\n",
       "            color:  black;\n",
       "            : ;\n",
       "        }    #T_b53cd3da_7d8b_11ea_bfbe_e97aee07b73arow11_col11 {\n",
       "            color:  black;\n",
       "            background-color:  yellow;\n",
       "        }    #T_b53cd3da_7d8b_11ea_bfbe_e97aee07b73arow11_col12 {\n",
       "            color:  black;\n",
       "            : ;\n",
       "        }    #T_b53cd3da_7d8b_11ea_bfbe_e97aee07b73arow12_col0 {\n",
       "            color:  black;\n",
       "            : ;\n",
       "        }    #T_b53cd3da_7d8b_11ea_bfbe_e97aee07b73arow12_col1 {\n",
       "            color:  black;\n",
       "            : ;\n",
       "        }    #T_b53cd3da_7d8b_11ea_bfbe_e97aee07b73arow12_col2 {\n",
       "            color:  black;\n",
       "            : ;\n",
       "        }    #T_b53cd3da_7d8b_11ea_bfbe_e97aee07b73arow12_col3 {\n",
       "            color:  red;\n",
       "            : ;\n",
       "        }    #T_b53cd3da_7d8b_11ea_bfbe_e97aee07b73arow12_col4 {\n",
       "            color:  red;\n",
       "            : ;\n",
       "        }    #T_b53cd3da_7d8b_11ea_bfbe_e97aee07b73arow12_col5 {\n",
       "            color:  black;\n",
       "            : ;\n",
       "        }    #T_b53cd3da_7d8b_11ea_bfbe_e97aee07b73arow12_col6 {\n",
       "            color:  black;\n",
       "            : ;\n",
       "        }    #T_b53cd3da_7d8b_11ea_bfbe_e97aee07b73arow12_col7 {\n",
       "            color:  black;\n",
       "            : ;\n",
       "        }    #T_b53cd3da_7d8b_11ea_bfbe_e97aee07b73arow12_col8 {\n",
       "            color:  black;\n",
       "            : ;\n",
       "        }    #T_b53cd3da_7d8b_11ea_bfbe_e97aee07b73arow12_col9 {\n",
       "            color:  black;\n",
       "            : ;\n",
       "        }    #T_b53cd3da_7d8b_11ea_bfbe_e97aee07b73arow12_col10 {\n",
       "            color:  black;\n",
       "            : ;\n",
       "        }    #T_b53cd3da_7d8b_11ea_bfbe_e97aee07b73arow12_col11 {\n",
       "            color:  black;\n",
       "            : ;\n",
       "        }    #T_b53cd3da_7d8b_11ea_bfbe_e97aee07b73arow12_col12 {\n",
       "            color:  black;\n",
       "            background-color:  yellow;\n",
       "        }</style><table id=\"T_b53cd3da_7d8b_11ea_bfbe_e97aee07b73a\" ><thead>    <tr>        <th class=\"blank level0\" ></th>        <th class=\"col_heading level0 col0\" >age</th>        <th class=\"col_heading level0 col1\" >workclass</th>        <th class=\"col_heading level0 col2\" >education</th>        <th class=\"col_heading level0 col3\" >marital-status</th>        <th class=\"col_heading level0 col4\" >occupation</th>        <th class=\"col_heading level0 col5\" >relationship</th>        <th class=\"col_heading level0 col6\" >race</th>        <th class=\"col_heading level0 col7\" >gender</th>        <th class=\"col_heading level0 col8\" >capital-gain</th>        <th class=\"col_heading level0 col9\" >capital-loss</th>        <th class=\"col_heading level0 col10\" >hours-per-week</th>        <th class=\"col_heading level0 col11\" >native-country</th>        <th class=\"col_heading level0 col12\" >income</th>    </tr></thead><tbody>\n",
       "                <tr>\n",
       "                        <th id=\"T_b53cd3da_7d8b_11ea_bfbe_e97aee07b73alevel0_row0\" class=\"row_heading level0 row0\" >age</th>\n",
       "                        <td id=\"T_b53cd3da_7d8b_11ea_bfbe_e97aee07b73arow0_col0\" class=\"data row0 col0\" >1</td>\n",
       "                        <td id=\"T_b53cd3da_7d8b_11ea_bfbe_e97aee07b73arow0_col1\" class=\"data row0 col1\" >0.217739</td>\n",
       "                        <td id=\"T_b53cd3da_7d8b_11ea_bfbe_e97aee07b73arow0_col2\" class=\"data row0 col2\" >0.0586803</td>\n",
       "                        <td id=\"T_b53cd3da_7d8b_11ea_bfbe_e97aee07b73arow0_col3\" class=\"data row0 col3\" >-0.454441</td>\n",
       "                        <td id=\"T_b53cd3da_7d8b_11ea_bfbe_e97aee07b73arow0_col4\" class=\"data row0 col4\" >-0.1386</td>\n",
       "                        <td id=\"T_b53cd3da_7d8b_11ea_bfbe_e97aee07b73arow0_col5\" class=\"data row0 col5\" >0.419503</td>\n",
       "                        <td id=\"T_b53cd3da_7d8b_11ea_bfbe_e97aee07b73arow0_col6\" class=\"data row0 col6\" >0.0335908</td>\n",
       "                        <td id=\"T_b53cd3da_7d8b_11ea_bfbe_e97aee07b73arow0_col7\" class=\"data row0 col7\" >0.0820533</td>\n",
       "                        <td id=\"T_b53cd3da_7d8b_11ea_bfbe_e97aee07b73arow0_col8\" class=\"data row0 col8\" >0.0796832</td>\n",
       "                        <td id=\"T_b53cd3da_7d8b_11ea_bfbe_e97aee07b73arow0_col9\" class=\"data row0 col9\" >0.0593506</td>\n",
       "                        <td id=\"T_b53cd3da_7d8b_11ea_bfbe_e97aee07b73arow0_col10\" class=\"data row0 col10\" >0.101992</td>\n",
       "                        <td id=\"T_b53cd3da_7d8b_11ea_bfbe_e97aee07b73arow0_col11\" class=\"data row0 col11\" >0.0143068</td>\n",
       "                        <td id=\"T_b53cd3da_7d8b_11ea_bfbe_e97aee07b73arow0_col12\" class=\"data row0 col12\" >0.23704</td>\n",
       "            </tr>\n",
       "            <tr>\n",
       "                        <th id=\"T_b53cd3da_7d8b_11ea_bfbe_e97aee07b73alevel0_row1\" class=\"row_heading level0 row1\" >workclass</th>\n",
       "                        <td id=\"T_b53cd3da_7d8b_11ea_bfbe_e97aee07b73arow1_col0\" class=\"data row1 col0\" >0.217739</td>\n",
       "                        <td id=\"T_b53cd3da_7d8b_11ea_bfbe_e97aee07b73arow1_col1\" class=\"data row1 col1\" >1</td>\n",
       "                        <td id=\"T_b53cd3da_7d8b_11ea_bfbe_e97aee07b73arow1_col2\" class=\"data row1 col2\" >0.133974</td>\n",
       "                        <td id=\"T_b53cd3da_7d8b_11ea_bfbe_e97aee07b73arow1_col3\" class=\"data row1 col3\" >-0.163745</td>\n",
       "                        <td id=\"T_b53cd3da_7d8b_11ea_bfbe_e97aee07b73arow1_col4\" class=\"data row1 col4\" >-0.167951</td>\n",
       "                        <td id=\"T_b53cd3da_7d8b_11ea_bfbe_e97aee07b73arow1_col5\" class=\"data row1 col5\" >0.150539</td>\n",
       "                        <td id=\"T_b53cd3da_7d8b_11ea_bfbe_e97aee07b73arow1_col6\" class=\"data row1 col6\" >0.0238386</td>\n",
       "                        <td id=\"T_b53cd3da_7d8b_11ea_bfbe_e97aee07b73arow1_col7\" class=\"data row1 col7\" >0.101139</td>\n",
       "                        <td id=\"T_b53cd3da_7d8b_11ea_bfbe_e97aee07b73arow1_col8\" class=\"data row1 col8\" >0.0777996</td>\n",
       "                        <td id=\"T_b53cd3da_7d8b_11ea_bfbe_e97aee07b73arow1_col9\" class=\"data row1 col9\" >0.0417517</td>\n",
       "                        <td id=\"T_b53cd3da_7d8b_11ea_bfbe_e97aee07b73arow1_col10\" class=\"data row1 col10\" >0.134449</td>\n",
       "                        <td id=\"T_b53cd3da_7d8b_11ea_bfbe_e97aee07b73arow1_col11\" class=\"data row1 col11\" >-0.00354232</td>\n",
       "                        <td id=\"T_b53cd3da_7d8b_11ea_bfbe_e97aee07b73arow1_col12\" class=\"data row1 col12\" >0.147642</td>\n",
       "            </tr>\n",
       "            <tr>\n",
       "                        <th id=\"T_b53cd3da_7d8b_11ea_bfbe_e97aee07b73alevel0_row2\" class=\"row_heading level0 row2\" >education</th>\n",
       "                        <td id=\"T_b53cd3da_7d8b_11ea_bfbe_e97aee07b73arow2_col0\" class=\"data row2 col0\" >0.0586803</td>\n",
       "                        <td id=\"T_b53cd3da_7d8b_11ea_bfbe_e97aee07b73arow2_col1\" class=\"data row2 col1\" >0.133974</td>\n",
       "                        <td id=\"T_b53cd3da_7d8b_11ea_bfbe_e97aee07b73arow2_col2\" class=\"data row2 col2\" >1</td>\n",
       "                        <td id=\"T_b53cd3da_7d8b_11ea_bfbe_e97aee07b73arow2_col3\" class=\"data row2 col3\" >-0.0554813</td>\n",
       "                        <td id=\"T_b53cd3da_7d8b_11ea_bfbe_e97aee07b73arow2_col4\" class=\"data row2 col4\" >-0.456712</td>\n",
       "                        <td id=\"T_b53cd3da_7d8b_11ea_bfbe_e97aee07b73arow2_col5\" class=\"data row2 col5\" >0.138034</td>\n",
       "                        <td id=\"T_b53cd3da_7d8b_11ea_bfbe_e97aee07b73arow2_col6\" class=\"data row2 col6\" >0.0689475</td>\n",
       "                        <td id=\"T_b53cd3da_7d8b_11ea_bfbe_e97aee07b73arow2_col7\" class=\"data row2 col7\" >0.00383334</td>\n",
       "                        <td id=\"T_b53cd3da_7d8b_11ea_bfbe_e97aee07b73arow2_col8\" class=\"data row2 col8\" >0.125202</td>\n",
       "                        <td id=\"T_b53cd3da_7d8b_11ea_bfbe_e97aee07b73arow2_col9\" class=\"data row2 col9\" >0.0807377</td>\n",
       "                        <td id=\"T_b53cd3da_7d8b_11ea_bfbe_e97aee07b73arow2_col10\" class=\"data row2 col10\" >0.127059</td>\n",
       "                        <td id=\"T_b53cd3da_7d8b_11ea_bfbe_e97aee07b73arow2_col11\" class=\"data row2 col11\" >0.0729752</td>\n",
       "                        <td id=\"T_b53cd3da_7d8b_11ea_bfbe_e97aee07b73arow2_col12\" class=\"data row2 col12\" >0.322264</td>\n",
       "            </tr>\n",
       "            <tr>\n",
       "                        <th id=\"T_b53cd3da_7d8b_11ea_bfbe_e97aee07b73alevel0_row3\" class=\"row_heading level0 row3\" >marital-status</th>\n",
       "                        <td id=\"T_b53cd3da_7d8b_11ea_bfbe_e97aee07b73arow3_col0\" class=\"data row3 col0\" >-0.454441</td>\n",
       "                        <td id=\"T_b53cd3da_7d8b_11ea_bfbe_e97aee07b73arow3_col1\" class=\"data row3 col1\" >-0.163745</td>\n",
       "                        <td id=\"T_b53cd3da_7d8b_11ea_bfbe_e97aee07b73arow3_col2\" class=\"data row3 col2\" >-0.0554813</td>\n",
       "                        <td id=\"T_b53cd3da_7d8b_11ea_bfbe_e97aee07b73arow3_col3\" class=\"data row3 col3\" >1</td>\n",
       "                        <td id=\"T_b53cd3da_7d8b_11ea_bfbe_e97aee07b73arow3_col4\" class=\"data row3 col4\" >0.177894</td>\n",
       "                        <td id=\"T_b53cd3da_7d8b_11ea_bfbe_e97aee07b73arow3_col5\" class=\"data row3 col5\" >-0.735889</td>\n",
       "                        <td id=\"T_b53cd3da_7d8b_11ea_bfbe_e97aee07b73arow3_col6\" class=\"data row3 col6\" >-0.0914216</td>\n",
       "                        <td id=\"T_b53cd3da_7d8b_11ea_bfbe_e97aee07b73arow3_col7\" class=\"data row3 col7\" >-0.337054</td>\n",
       "                        <td id=\"T_b53cd3da_7d8b_11ea_bfbe_e97aee07b73arow3_col8\" class=\"data row3 col8\" >-0.0782122</td>\n",
       "                        <td id=\"T_b53cd3da_7d8b_11ea_bfbe_e97aee07b73arow3_col9\" class=\"data row3 col9\" >-0.0737803</td>\n",
       "                        <td id=\"T_b53cd3da_7d8b_11ea_bfbe_e97aee07b73arow3_col10\" class=\"data row3 col10\" >-0.238606</td>\n",
       "                        <td id=\"T_b53cd3da_7d8b_11ea_bfbe_e97aee07b73arow3_col11\" class=\"data row3 col11\" >-0.033846</td>\n",
       "                        <td id=\"T_b53cd3da_7d8b_11ea_bfbe_e97aee07b73arow3_col12\" class=\"data row3 col12\" >-0.417503</td>\n",
       "            </tr>\n",
       "            <tr>\n",
       "                        <th id=\"T_b53cd3da_7d8b_11ea_bfbe_e97aee07b73alevel0_row4\" class=\"row_heading level0 row4\" >occupation</th>\n",
       "                        <td id=\"T_b53cd3da_7d8b_11ea_bfbe_e97aee07b73arow4_col0\" class=\"data row4 col0\" >-0.1386</td>\n",
       "                        <td id=\"T_b53cd3da_7d8b_11ea_bfbe_e97aee07b73arow4_col1\" class=\"data row4 col1\" >-0.167951</td>\n",
       "                        <td id=\"T_b53cd3da_7d8b_11ea_bfbe_e97aee07b73arow4_col2\" class=\"data row4 col2\" >-0.456712</td>\n",
       "                        <td id=\"T_b53cd3da_7d8b_11ea_bfbe_e97aee07b73arow4_col3\" class=\"data row4 col3\" >0.177894</td>\n",
       "                        <td id=\"T_b53cd3da_7d8b_11ea_bfbe_e97aee07b73arow4_col4\" class=\"data row4 col4\" >1</td>\n",
       "                        <td id=\"T_b53cd3da_7d8b_11ea_bfbe_e97aee07b73arow4_col5\" class=\"data row4 col5\" >-0.222262</td>\n",
       "                        <td id=\"T_b53cd3da_7d8b_11ea_bfbe_e97aee07b73arow4_col6\" class=\"data row4 col6\" >-0.10264</td>\n",
       "                        <td id=\"T_b53cd3da_7d8b_11ea_bfbe_e97aee07b73arow4_col7\" class=\"data row4 col7\" >-0.0891961</td>\n",
       "                        <td id=\"T_b53cd3da_7d8b_11ea_bfbe_e97aee07b73arow4_col8\" class=\"data row4 col8\" >-0.102886</td>\n",
       "                        <td id=\"T_b53cd3da_7d8b_11ea_bfbe_e97aee07b73arow4_col9\" class=\"data row4 col9\" >-0.0815034</td>\n",
       "                        <td id=\"T_b53cd3da_7d8b_11ea_bfbe_e97aee07b73arow4_col10\" class=\"data row4 col10\" >-0.190621</td>\n",
       "                        <td id=\"T_b53cd3da_7d8b_11ea_bfbe_e97aee07b73arow4_col11\" class=\"data row4 col11\" >-0.0145987</td>\n",
       "                        <td id=\"T_b53cd3da_7d8b_11ea_bfbe_e97aee07b73arow4_col12\" class=\"data row4 col12\" >-0.336309</td>\n",
       "            </tr>\n",
       "            <tr>\n",
       "                        <th id=\"T_b53cd3da_7d8b_11ea_bfbe_e97aee07b73alevel0_row5\" class=\"row_heading level0 row5\" >relationship</th>\n",
       "                        <td id=\"T_b53cd3da_7d8b_11ea_bfbe_e97aee07b73arow5_col0\" class=\"data row5 col0\" >0.419503</td>\n",
       "                        <td id=\"T_b53cd3da_7d8b_11ea_bfbe_e97aee07b73arow5_col1\" class=\"data row5 col1\" >0.150539</td>\n",
       "                        <td id=\"T_b53cd3da_7d8b_11ea_bfbe_e97aee07b73arow5_col2\" class=\"data row5 col2\" >0.138034</td>\n",
       "                        <td id=\"T_b53cd3da_7d8b_11ea_bfbe_e97aee07b73arow5_col3\" class=\"data row5 col3\" >-0.735889</td>\n",
       "                        <td id=\"T_b53cd3da_7d8b_11ea_bfbe_e97aee07b73arow5_col4\" class=\"data row5 col4\" >-0.222262</td>\n",
       "                        <td id=\"T_b53cd3da_7d8b_11ea_bfbe_e97aee07b73arow5_col5\" class=\"data row5 col5\" >1</td>\n",
       "                        <td id=\"T_b53cd3da_7d8b_11ea_bfbe_e97aee07b73arow5_col6\" class=\"data row5 col6\" >0.0927869</td>\n",
       "                        <td id=\"T_b53cd3da_7d8b_11ea_bfbe_e97aee07b73arow5_col7\" class=\"data row5 col7\" >0.259078</td>\n",
       "                        <td id=\"T_b53cd3da_7d8b_11ea_bfbe_e97aee07b73arow5_col8\" class=\"data row5 col8\" >0.0771651</td>\n",
       "                        <td id=\"T_b53cd3da_7d8b_11ea_bfbe_e97aee07b73arow5_col9\" class=\"data row5 col9\" >0.0759254</td>\n",
       "                        <td id=\"T_b53cd3da_7d8b_11ea_bfbe_e97aee07b73arow5_col10\" class=\"data row5 col10\" >0.280541</td>\n",
       "                        <td id=\"T_b53cd3da_7d8b_11ea_bfbe_e97aee07b73arow5_col11\" class=\"data row5 col11\" >0.0201448</td>\n",
       "                        <td id=\"T_b53cd3da_7d8b_11ea_bfbe_e97aee07b73arow5_col12\" class=\"data row5 col12\" >0.383811</td>\n",
       "            </tr>\n",
       "            <tr>\n",
       "                        <th id=\"T_b53cd3da_7d8b_11ea_bfbe_e97aee07b73alevel0_row6\" class=\"row_heading level0 row6\" >race</th>\n",
       "                        <td id=\"T_b53cd3da_7d8b_11ea_bfbe_e97aee07b73arow6_col0\" class=\"data row6 col0\" >0.0335908</td>\n",
       "                        <td id=\"T_b53cd3da_7d8b_11ea_bfbe_e97aee07b73arow6_col1\" class=\"data row6 col1\" >0.0238386</td>\n",
       "                        <td id=\"T_b53cd3da_7d8b_11ea_bfbe_e97aee07b73arow6_col2\" class=\"data row6 col2\" >0.0689475</td>\n",
       "                        <td id=\"T_b53cd3da_7d8b_11ea_bfbe_e97aee07b73arow6_col3\" class=\"data row6 col3\" >-0.0914216</td>\n",
       "                        <td id=\"T_b53cd3da_7d8b_11ea_bfbe_e97aee07b73arow6_col4\" class=\"data row6 col4\" >-0.10264</td>\n",
       "                        <td id=\"T_b53cd3da_7d8b_11ea_bfbe_e97aee07b73arow6_col5\" class=\"data row6 col5\" >0.0927869</td>\n",
       "                        <td id=\"T_b53cd3da_7d8b_11ea_bfbe_e97aee07b73arow6_col6\" class=\"data row6 col6\" >1</td>\n",
       "                        <td id=\"T_b53cd3da_7d8b_11ea_bfbe_e97aee07b73arow6_col7\" class=\"data row6 col7\" >0.0998814</td>\n",
       "                        <td id=\"T_b53cd3da_7d8b_11ea_bfbe_e97aee07b73arow6_col8\" class=\"data row6 col8\" >0.0182426</td>\n",
       "                        <td id=\"T_b53cd3da_7d8b_11ea_bfbe_e97aee07b73arow6_col9\" class=\"data row6 col9\" >0.0256076</td>\n",
       "                        <td id=\"T_b53cd3da_7d8b_11ea_bfbe_e97aee07b73arow6_col10\" class=\"data row6 col10\" >0.0499572</td>\n",
       "                        <td id=\"T_b53cd3da_7d8b_11ea_bfbe_e97aee07b73arow6_col11\" class=\"data row6 col11\" >-0.104371</td>\n",
       "                        <td id=\"T_b53cd3da_7d8b_11ea_bfbe_e97aee07b73arow6_col12\" class=\"data row6 col12\" >0.0918853</td>\n",
       "            </tr>\n",
       "            <tr>\n",
       "                        <th id=\"T_b53cd3da_7d8b_11ea_bfbe_e97aee07b73alevel0_row7\" class=\"row_heading level0 row7\" >gender</th>\n",
       "                        <td id=\"T_b53cd3da_7d8b_11ea_bfbe_e97aee07b73arow7_col0\" class=\"data row7 col0\" >0.0820533</td>\n",
       "                        <td id=\"T_b53cd3da_7d8b_11ea_bfbe_e97aee07b73arow7_col1\" class=\"data row7 col1\" >0.101139</td>\n",
       "                        <td id=\"T_b53cd3da_7d8b_11ea_bfbe_e97aee07b73arow7_col2\" class=\"data row7 col2\" >0.00383334</td>\n",
       "                        <td id=\"T_b53cd3da_7d8b_11ea_bfbe_e97aee07b73arow7_col3\" class=\"data row7 col3\" >-0.337054</td>\n",
       "                        <td id=\"T_b53cd3da_7d8b_11ea_bfbe_e97aee07b73arow7_col4\" class=\"data row7 col4\" >-0.0891961</td>\n",
       "                        <td id=\"T_b53cd3da_7d8b_11ea_bfbe_e97aee07b73arow7_col5\" class=\"data row7 col5\" >0.259078</td>\n",
       "                        <td id=\"T_b53cd3da_7d8b_11ea_bfbe_e97aee07b73arow7_col6\" class=\"data row7 col6\" >0.0998814</td>\n",
       "                        <td id=\"T_b53cd3da_7d8b_11ea_bfbe_e97aee07b73arow7_col7\" class=\"data row7 col7\" >1</td>\n",
       "                        <td id=\"T_b53cd3da_7d8b_11ea_bfbe_e97aee07b73arow7_col8\" class=\"data row7 col8\" >0.0474443</td>\n",
       "                        <td id=\"T_b53cd3da_7d8b_11ea_bfbe_e97aee07b73arow7_col9\" class=\"data row7 col9\" >0.0464573</td>\n",
       "                        <td id=\"T_b53cd3da_7d8b_11ea_bfbe_e97aee07b73arow7_col10\" class=\"data row7 col10\" >0.231425</td>\n",
       "                        <td id=\"T_b53cd3da_7d8b_11ea_bfbe_e97aee07b73arow7_col11\" class=\"data row7 col11\" >0.00897227</td>\n",
       "                        <td id=\"T_b53cd3da_7d8b_11ea_bfbe_e97aee07b73arow7_col12\" class=\"data row7 col12\" >0.21576</td>\n",
       "            </tr>\n",
       "            <tr>\n",
       "                        <th id=\"T_b53cd3da_7d8b_11ea_bfbe_e97aee07b73alevel0_row8\" class=\"row_heading level0 row8\" >capital-gain</th>\n",
       "                        <td id=\"T_b53cd3da_7d8b_11ea_bfbe_e97aee07b73arow8_col0\" class=\"data row8 col0\" >0.0796832</td>\n",
       "                        <td id=\"T_b53cd3da_7d8b_11ea_bfbe_e97aee07b73arow8_col1\" class=\"data row8 col1\" >0.0777996</td>\n",
       "                        <td id=\"T_b53cd3da_7d8b_11ea_bfbe_e97aee07b73arow8_col2\" class=\"data row8 col2\" >0.125202</td>\n",
       "                        <td id=\"T_b53cd3da_7d8b_11ea_bfbe_e97aee07b73arow8_col3\" class=\"data row8 col3\" >-0.0782122</td>\n",
       "                        <td id=\"T_b53cd3da_7d8b_11ea_bfbe_e97aee07b73arow8_col4\" class=\"data row8 col4\" >-0.102886</td>\n",
       "                        <td id=\"T_b53cd3da_7d8b_11ea_bfbe_e97aee07b73arow8_col5\" class=\"data row8 col5\" >0.0771651</td>\n",
       "                        <td id=\"T_b53cd3da_7d8b_11ea_bfbe_e97aee07b73arow8_col6\" class=\"data row8 col6\" >0.0182426</td>\n",
       "                        <td id=\"T_b53cd3da_7d8b_11ea_bfbe_e97aee07b73arow8_col7\" class=\"data row8 col7\" >0.0474443</td>\n",
       "                        <td id=\"T_b53cd3da_7d8b_11ea_bfbe_e97aee07b73arow8_col8\" class=\"data row8 col8\" >1</td>\n",
       "                        <td id=\"T_b53cd3da_7d8b_11ea_bfbe_e97aee07b73arow8_col9\" class=\"data row8 col9\" >-0.0321023</td>\n",
       "                        <td id=\"T_b53cd3da_7d8b_11ea_bfbe_e97aee07b73arow8_col10\" class=\"data row8 col10\" >0.0838804</td>\n",
       "                        <td id=\"T_b53cd3da_7d8b_11ea_bfbe_e97aee07b73arow8_col11\" class=\"data row8 col11\" >0.00619914</td>\n",
       "                        <td id=\"T_b53cd3da_7d8b_11ea_bfbe_e97aee07b73arow8_col12\" class=\"data row8 col12\" >0.221034</td>\n",
       "            </tr>\n",
       "            <tr>\n",
       "                        <th id=\"T_b53cd3da_7d8b_11ea_bfbe_e97aee07b73alevel0_row9\" class=\"row_heading level0 row9\" >capital-loss</th>\n",
       "                        <td id=\"T_b53cd3da_7d8b_11ea_bfbe_e97aee07b73arow9_col0\" class=\"data row9 col0\" >0.0593506</td>\n",
       "                        <td id=\"T_b53cd3da_7d8b_11ea_bfbe_e97aee07b73arow9_col1\" class=\"data row9 col1\" >0.0417517</td>\n",
       "                        <td id=\"T_b53cd3da_7d8b_11ea_bfbe_e97aee07b73arow9_col2\" class=\"data row9 col2\" >0.0807377</td>\n",
       "                        <td id=\"T_b53cd3da_7d8b_11ea_bfbe_e97aee07b73arow9_col3\" class=\"data row9 col3\" >-0.0737803</td>\n",
       "                        <td id=\"T_b53cd3da_7d8b_11ea_bfbe_e97aee07b73arow9_col4\" class=\"data row9 col4\" >-0.0815034</td>\n",
       "                        <td id=\"T_b53cd3da_7d8b_11ea_bfbe_e97aee07b73arow9_col5\" class=\"data row9 col5\" >0.0759254</td>\n",
       "                        <td id=\"T_b53cd3da_7d8b_11ea_bfbe_e97aee07b73arow9_col6\" class=\"data row9 col6\" >0.0256076</td>\n",
       "                        <td id=\"T_b53cd3da_7d8b_11ea_bfbe_e97aee07b73arow9_col7\" class=\"data row9 col7\" >0.0464573</td>\n",
       "                        <td id=\"T_b53cd3da_7d8b_11ea_bfbe_e97aee07b73arow9_col8\" class=\"data row9 col8\" >-0.0321023</td>\n",
       "                        <td id=\"T_b53cd3da_7d8b_11ea_bfbe_e97aee07b73arow9_col9\" class=\"data row9 col9\" >1</td>\n",
       "                        <td id=\"T_b53cd3da_7d8b_11ea_bfbe_e97aee07b73arow9_col10\" class=\"data row9 col10\" >0.0541949</td>\n",
       "                        <td id=\"T_b53cd3da_7d8b_11ea_bfbe_e97aee07b73arow9_col11\" class=\"data row9 col11\" >0.00447851</td>\n",
       "                        <td id=\"T_b53cd3da_7d8b_11ea_bfbe_e97aee07b73arow9_col12\" class=\"data row9 col12\" >0.148687</td>\n",
       "            </tr>\n",
       "            <tr>\n",
       "                        <th id=\"T_b53cd3da_7d8b_11ea_bfbe_e97aee07b73alevel0_row10\" class=\"row_heading level0 row10\" >hours-per-week</th>\n",
       "                        <td id=\"T_b53cd3da_7d8b_11ea_bfbe_e97aee07b73arow10_col0\" class=\"data row10 col0\" >0.101992</td>\n",
       "                        <td id=\"T_b53cd3da_7d8b_11ea_bfbe_e97aee07b73arow10_col1\" class=\"data row10 col1\" >0.134449</td>\n",
       "                        <td id=\"T_b53cd3da_7d8b_11ea_bfbe_e97aee07b73arow10_col2\" class=\"data row10 col2\" >0.127059</td>\n",
       "                        <td id=\"T_b53cd3da_7d8b_11ea_bfbe_e97aee07b73arow10_col3\" class=\"data row10 col3\" >-0.238606</td>\n",
       "                        <td id=\"T_b53cd3da_7d8b_11ea_bfbe_e97aee07b73arow10_col4\" class=\"data row10 col4\" >-0.190621</td>\n",
       "                        <td id=\"T_b53cd3da_7d8b_11ea_bfbe_e97aee07b73arow10_col5\" class=\"data row10 col5\" >0.280541</td>\n",
       "                        <td id=\"T_b53cd3da_7d8b_11ea_bfbe_e97aee07b73arow10_col6\" class=\"data row10 col6\" >0.0499572</td>\n",
       "                        <td id=\"T_b53cd3da_7d8b_11ea_bfbe_e97aee07b73arow10_col7\" class=\"data row10 col7\" >0.231425</td>\n",
       "                        <td id=\"T_b53cd3da_7d8b_11ea_bfbe_e97aee07b73arow10_col8\" class=\"data row10 col8\" >0.0838804</td>\n",
       "                        <td id=\"T_b53cd3da_7d8b_11ea_bfbe_e97aee07b73arow10_col9\" class=\"data row10 col9\" >0.0541949</td>\n",
       "                        <td id=\"T_b53cd3da_7d8b_11ea_bfbe_e97aee07b73arow10_col10\" class=\"data row10 col10\" >1</td>\n",
       "                        <td id=\"T_b53cd3da_7d8b_11ea_bfbe_e97aee07b73arow10_col11\" class=\"data row10 col11\" >0.00338142</td>\n",
       "                        <td id=\"T_b53cd3da_7d8b_11ea_bfbe_e97aee07b73arow10_col12\" class=\"data row10 col12\" >0.227199</td>\n",
       "            </tr>\n",
       "            <tr>\n",
       "                        <th id=\"T_b53cd3da_7d8b_11ea_bfbe_e97aee07b73alevel0_row11\" class=\"row_heading level0 row11\" >native-country</th>\n",
       "                        <td id=\"T_b53cd3da_7d8b_11ea_bfbe_e97aee07b73arow11_col0\" class=\"data row11 col0\" >0.0143068</td>\n",
       "                        <td id=\"T_b53cd3da_7d8b_11ea_bfbe_e97aee07b73arow11_col1\" class=\"data row11 col1\" >-0.00354232</td>\n",
       "                        <td id=\"T_b53cd3da_7d8b_11ea_bfbe_e97aee07b73arow11_col2\" class=\"data row11 col2\" >0.0729752</td>\n",
       "                        <td id=\"T_b53cd3da_7d8b_11ea_bfbe_e97aee07b73arow11_col3\" class=\"data row11 col3\" >-0.033846</td>\n",
       "                        <td id=\"T_b53cd3da_7d8b_11ea_bfbe_e97aee07b73arow11_col4\" class=\"data row11 col4\" >-0.0145987</td>\n",
       "                        <td id=\"T_b53cd3da_7d8b_11ea_bfbe_e97aee07b73arow11_col5\" class=\"data row11 col5\" >0.0201448</td>\n",
       "                        <td id=\"T_b53cd3da_7d8b_11ea_bfbe_e97aee07b73arow11_col6\" class=\"data row11 col6\" >-0.104371</td>\n",
       "                        <td id=\"T_b53cd3da_7d8b_11ea_bfbe_e97aee07b73arow11_col7\" class=\"data row11 col7\" >0.00897227</td>\n",
       "                        <td id=\"T_b53cd3da_7d8b_11ea_bfbe_e97aee07b73arow11_col8\" class=\"data row11 col8\" >0.00619914</td>\n",
       "                        <td id=\"T_b53cd3da_7d8b_11ea_bfbe_e97aee07b73arow11_col9\" class=\"data row11 col9\" >0.00447851</td>\n",
       "                        <td id=\"T_b53cd3da_7d8b_11ea_bfbe_e97aee07b73arow11_col10\" class=\"data row11 col10\" >0.00338142</td>\n",
       "                        <td id=\"T_b53cd3da_7d8b_11ea_bfbe_e97aee07b73arow11_col11\" class=\"data row11 col11\" >1</td>\n",
       "                        <td id=\"T_b53cd3da_7d8b_11ea_bfbe_e97aee07b73arow11_col12\" class=\"data row11 col12\" >0.0239974</td>\n",
       "            </tr>\n",
       "            <tr>\n",
       "                        <th id=\"T_b53cd3da_7d8b_11ea_bfbe_e97aee07b73alevel0_row12\" class=\"row_heading level0 row12\" >income</th>\n",
       "                        <td id=\"T_b53cd3da_7d8b_11ea_bfbe_e97aee07b73arow12_col0\" class=\"data row12 col0\" >0.23704</td>\n",
       "                        <td id=\"T_b53cd3da_7d8b_11ea_bfbe_e97aee07b73arow12_col1\" class=\"data row12 col1\" >0.147642</td>\n",
       "                        <td id=\"T_b53cd3da_7d8b_11ea_bfbe_e97aee07b73arow12_col2\" class=\"data row12 col2\" >0.322264</td>\n",
       "                        <td id=\"T_b53cd3da_7d8b_11ea_bfbe_e97aee07b73arow12_col3\" class=\"data row12 col3\" >-0.417503</td>\n",
       "                        <td id=\"T_b53cd3da_7d8b_11ea_bfbe_e97aee07b73arow12_col4\" class=\"data row12 col4\" >-0.336309</td>\n",
       "                        <td id=\"T_b53cd3da_7d8b_11ea_bfbe_e97aee07b73arow12_col5\" class=\"data row12 col5\" >0.383811</td>\n",
       "                        <td id=\"T_b53cd3da_7d8b_11ea_bfbe_e97aee07b73arow12_col6\" class=\"data row12 col6\" >0.0918853</td>\n",
       "                        <td id=\"T_b53cd3da_7d8b_11ea_bfbe_e97aee07b73arow12_col7\" class=\"data row12 col7\" >0.21576</td>\n",
       "                        <td id=\"T_b53cd3da_7d8b_11ea_bfbe_e97aee07b73arow12_col8\" class=\"data row12 col8\" >0.221034</td>\n",
       "                        <td id=\"T_b53cd3da_7d8b_11ea_bfbe_e97aee07b73arow12_col9\" class=\"data row12 col9\" >0.148687</td>\n",
       "                        <td id=\"T_b53cd3da_7d8b_11ea_bfbe_e97aee07b73arow12_col10\" class=\"data row12 col10\" >0.227199</td>\n",
       "                        <td id=\"T_b53cd3da_7d8b_11ea_bfbe_e97aee07b73arow12_col11\" class=\"data row12 col11\" >0.0239974</td>\n",
       "                        <td id=\"T_b53cd3da_7d8b_11ea_bfbe_e97aee07b73arow12_col12\" class=\"data row12 col12\" >1</td>\n",
       "            </tr>\n",
       "    </tbody></table>"
      ],
      "text/plain": [
       "<pandas.io.formats.style.Styler at 0x22ab8bd2e88>"
      ]
     },
     "execution_count": 157,
     "metadata": {},
     "output_type": "execute_result"
    }
   ],
   "source": [
    "def color_negative_red(val):\n",
    "    color = 'red' if val < 0 else 'black'\n",
    "    return 'color: %s' % color\n",
    "\n",
    "def highlight_max(s):\n",
    "   \n",
    "    is_max = s == s.max()\n",
    "    return ['background-color: yellow' if v else '' for v in is_max]\n",
    "\n",
    "correlation.style.\\\n",
    "    applymap(color_negative_red).\\\n",
    "    apply(highlight_max)"
   ]
  },
  {
   "cell_type": "code",
   "execution_count": 158,
   "metadata": {},
   "outputs": [
    {
     "data": {
      "image/png": "[encoded data removed]",
      "text/plain": [
       "<Figure size 432x288 with 2 Axes>"
      ]
     },
     "metadata": {
      "needs_background": "light"
     },
     "output_type": "display_data"
    }
   ],
   "source": [
    "ax = sns.heatmap(\n",
    "    correlation, \n",
    "    vmin=-1, vmax=1, center=0,\n",
    "    cmap=sns.diverging_palette(20, 220, n=200),\n",
    "    square=True\n",
    ")\n",
    "ax.set_xticklabels(\n",
    "    ax.get_xticklabels(),\n",
    "    rotation=45,\n",
    "    horizontalalignment='right'\n",
    ");"
   ]
  },
  {
   "cell_type": "markdown",
   "metadata": {},
   "source": [
    "#  Krijimi i Logistic Regression Modelit"
   ]
  },
  {
   "cell_type": "markdown",
   "metadata": {},
   "source": [
    "Ndarja e datasetit ne dy tipe te variablave (X(independent), y(dependent))"
   ]
  },
  {
   "cell_type": "code",
   "execution_count": 159,
   "metadata": {},
   "outputs": [],
   "source": [
    "X = df_adult[['age','workclass','education','marital-status','occupation','relationship','race','gender','capital-gain','capital-loss','hours-per-week','native-country']]\n",
    "y = df_adult['income']"
   ]
  },
  {
   "cell_type": "markdown",
   "metadata": {},
   "source": [
    "Ndarja e datasetit ne training set dhe test set"
   ]
  },
  {
   "cell_type": "code",
   "execution_count": 160,
   "metadata": {},
   "outputs": [],
   "source": [
    "X_train, X_test, y_train, y_test = train_test_split(X, y, test_size = 0.30,random_state=1)"
   ]
  },
  {
   "cell_type": "markdown",
   "metadata": {},
   "source": [
    "Instancimi i Logistic regression modelit dhe trajnimi i tij permes funksionit fit()."
   ]
  },
  {
   "cell_type": "code",
   "execution_count": 161,
   "metadata": {},
   "outputs": [],
   "source": [
    "logreg_model = LogisticRegression(tol=0.000001)"
   ]
  },
  {
   "cell_type": "code",
   "execution_count": 162,
   "metadata": {},
   "outputs": [
    {
     "data": {
      "text/plain": [
       "LogisticRegression(C=1.0, class_weight=None, dual=False, fit_intercept=True,\n",
       "                   intercept_scaling=1, l1_ratio=None, max_iter=100,\n",
       "                   multi_class='warn', n_jobs=None, penalty='l2',\n",
       "                   random_state=None, solver='warn', tol=1e-06, verbose=0,\n",
       "                   warm_start=False)"
      ]
     },
     "execution_count": 162,
     "metadata": {},
     "output_type": "execute_result"
    }
   ],
   "source": [
    "logreg_model.fit(X_train, y_train)"
   ]
  },
  {
   "cell_type": "markdown",
   "metadata": {},
   "source": [
    "Predikimi i vlerave testuese"
   ]
  },
  {
   "cell_type": "code",
   "execution_count": 163,
   "metadata": {},
   "outputs": [],
   "source": [
    "y_prediction = logreg_model.predict(X_test)"
   ]
  },
  {
   "cell_type": "markdown",
   "metadata": {},
   "source": [
    "Evaluimi i Logistic Regression modelit permes Confussion Matrix"
   ]
  },
  {
   "cell_type": "code",
   "execution_count": 164,
   "metadata": {},
   "outputs": [],
   "source": [
    "from sklearn.metrics import classification_report, confusion_matrix"
   ]
  },
  {
   "cell_type": "code",
   "execution_count": 165,
   "metadata": {},
   "outputs": [],
   "source": [
    "confusion_matrix = metrics.confusion_matrix(y_test, y_prediction)"
   ]
  },
  {
   "cell_type": "code",
   "execution_count": 166,
   "metadata": {},
   "outputs": [
    {
     "name": "stdout",
     "output_type": "stream",
     "text": [
      "[[9426  766]\n",
      " [1349 2026]]\n"
     ]
    }
   ],
   "source": [
    "print(confusion_matrix)"
   ]
  },
  {
   "cell_type": "markdown",
   "metadata": {},
   "source": [
    "Vizualizimi i matrices se konfuzionit"
   ]
  },
  {
   "cell_type": "code",
   "execution_count": 167,
   "metadata": {},
   "outputs": [
    {
     "data": {
      "image/png": "[encoded data removed]",
      "text/plain": [
       "<Figure size 432x288 with 1 Axes>"
      ]
     },
     "metadata": {
      "needs_background": "light"
     },
     "output_type": "display_data"
    }
   ],
   "source": [
    "plt.clf()\n",
    "plt.imshow(confusion_matrix, interpolation='nearest', cmap=\"Purples\")\n",
    "classNames = ['0','1']\n",
    "plt.ylabel('Actual')\n",
    "plt.xlabel('Predicted')\n",
    "tick_marks = np.arange(len(classNames))\n",
    "plt.xticks(tick_marks, classNames)\n",
    "plt.yticks(tick_marks, classNames)\n",
    "s = [['TN','FP'], ['FN', 'TP']]\n",
    "for i in range(2):\n",
    "    for j in range(2):\n",
    "        plt.text(j,i, str(s[i][j])+\" = \"+str(confusion_matrix[i][j]))\n",
    "plt.show()"
   ]
  },
  {
   "cell_type": "markdown",
   "metadata": {},
   "source": [
    "Performanca e modelit"
   ]
  },
  {
   "cell_type": "code",
   "execution_count": 168,
   "metadata": {},
   "outputs": [
    {
     "name": "stdout",
     "output_type": "stream",
     "text": [
      "Accuracy: 0.8441070243974349\n",
      "Precision: 0.7256446991404012\n",
      "Recall: 0.6002962962962963\n"
     ]
    }
   ],
   "source": [
    "print(\"Accuracy:\",metrics.accuracy_score(y_test, y_prediction))\n",
    "print(\"Precision:\",metrics.precision_score(y_test, y_prediction))\n",
    "print(\"Recall:\",metrics.recall_score(y_test, y_prediction))"
   ]
  },
  {
   "cell_type": "markdown",
   "metadata": {},
   "source": [
    "AUC-ROC curve"
   ]
  },
  {
   "cell_type": "code",
   "execution_count": 169,
   "metadata": {},
   "outputs": [
    {
     "data": {
      "image/png": "[encoded data removed]",
      "text/plain": [
       "<Figure size 432x288 with 1 Axes>"
      ]
     },
     "metadata": {
      "needs_background": "light"
     },
     "output_type": "display_data"
    }
   ],
   "source": [
    "y_pred_proba = logreg_model.predict_proba(X_test)[::,1]\n",
    "fpr, tpr, _ = metrics.roc_curve(y_test,  y_pred_proba)\n",
    "auc = metrics.roc_auc_score(y_test, y_pred_proba)\n",
    "plt.title('AUC-ROC Curve')\n",
    "plt.ylabel('TPR')\n",
    "plt.xlabel('FPR')\n",
    "plt.plot(fpr,tpr,label=\"data 1, auc=\"+str(auc))\n",
    "plt.legend(loc=4)\n",
    "plt.show()"
   ]
  }
 ],
 "metadata": {
  "kernelspec": {
   "display_name": "Python 3",
   "language": "python",
   "name": "python3"
  },
  "language_info": {
   "codemirror_mode": {
    "name": "ipython",
    "version": 3
   },
   "file_extension": ".py",
   "mimetype": "text/x-python",
   "name": "python",
   "nbconvert_exporter": "python",
   "pygments_lexer": "ipython3",
   "version": "3.7.4"
  }
 },
 "nbformat": 4,
 "nbformat_minor": 2
}
